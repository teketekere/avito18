{
 "cells": [
  {
   "cell_type": "code",
   "execution_count": 35,
   "metadata": {},
   "outputs": [],
   "source": [
    "import pandas as pd\n",
    "import numpy as np\n",
    "import matplotlib.pyplot as plt\n",
    "import gc\n",
    "import os\n",
    "import pickle\n",
    "from datetime import datetime as dt\n",
    "%matplotlib inline\n",
    "\n",
    "import lightgbm as lgb\n",
    "from sklearn.model_selection import KFold\n",
    "from sklearn.preprocessing import LabelEncoder\n",
    "\n",
    "categorical = ['region',\n",
    " 'city',\n",
    " 'parent_category_name',\n",
    " 'category_name',\n",
    " 'param_1',\n",
    " 'user_type',\n",
    " 'param_123'\n",
    "              ]\n",
    "NFOLDS = 3\n",
    "Seedarray = range(NFOLDS)"
   ]
  },
  {
   "cell_type": "code",
   "execution_count": 37,
   "metadata": {},
   "outputs": [],
   "source": [
    "def rmse(y, y0):\n",
    "    assert len(y) == len(y0)\n",
    "    return np.sqrt(np.mean(np.power((y - y0), 2)))\n",
    "\n",
    "def get_lgb_model(Dtrain, Dvalid, numiter=1500, isValid=True, randomseed=0):\n",
    "    lgbm_params = {'task': 'train',\n",
    "                    'boosting_type': 'gbdt',\n",
    "                    'objective': 'regression',\n",
    "                    'metric': 'rmse',\n",
    "                    #'max_depth': 15,\n",
    "                    'num_leaves': 270,\n",
    "                    'feature_fraction': 0.5,\n",
    "                    'bagging_fraction': 0.75,\n",
    "                    'bagging_freq': 2,\n",
    "                    'learning_rate': 0.016,\n",
    "                    'max_bin': 255,\n",
    "                    'seed': randomseed\n",
    "                  }\n",
    "    evals_results = {}\n",
    "    # Train lgb\n",
    "    if isValid == True:\n",
    "        lgb_clf = lgb.train(lgbm_params,\n",
    "                            Dtrain,\n",
    "                            valid_sets=[Dvalid],\n",
    "                            valid_names=['valid'],\n",
    "                            num_boost_round=numiter,\n",
    "                            early_stopping_rounds=50,\n",
    "                            verbose_eval=50,\n",
    "                            evals_result=evals_results,\n",
    "                            feval=None\n",
    "                           )\n",
    "    else:\n",
    "        lgb_clf = lgb.train(lgbm_params,\n",
    "                            Dtrain,\n",
    "                            valid_sets=[Dvalid],\n",
    "                            valid_names=['valid'],\n",
    "                            num_boost_round=numiter,\n",
    "                            verbose_eval=100,\n",
    "                            feval=None\n",
    "                           )\n",
    "    # Plot importances\n",
    "    lgb.plot_importance(lgb_clf, importance_type=\"split\", title=\"split\", figsize=(16, 16))\n",
    "    plt.show()\n",
    "    lgb.plot_importance(lgb_clf, importance_type=\"gain\", title='gain', figsize=(16, 16))\n",
    "    plt.show()\n",
    "\n",
    "    best_iteration = lgb_clf.best_iteration\n",
    "    print(f'best iteration is {best_iteration}')\n",
    "    if isValid:\n",
    "        best_score = evals_results['valid']['rmse'][lgb_clf.best_iteration-1]\n",
    "        print(f'best score is {best_score}')\n",
    "    return lgb_clf, best_iteration\n",
    "\n",
    "def get_lgb_train(trainX, trainy, validX, validy, predictors, categorical):\n",
    "    Dtrain = lgb.Dataset(trainX.values, label=trainy.values.ravel(), feature_name=predictors, categorical_feature=categorical)\n",
    "    Dvalid = lgb.Dataset(validX.values, label=validy.values.ravel(), feature_name=predictors, categorical_feature=categorical)\n",
    "    return Dtrain, Dvalid\n"
   ]
  },
  {
   "cell_type": "code",
   "execution_count": 27,
   "metadata": {},
   "outputs": [
    {
     "data": {
      "text/plain": [
       "1"
      ]
     },
     "execution_count": 27,
     "metadata": {},
     "output_type": "execute_result"
    }
   ],
   "source": [
    "# Example For KFold\n",
    "EnableSubmit = False\n",
    "NFOLDS = 3\n",
    "numiter = 500\n",
    "\n",
    "# DODODODODODO\n",
    "train = pd.read_csv('./hoge.csv')\n",
    "y = pd.read_csv('../input/train.csv', usecols=['deal_probability'])\n",
    "\n",
    "\n",
    "kf = KFold(n_splits=NFOLDS)\n",
    "lgb_models = []\n",
    "best_iters = []\n",
    "feature_imp_split = []\n",
    "feature_imp_gain = []\n",
    "preds = pd.DataFrame()\n",
    "print(train.shape)\n",
    "print(y.shape)\n",
    "predictors = train.columns.tolist()\n",
    "\n",
    "for count, indices in enumerate(kf.split(train, y)):\n",
    "    train_idx = indices[0]\n",
    "    valid_idx = indices[1]\n",
    "    Dtrain, Dvalid = get_lgb_train(train.iloc[train_idx,:], y.iloc[train_idx,:], train.iloc[valid_idx,:], y.iloc[valid_idx,:], predictors, categorical)\n",
    "    del train, y; gc.collect()\n",
    "    lgb_model, bestiter = get_lgb_model(Dtrain, Dvalid, numiter=numiter, isValid=True, randomseed=76)\n",
    "    del Dtrain, Dvalid; gc.collect()\n",
    "\n",
    "    # DODODODO\n",
    "    if EnableSubmit == True:\n",
    "        test = pd.read_csv('./hofe')\n",
    "        preds['lgb_pred_kfold_'+str(count)] = lgb_model.predict(test[predictors], num_iteration=bestiter)\n",
    "        del test; gc.collect()\n",
    "    \n",
    "    lgb_models.append(lgb_model)\n",
    "    best_iters.append(bestiter)\n",
    "    fcols = lgb_model.feature_name()\n",
    "    fimps = lgb_model.feature_importance(importance_type='split')\n",
    "    feature_imp_split.append({fcol: fimp for fimp, fcol in zip(fimps, fcols)})\n",
    "    fimps = lgb_model.feature_importance(importance_type='gain')\n",
    "    feature_imp_gain.append({fcol: fimp for fimp, fcol in zip(fimps, fcols)})\n",
    "    \n",
    "    # DODDODODOO\n",
    "    train = pd.read_feather('hoge')\n",
    "    y = pd.read_csv('../input/train.csv', usecols=['deal_probability'])\n",
    "\n",
    "del train, y\n",
    "gc.collect()\n",
    "\n",
    "print('Best iterations:')\n",
    "print(best_iters)\n",
    "\n",
    "datetime = dt.now().strftime('%Y_%m%d_%H%M_%S')\n",
    "fileprefix = '../subs/lightgbm_kfold_ensemble_'\n",
    "\n",
    "if EnableSubmit == True:\n",
    "    subs = pd.read_csv('../input/test.csv', usecols=['item_id'])\n",
    "\n",
    "    pred_ensemble = np.zeros_like(preds['lgb_pred_kfold_0'].values)\n",
    "    for col in preds.columns:\n",
    "        pred_ensemble += (np.log(preds[col]).values) / np.float(NFOLDS)\n",
    "    pred_ensemble = np.exp(pred_ensemble)\n",
    "    pred_ensemble = np.clip(pred_ensemble, 0, 1)\n",
    "    subs['deal_probability'] = pred_ensemble.flatten()\n",
    "\n",
    "\n",
    "    filename = fileprefix+datetime+'.csv.gz'\n",
    "    subs.to_csv(filename, index=False, float_format='%.9f', compression='gzip')\n",
    "\n",
    "    del subs; gc.collect()\n",
    "#del lgb_models, best_iters, feature_imp_split, feature_imp_gain; gc.collect()\n"
   ]
  },
  {
   "cell_type": "code",
   "execution_count": null,
   "metadata": {},
   "outputs": [],
   "source": [
    "# Example For whole traindata\n",
    "EnableSubmit = False\n",
    "numiter = 500\n",
    "#numiter = np.uint(np.mean(best_iters)* 1.1)\n",
    "print('WHOLE TRAIN: ', numiter)\n",
    "    \n",
    "# DODODDODO\n",
    "train = pd.read_feather('hoge')\n",
    "y = pd.read_csv('../input/train.csv', usecols=['deal_probability'])\n",
    "predictors = train.columns.tolist()\n",
    "print(train.shape)\n",
    "print(y.shape)\n",
    "\n",
    "Dtrain, Dvalid = get_lgb_train(train, y, train.iloc[:2, :], y.iloc[:2, :], predictors, categorical)\n",
    "del train, y; gc.collect()\n",
    "lgb_model, best_iter = get_lgb_model(Dtrain, Dvalid, numiter=numiter, isValid=False, randomseed=98)\n",
    "del Dtrain; gc.collect()\n",
    "\n",
    "feature_imp_split = []\n",
    "feature_imp_gain = []\n",
    "fcols = lgb_model.feature_name()\n",
    "fimps = lgb_model.feature_importance(importance_type='split')\n",
    "feature_imp_split.append({fcol: fimp for fimp, fcol in zip(fimps, fcols)})\n",
    "fimps = lgb_model.feature_importance(importance_type='gain')\n",
    "feature_imp_gain.append({fcol: fimp for fimp, fcol in zip(fimps, fcols)})\n",
    "\n",
    "datetime = dt.now().strftime('%Y_%m%d_%H%M_%S')\n",
    "fileprefix = '../subs/lightgbm_kfold_ensemble_'\n",
    "\n",
    "if EnableSubmit == True:\n",
    "    subs = pd.read_csv('../input/test.csv', usecols=['item_id'])\n",
    "    # DODODDODODODO\n",
    "    test = pd.read_feather('../features/featured/test/hoge.feather')\n",
    "    subs['deal_probability'] = lgb_model.predict(test[predictors], num_iteration=best_iter)\n",
    "\n",
    "    filename = fileprefix+datetime+'.csv.gz'\n",
    "    subs.to_csv(filename, index=False, float_format='%.9f', compression='gzip')\n",
    "    del subs, test; gc.collect()\n",
    "\n",
    "#del feature_imp_split, feature_imp_gain, lgb_model"
   ]
  },
  {
   "cell_type": "code",
   "execution_count": null,
   "metadata": {},
   "outputs": [],
   "source": []
  },
  {
   "cell_type": "code",
   "execution_count": null,
   "metadata": {},
   "outputs": [],
   "source": []
  },
  {
   "cell_type": "code",
   "execution_count": 30,
   "metadata": {},
   "outputs": [
    {
     "name": "stdout",
     "output_type": "stream",
     "text": [
      "['price', 'image_top_1']\n",
      "(1275576, 2)\n",
      "(227848, 2)\n"
     ]
    },
    {
     "name": "stderr",
     "output_type": "stream",
     "text": [
      "C:\\Users\\osk\\Anaconda3\\envs\\InqueryAnalysis\\lib\\site-packages\\lightgbm\\basic.py:1036: UserWarning: Using categorical_feature in Dataset.\n",
      "  warnings.warn('Using categorical_feature in Dataset.')\n"
     ]
    },
    {
     "name": "stdout",
     "output_type": "stream",
     "text": [
      "Training until validation scores don't improve for 50 rounds.\n",
      "[50]\tvalid's rmse: 0.249281\n",
      "[100]\tvalid's rmse: 0.245912\n",
      "Did not meet early stopping. Best iteration is:\n",
      "[100]\tvalid's rmse: 0.245912\n"
     ]
    },
    {
     "data": {
      "image/png": "[encoded data removed]",
      "text/plain": [
       "<Figure size 432x288 with 1 Axes>"
      ]
     },
     "metadata": {},
     "output_type": "display_data"
    },
    {
     "data": {
      "image/png": "[encoded data removed]",
      "text/plain": [
       "<Figure size 432x288 with 1 Axes>"
      ]
     },
     "metadata": {},
     "output_type": "display_data"
    },
    {
     "name": "stdout",
     "output_type": "stream",
     "text": [
      "best iteration is 100\n",
      "best score is 0.24591241735375752\n",
      "Best iterations:\n",
      "[100]\n",
      "Feature Importtance Split\n",
      "[{'price': 12700, 'image_top_1': 12700}]\n",
      "Feature Importtance Gain\n",
      "[{'price': 36118.481109723456, 'image_top_1': 157664.50829423135}]\n",
      "done\n"
     ]
    }
   ],
   "source": [
    "# Debug For Avito2018\n",
    "train = pd.read_csv('../input/train.csv', usecols=['price', 'image_top_1', 'activation_date'], parse_dates=['activation_date'],\n",
    "                    dtype={'price': 'float32', 'image_top_1': 'float32'})\n",
    "train = train.fillna(0)\n",
    "y = pd.read_csv('../input/train.csv', usecols=['deal_probability'])\n",
    "\n",
    "training_index   = train.loc[train.activation_date <= pd.to_datetime('2017-03-26')].index\n",
    "validation_index = train.loc[train.activation_date >= pd.to_datetime('2017-03-27')].index\n",
    "split_indices = [[training_index, validation_index]]\n",
    "train.drop(['activation_date'], axis=1, inplace=True)\n",
    "gc.collect()\n",
    "\n",
    "lgb_models = []\n",
    "best_iters = []\n",
    "feature_imp_split = []\n",
    "feature_imp_gain = []\n",
    "preds = pd.DataFrame()\n",
    "predictors = train.columns.tolist()\n",
    "\n",
    "print(predictors)\n",
    "for count, indices in enumerate(split_indices):\n",
    "    train_idx = indices[0]\n",
    "    valid_idx = indices[1]\n",
    "    Dtrain, Dvalid = get_lgb_train(train.iloc[train_idx,:], y.iloc[train_idx,:], train.iloc[valid_idx,:], y.iloc[valid_idx,:], predictors, categorical)\n",
    "    del train, y; gc.collect()\n",
    "    print(Dtrain.data.shape)\n",
    "    print(Dvalid.data.shape)\n",
    "    lgb_model, best_iter = get_lgb_model(Dtrain, Dvalid, numiter=100, isValid=True, randomseed=123)\n",
    "    del Dtrain, Dvalid; gc.collect()\n",
    "\n",
    "    test = pd.read_csv('../input/test.csv', usecols=['price', 'image_top_1'], dtype={'price': 'float32', 'image_top_1': 'float32'})\n",
    "    preds['lgb_pred_kfold_'+str(count)] = lgb_model.predict(test[predictors], num_iteration=best_iter)\n",
    "    del test; gc.collect()\n",
    "    \n",
    "    lgb_models.append(lgb_model)\n",
    "    best_iters.append(best_iter)\n",
    "    fcols = lgb_model.feature_name()\n",
    "    fimps = lgb_model.feature_importance(importance_type='split')\n",
    "    feature_imp_split.append({fcol: fimp for fimp, fcol in zip(fimps, fcols)})\n",
    "    fimps = lgb_model.feature_importance(importance_type='gain')\n",
    "    feature_imp_gain.append({fcol: fimp for fimp, fcol in zip(fimps, fcols)})\n",
    "    \n",
    "    train = pd.read_csv('../input/train.csv', usecols=['price', 'image_top_1'], dtype={'price': 'float32', 'image_top_1': 'float32'})\n",
    "    train = train.fillna(0)\n",
    "    y = pd.read_csv('../input/train.csv', usecols=['deal_probability'])\n",
    "\n",
    "del train, y\n",
    "gc.collect()\n",
    "\n",
    "print('Best iterations:')\n",
    "print(best_iters)\n",
    "print('Feature Importtance Split')\n",
    "print(feature_imp_split)\n",
    "print('Feature Importtance Gain')\n",
    "print(feature_imp_gain)\n",
    "\n",
    "subs = pd.read_csv('../input/test.csv', usecols=['item_id'])\n",
    "\n",
    "pred_ensemble = np.zeros_like(preds['lgb_pred_kfold_0'].values)\n",
    "for col in preds.columns:\n",
    "    pred_ensemble += preds[col].values\n",
    "pred_ensemble /= np.float(NFOLDS)\n",
    "pred_ensemble = np.clip(pred_ensemble, 0, 1)\n",
    "subs['deal_probability'] = pred_ensemble.flatten()\n",
    "\n",
    "datetime = dt.now().strftime('%Y_%m%d_%H%M_%S')\n",
    "fileprefix = '../subs/lightgbm_kfold_ensemble_'\n",
    "filename = fileprefix+datetime+'.csv.gz'\n",
    "subs.to_csv(filename, index=False, float_format='%.9f', compression='gzip',)\n",
    "with open(fileprefix+datetime+'_fimp_split.pickle', 'wb') as f:\n",
    "    pickle.dump(feature_imp_split, f)\n",
    "with open(fileprefix+datetime+'_fimp_gain.pickle', 'wb') as f:\n",
    "    pickle.dump(feature_imp_gain, f)\n",
    "    \n",
    "del subs, lgb_models, best_iters; gc.collect()\n",
    "\n",
    "print('done')"
   ]
  },
  {
   "cell_type": "code",
   "execution_count": 31,
   "metadata": {},
   "outputs": [
    {
     "name": "stdout",
     "output_type": "stream",
     "text": [
      "['price', 'image_top_1']\n",
      "Training until validation scores don't improve for 50 rounds.\n"
     ]
    },
    {
     "name": "stderr",
     "output_type": "stream",
     "text": [
      "C:\\Users\\osk\\Anaconda3\\envs\\InqueryAnalysis\\lib\\site-packages\\lightgbm\\basic.py:1036: UserWarning: Using categorical_feature in Dataset.\n",
      "  warnings.warn('Using categorical_feature in Dataset.')\n"
     ]
    },
    {
     "name": "stdout",
     "output_type": "stream",
     "text": [
      "[50]\tvalid's rmse: 0.252395\n",
      "[100]\tvalid's rmse: 0.249167\n",
      "[150]\tvalid's rmse: 0.247827\n",
      "[200]\tvalid's rmse: 0.247183\n",
      "Did not meet early stopping. Best iteration is:\n",
      "[200]\tvalid's rmse: 0.247183\n"
     ]
    },
    {
     "data": {
      "image/png": "[encoded data removed]",
      "text/plain": [
       "<Figure size 432x288 with 1 Axes>"
      ]
     },
     "metadata": {},
     "output_type": "display_data"
    },
    {
     "data": {
      "image/png": "[encoded data removed]",
      "text/plain": [
       "<Figure size 432x288 with 1 Axes>"
      ]
     },
     "metadata": {},
     "output_type": "display_data"
    },
    {
     "name": "stdout",
     "output_type": "stream",
     "text": [
      "best iteration is 200\n",
      "best score is 0.24718323691465693\n",
      "Training until validation scores don't improve for 50 rounds.\n",
      "[50]\tvalid's rmse: 0.25197\n",
      "[100]\tvalid's rmse: 0.248738\n",
      "[150]\tvalid's rmse: 0.247407\n",
      "[200]\tvalid's rmse: 0.246756\n",
      "Did not meet early stopping. Best iteration is:\n",
      "[200]\tvalid's rmse: 0.246756\n"
     ]
    },
    {
     "data": {
      "image/png": "[encoded data removed]",
      "text/plain": [
       "<Figure size 432x288 with 1 Axes>"
      ]
     },
     "metadata": {},
     "output_type": "display_data"
    },
    {
     "data": {
      "image/png": "[encoded data removed]",
      "text/plain": [
       "<Figure size 432x288 with 1 Axes>"
      ]
     },
     "metadata": {},
     "output_type": "display_data"
    },
    {
     "name": "stdout",
     "output_type": "stream",
     "text": [
      "best iteration is 200\n",
      "best score is 0.24675563269041953\n",
      "Best iterations:\n",
      "[200, 200]\n",
      "Best iterations:\n",
      "[200, 200]\n",
      "Feature Importtance Split\n",
      "[{'price': 23592, 'image_top_1': 25400}, {'price': 23796, 'image_top_1': 25300}]\n",
      "Feature Importtance Gain\n",
      "[{'price': 2194.758231840886, 'image_top_1': 7967.553445522879}, {'price': 2240.092510456321, 'image_top_1': 7950.578621412944}]\n",
      "done\n"
     ]
    }
   ],
   "source": [
    "# Debug\n",
    "train = pd.read_csv('../input/train.csv', usecols=['price', 'image_top_1'], nrows=100000, dtype={'price': 'float32', 'image_top_1': 'float32'})\n",
    "train = train.fillna(0)\n",
    "y = pd.read_csv('../input/train.csv', usecols=['deal_probability'], nrows=100000)\n",
    "predictors = train.columns.tolist()\n",
    "\n",
    "skf = KFold(n_splits=2)\n",
    "lgb_models = []\n",
    "best_iters = []\n",
    "feature_imp_split = []\n",
    "feature_imp_gain = []\n",
    "preds = pd.DataFrame()\n",
    "count = 0\n",
    "\n",
    "print(predictors)\n",
    "for count, indices in enumerate(skf.split(train, y)):\n",
    "    train_idx = indices[0]\n",
    "    valid_idx = indices[1]\n",
    "    Dtrain, Dvalid = get_lgb_train(train.iloc[train_idx,:], y.iloc[train_idx,:], train.iloc[valid_idx,:], y.iloc[valid_idx,:], predictors, categorical)\n",
    "    del train, y; gc.collect()\n",
    "    lgb_model, best_iter = get_lgb_model(Dtrain, Dvalid, numiter=200, isValid=True, randomseed=34+count)\n",
    "    del Dtrain, Dvalid; gc.collect()\n",
    "\n",
    "    test = pd.read_csv('../input/test.csv', usecols=['price', 'image_top_1'], nrows=100000, dtype={'price': 'float32', 'image_top_1': 'float32'})\n",
    "    preds['lgb_pred_kfold_'+str(count)] = lgb_model.predict(test[predictors], num_iteration=best_iter)\n",
    "    del test; gc.collect()\n",
    "    \n",
    "    lgb_models.append(lgb_model)\n",
    "    best_iters.append(best_iter)\n",
    "    fcols = lgb_model.feature_name()\n",
    "    fimps = lgb_model.feature_importance(importance_type='split')\n",
    "    feature_imp_split.append({fcol: fimp for fimp, fcol in zip(fimps, fcols)})\n",
    "    fimps = lgb_model.feature_importance(importance_type='gain')\n",
    "    feature_imp_gain.append({fcol: fimp for fimp, fcol in zip(fimps, fcols)})\n",
    "\n",
    "    train = pd.read_csv('../input/train.csv', usecols=['price', 'image_top_1'], nrows=100000, dtype={'price': np.float32, 'image_top_1': np.float32})\n",
    "    train.fillna(0)\n",
    "    y = pd.read_csv('../input/train.csv', usecols=['deal_probability'], nrows=100000)\n",
    "\n",
    "del train, y\n",
    "gc.collect()\n",
    "\n",
    "print('Best iterations:')\n",
    "print(best_iters)\n",
    "print('Feature Importtance Split')\n",
    "print(feature_imp_split)\n",
    "print('Feature Importtance Gain')\n",
    "print(feature_imp_gain)\n",
    "\n",
    "subs = pd.read_csv('../input/test.csv', usecols=['item_id'], nrows=100000)\n",
    "\n",
    "pred_ensemble = np.zeros_like(preds['lgb_pred_kfold_0'].values)\n",
    "for col in preds.columns:\n",
    "    pred_ensemble += preds[col].values\n",
    "pred_ensemble /= np.float(NFOLDS)\n",
    "pred_ensemble = np.clip(pred_ensemble, 0, 1)\n",
    "subs['deal_probability'] = pred_ensemble.flatten()\n",
    "\n",
    "datetime = dt.now().strftime('%Y_%m%d_%H%M_%S')\n",
    "fileprefix = '../subs/lightgbm_kfold_ensemble_'\n",
    "filename = fileprefix+datetime+'.csv.gz'\n",
    "subs.to_csv(filename, index=False, float_format='%.9f', compression='gzip')\n",
    "with open(fileprefix+datetime+'_fimp_split.pickle', 'wb') as f:\n",
    "    pickle.dump(feature_imp_split, f)\n",
    "with open(fileprefix+datetime+'_fimp_gain.pickle', 'wb') as f:\n",
    "    pickle.dump(feature_imp_gain, f)\n",
    "\n",
    "\n",
    "del subs, lgb_models, best_iters; gc.collect()\n",
    "\n",
    "print('done')"
   ]
  },
  {
   "cell_type": "code",
   "execution_count": 34,
   "metadata": {},
   "outputs": [
    {
     "name": "stderr",
     "output_type": "stream",
     "text": [
      "C:\\Users\\osk\\Anaconda3\\envs\\InqueryAnalysis\\lib\\site-packages\\lightgbm\\basic.py:1036: UserWarning: Using categorical_feature in Dataset.\n",
      "  warnings.warn('Using categorical_feature in Dataset.')\n"
     ]
    },
    {
     "name": "stdout",
     "output_type": "stream",
     "text": [
      "[100]\tvalid's rmse: 0.0955291\n",
      "[200]\tvalid's rmse: 0.0931288\n",
      "[300]\tvalid's rmse: 0.0910921\n",
      "[400]\tvalid's rmse: 0.0892808\n",
      "[500]\tvalid's rmse: 0.0880774\n"
     ]
    },
    {
     "data": {
      "image/png": "[encoded data removed]",
      "text/plain": [
       "<Figure size 432x288 with 1 Axes>"
      ]
     },
     "metadata": {},
     "output_type": "display_data"
    },
    {
     "data": {
      "image/png": "[encoded data removed]",
      "text/plain": [
       "<Figure size 432x288 with 1 Axes>"
      ]
     },
     "metadata": {},
     "output_type": "display_data"
    },
    {
     "name": "stdout",
     "output_type": "stream",
     "text": [
      "best iteration is 0\n",
      "Feature Importtance Split\n",
      "[{'price': 69378, 'image_top_1': 69850}]\n",
      "Feature Importtance Gain\n",
      "[{'price': 5044.724804333292, 'image_top_1': 17115.593785221972}]\n"
     ]
    },
    {
     "data": {
      "text/plain": [
       "37"
      ]
     },
     "execution_count": 34,
     "metadata": {},
     "output_type": "execute_result"
    }
   ],
   "source": [
    "# Debug\n",
    "# Example For whole traindata\n",
    "bestiter = 500\n",
    "train = pd.read_csv('../input/train.csv', usecols=['price', 'image_top_1'], nrows=100000, dtype={'price': 'float32', 'image_top_1': 'float32'})\n",
    "train = train.fillna(0)\n",
    "y = pd.read_csv('../input/train.csv', usecols=['deal_probability'], nrows=100000)\n",
    "predictors = train.columns.tolist()\n",
    "\n",
    "Dtrain, Dvalid = get_lgb_train(train, y, train.iloc[:2, :], y.iloc[:2, :], predictors, categorical)\n",
    "del train, y; gc.collect()\n",
    "numiter = np.uint(bestiter*1.1)\n",
    "lgb_model, best_iter = get_lgb_model(Dtrain, Dvalid, numiter=numiter, isValid=False, randomseed=87)\n",
    "del Dtrain; gc.collect()\n",
    "\n",
    "feature_imp_split = []\n",
    "feature_imp_gain = []\n",
    "fcols = lgb_model.feature_name()\n",
    "fimps = lgb_model.feature_importance(importance_type='split')\n",
    "feature_imp_split.append({fcol: fimp for fimp, fcol in zip(fimps, fcols)})\n",
    "fimps = lgb_model.feature_importance(importance_type='gain')\n",
    "feature_imp_gain.append({fcol: fimp for fimp, fcol in zip(fimps, fcols)})\n",
    "\n",
    "print('Feature Importtance Split')\n",
    "print(feature_imp_split)\n",
    "print('Feature Importtance Gain')\n",
    "print(feature_imp_gain)\n",
    "\n",
    "subs = pd.read_csv('../input/test.csv', usecols=['item_id'], nrows=100000)\n",
    "test = pd.read_csv('../input/test.csv', usecols=['price', 'image_top_1'], nrows=100000, dtype={'price': 'float32', 'image_top_1': 'float32'})\n",
    "subs['deal_probability'] = lgb_model.predict(test[predictors], num_iteration=best_iter)\n",
    "\n",
    "datetime = dt.now().strftime('%Y_%m%d_%H%M_%S')\n",
    "fileprefix = '../subs/lightgbm_kfold_ensemble_'\n",
    "filename = fileprefix+datetime+'.csv.gz'\n",
    "subs.to_csv(filename, index=False, float_format='%.9f', compression='gzip')\n",
    "with open(fileprefix+datetime+'_fimp_split.pickle', 'wb') as f:\n",
    "    pickle.dump(feature_imp_split, f)\n",
    "with open(fileprefix+datetime+'_fimp_gain.pickle', 'wb') as f:\n",
    "    pickle.dump(feature_imp_gain, f)\n",
    "\n",
    "del subs, test; gc.collect()"
   ]
  },
  {
   "cell_type": "code",
   "execution_count": null,
   "metadata": {},
   "outputs": [],
   "source": []
  },
  {
   "cell_type": "code",
   "execution_count": null,
   "metadata": {},
   "outputs": [],
   "source": []
  }
 ],
 "metadata": {
  "kernelspec": {
   "display_name": "Python 3",
   "language": "python",
   "name": "python3"
  },
  "language_info": {
   "codemirror_mode": {
    "name": "ipython",
    "version": 3
   },
   "file_extension": ".py",
   "mimetype": "text/x-python",
   "name": "python",
   "nbconvert_exporter": "python",
   "pygments_lexer": "ipython3",
   "version": "3.6.5"
  }
 },
 "nbformat": 4,
 "nbformat_minor": 2
}
