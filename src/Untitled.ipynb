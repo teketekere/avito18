{
 "cells": [
  {
   "cell_type": "code",
   "execution_count": 1,
   "metadata": {},
   "outputs": [
    {
     "name": "stderr",
     "output_type": "stream",
     "text": [
      "C:\\Users\\ahega\\Anaconda3\\envs\\Avito18_Kaggle\\lib\\site-packages\\h5py\\__init__.py:36: FutureWarning: Conversion of the second argument of issubdtype from `float` to `np.floating` is deprecated. In future, it will be treated as `np.float64 == np.dtype(float).type`.\n",
      "  from ._conv import register_converters as _register_converters\n",
      "Using TensorFlow backend.\n"
     ]
    }
   ],
   "source": [
    "import pandas as pd \n",
    "import numpy as np \n",
    "import time \n",
    "import gc \n",
    "\n",
    "np.random.seed(42)\n",
    "\n",
    "from sklearn.model_selection import train_test_split\n",
    "from sklearn.metrics import roc_auc_score\n",
    "from sklearn.model_selection import StratifiedKFold\n",
    "\n",
    "from keras.models import Model\n",
    "from keras.layers import Input, Dropout, Dense, Embedding, SpatialDropout1D, concatenate\n",
    "from keras.layers import GRU, Bidirectional, GlobalAveragePooling1D, GlobalMaxPooling1D, BatchNormalization, Conv1D, MaxPooling1D, Flatten\n",
    "from keras.preprocessing.sequence import pad_sequences\n",
    "from keras.preprocessing import text, sequence\n",
    "from keras.callbacks import Callback\n",
    "from keras import backend as K\n",
    "from keras.models import Model\n",
    "\n",
    "from keras import optimizers\n",
    "\n",
    "from sklearn.preprocessing import LabelBinarizer\n",
    "from sklearn.preprocessing import LabelEncoder, MinMaxScaler, StandardScaler\n",
    "\n",
    "import warnings\n",
    "warnings.filterwarnings('ignore')\n",
    "\n",
    "import threading\n",
    "import multiprocessing\n",
    "from multiprocessing import Pool, cpu_count\n",
    "from contextlib import closing\n",
    "\n",
    "from keras import backend as K\n",
    "from keras.optimizers import RMSprop, Adam\n",
    "from keras.callbacks import ModelCheckpoint, EarlyStopping\n",
    "\n",
    "import torch\n",
    "\n",
    "lentrain = 1503424\n",
    "max_seq_title_description_length = 100\n",
    "max_words_title_description = 200000"
   ]
  },
  {
   "cell_type": "code",
   "execution_count": 2,
   "metadata": {},
   "outputs": [],
   "source": [
    "def cleanName(text):\n",
    "    try:\n",
    "        textProc = text.lower()\n",
    "        # textProc = \" \".join(map(str.strip, re.split('(\\d+)',textProc)))\n",
    "        #regex = re.compile(u'[^[:alpha:]]')\n",
    "        #textProc = regex.sub(\" \", textProc)\n",
    "        textProc = re.sub('[!@#$_“”¨«»®´·º½¾¿¡§£₤‘’]', '', textProc)\n",
    "        textProc = \" \".join(textProc.split())\n",
    "        return textProc\n",
    "    except: \n",
    "        return \"name error\""
   ]
  },
  {
   "cell_type": "code",
   "execution_count": 2,
   "metadata": {},
   "outputs": [
    {
     "data": {
      "text/plain": [
       "\"\\ntrain = pd.read_csv('../features/train/seq_title_description_train.csv')\\ntest = pd.read_csv('../features/test/seq_title_description_test.csv')\\n\\nprint(train.shape, test.shape)\\ndf = pd.concat([train, test])\\ndel train, test; gc.collect()\\n\\ndf.head()\\n\""
      ]
     },
     "execution_count": 2,
     "metadata": {},
     "output_type": "execute_result"
    }
   ],
   "source": [
    "'''\n",
    "train = pd.read_csv('../features/train/seq_title_description_train.csv')\n",
    "test = pd.read_csv('../features/test/seq_title_description_test.csv')\n",
    "\n",
    "print(train.shape, test.shape)\n",
    "df = pd.concat([train, test])\n",
    "del train, test; gc.collect()\n",
    "\n",
    "df.head()\n",
    "'''"
   ]
  },
  {
   "cell_type": "code",
   "execution_count": 15,
   "metadata": {},
   "outputs": [
    {
     "data": {
      "text/plain": [
       "(2011862, 2)"
      ]
     },
     "execution_count": 15,
     "metadata": {},
     "output_type": "execute_result"
    }
   ],
   "source": [
    "train = pd.read_csv('../input/train.csv', usecols=['description', 'title'])\n",
    "test = pd.read_csv('../input/test.csv', usecols=['description', 'title'])\n",
    "\n",
    "df = pd.concat([train, test])\n",
    "\n",
    "del train, test; gc.collect()\n",
    "\n",
    "df.shape"
   ]
  },
  {
   "cell_type": "code",
   "execution_count": 16,
   "metadata": {},
   "outputs": [
    {
     "data": {
      "text/html": [
       "<div>\n",
       "<style scoped>\n",
       "    .dataframe tbody tr th:only-of-type {\n",
       "        vertical-align: middle;\n",
       "    }\n",
       "\n",
       "    .dataframe tbody tr th {\n",
       "        vertical-align: top;\n",
       "    }\n",
       "\n",
       "    .dataframe thead th {\n",
       "        text-align: right;\n",
       "    }\n",
       "</style>\n",
       "<table border=\"1\" class=\"dataframe\">\n",
       "  <thead>\n",
       "    <tr style=\"text-align: right;\">\n",
       "      <th></th>\n",
       "      <th>title_description</th>\n",
       "    </tr>\n",
       "  </thead>\n",
       "  <tbody>\n",
       "    <tr>\n",
       "      <th>0</th>\n",
       "      <td>Кокоби(кокон для сна) Кокон для сна малыша,пол...</td>\n",
       "    </tr>\n",
       "    <tr>\n",
       "      <th>1</th>\n",
       "      <td>Стойка для Одежды Стойка для одежды, под вешал...</td>\n",
       "    </tr>\n",
       "    <tr>\n",
       "      <th>2</th>\n",
       "      <td>Philips bluray В хорошем состоянии, домашний к...</td>\n",
       "    </tr>\n",
       "    <tr>\n",
       "      <th>3</th>\n",
       "      <td>Автокресло Продам кресло от0-25кг</td>\n",
       "    </tr>\n",
       "    <tr>\n",
       "      <th>4</th>\n",
       "      <td>ВАЗ 2110, 2003 Все вопросы по телефону.</td>\n",
       "    </tr>\n",
       "  </tbody>\n",
       "</table>\n",
       "</div>"
      ],
      "text/plain": [
       "                                   title_description\n",
       "0  Кокоби(кокон для сна) Кокон для сна малыша,пол...\n",
       "1  Стойка для Одежды Стойка для одежды, под вешал...\n",
       "2  Philips bluray В хорошем состоянии, домашний к...\n",
       "3                  Автокресло Продам кресло от0-25кг\n",
       "4            ВАЗ 2110, 2003 Все вопросы по телефону."
      ]
     },
     "execution_count": 16,
     "metadata": {},
     "output_type": "execute_result"
    }
   ],
   "source": [
    "df['title_description'] = (df['title']+' '+df['description']).astype(str)\n",
    "df.drop(['title', 'description'], axis=1, inplace=True)\n",
    "gc.collect\n",
    "df.head()"
   ]
  },
  {
   "cell_type": "code",
   "execution_count": 17,
   "metadata": {},
   "outputs": [
    {
     "name": "stdout",
     "output_type": "stream",
     "text": [
      "Start Tokenization.....\n"
     ]
    },
    {
     "data": {
      "text/plain": [
       "7"
      ]
     },
     "execution_count": 17,
     "metadata": {},
     "output_type": "execute_result"
    }
   ],
   "source": [
    "print(\"Start Tokenization.....\")\n",
    "tokenizer = text.Tokenizer(num_words = max_words_title_description)\n",
    "all_text = np.hstack([df['title_description'].str.lower()])\n",
    "tokenizer.fit_on_texts(all_text)\n",
    "del all_text\n",
    "gc.collect()"
   ]
  },
  {
   "cell_type": "code",
   "execution_count": 18,
   "metadata": {},
   "outputs": [
    {
     "data": {
      "text/plain": [
       "(2011862, 1)"
      ]
     },
     "execution_count": 18,
     "metadata": {},
     "output_type": "execute_result"
    }
   ],
   "source": [
    "df['seq_title_description']= tokenizer.texts_to_sequences(df.title_description.str.lower())\n",
    "df.drop(['title_description'], axis=1, inplace=True)\n",
    "df.shape"
   ]
  },
  {
   "cell_type": "code",
   "execution_count": 19,
   "metadata": {},
   "outputs": [
    {
     "data": {
      "text/html": [
       "<div>\n",
       "<style scoped>\n",
       "    .dataframe tbody tr th:only-of-type {\n",
       "        vertical-align: middle;\n",
       "    }\n",
       "\n",
       "    .dataframe tbody tr th {\n",
       "        vertical-align: top;\n",
       "    }\n",
       "\n",
       "    .dataframe thead th {\n",
       "        text-align: right;\n",
       "    }\n",
       "</style>\n",
       "<table border=\"1\" class=\"dataframe\">\n",
       "  <thead>\n",
       "    <tr style=\"text-align: right;\">\n",
       "      <th></th>\n",
       "      <th>seq_title_description</th>\n",
       "    </tr>\n",
       "  </thead>\n",
       "  <tbody>\n",
       "    <tr>\n",
       "      <th>0</th>\n",
       "      <td>[131120, 7400, 5, 2627, 7400, 5, 2627, 486, 52...</td>\n",
       "    </tr>\n",
       "    <tr>\n",
       "      <th>1</th>\n",
       "      <td>[2330, 5, 669, 2330, 5, 669, 51, 10431, 4, 36172]</td>\n",
       "    </tr>\n",
       "    <tr>\n",
       "      <th>2</th>\n",
       "      <td>[1803, 94810, 1, 29, 10, 2863, 4065, 4, 9699, ...</td>\n",
       "    </tr>\n",
       "    <tr>\n",
       "      <th>3</th>\n",
       "      <td>[1029, 8, 506, 43306, 11806]</td>\n",
       "    </tr>\n",
       "    <tr>\n",
       "      <th>4</th>\n",
       "      <td>[258, 2309, 1749, 16, 135, 6, 87]</td>\n",
       "    </tr>\n",
       "    <tr>\n",
       "      <th>5</th>\n",
       "      <td>[197, 777, 1, 29, 10]</td>\n",
       "    </tr>\n",
       "    <tr>\n",
       "      <th>6</th>\n",
       "      <td>[3357, 65, 1157, 8062, 8645, 1265, 3357, 20064...</td>\n",
       "    </tr>\n",
       "    <tr>\n",
       "      <th>7</th>\n",
       "      <td>[16646, 29119, 16646, 1, 29, 10]</td>\n",
       "    </tr>\n",
       "    <tr>\n",
       "      <th>8</th>\n",
       "      <td>[43, 523, 66, 40470, 26, 540]</td>\n",
       "    </tr>\n",
       "    <tr>\n",
       "      <th>9</th>\n",
       "      <td>[1013, 407, 8615, 2826, 23714, 6, 281, 97, 164...</td>\n",
       "    </tr>\n",
       "    <tr>\n",
       "      <th>10</th>\n",
       "      <td>[11, 17, 25, 170, 28, 9, 9, 46, 950, 1659, 127...</td>\n",
       "    </tr>\n",
       "    <tr>\n",
       "      <th>11</th>\n",
       "      <td>[47]</td>\n",
       "    </tr>\n",
       "    <tr>\n",
       "      <th>12</th>\n",
       "      <td>[60119, 2, 516, 22, 52, 829, 5347, 4760, 304, ...</td>\n",
       "    </tr>\n",
       "    <tr>\n",
       "      <th>13</th>\n",
       "      <td>[713, 1149, 138, 12, 8, 36919, 138, 12, 118672...</td>\n",
       "    </tr>\n",
       "    <tr>\n",
       "      <th>14</th>\n",
       "      <td>[412, 1444, 5065, 5921, 4145, 11, 4905, 322, 1...</td>\n",
       "    </tr>\n",
       "    <tr>\n",
       "      <th>15</th>\n",
       "      <td>[43, 1650, 145, 2333, 11, 66, 3, 248, 622, 85,...</td>\n",
       "    </tr>\n",
       "    <tr>\n",
       "      <th>16</th>\n",
       "      <td>[1829, 10581, 629, 525, 5261, 1044, 4801, 2790...</td>\n",
       "    </tr>\n",
       "    <tr>\n",
       "      <th>17</th>\n",
       "      <td>[8075, 4097, 9, 115, 716, 1445, 97, 4714, 1157...</td>\n",
       "    </tr>\n",
       "    <tr>\n",
       "      <th>18</th>\n",
       "      <td>[63, 1721, 5144, 63, 54, 26, 278, 11381, 503, ...</td>\n",
       "    </tr>\n",
       "    <tr>\n",
       "      <th>19</th>\n",
       "      <td>[383, 1555, 8190, 1507, 23, 331, 1759, 2601, 1...</td>\n",
       "    </tr>\n",
       "  </tbody>\n",
       "</table>\n",
       "</div>"
      ],
      "text/plain": [
       "                                seq_title_description\n",
       "0   [131120, 7400, 5, 2627, 7400, 5, 2627, 486, 52...\n",
       "1   [2330, 5, 669, 2330, 5, 669, 51, 10431, 4, 36172]\n",
       "2   [1803, 94810, 1, 29, 10, 2863, 4065, 4, 9699, ...\n",
       "3                        [1029, 8, 506, 43306, 11806]\n",
       "4                   [258, 2309, 1749, 16, 135, 6, 87]\n",
       "5                               [197, 777, 1, 29, 10]\n",
       "6   [3357, 65, 1157, 8062, 8645, 1265, 3357, 20064...\n",
       "7                    [16646, 29119, 16646, 1, 29, 10]\n",
       "8                       [43, 523, 66, 40470, 26, 540]\n",
       "9   [1013, 407, 8615, 2826, 23714, 6, 281, 97, 164...\n",
       "10  [11, 17, 25, 170, 28, 9, 9, 46, 950, 1659, 127...\n",
       "11                                               [47]\n",
       "12  [60119, 2, 516, 22, 52, 829, 5347, 4760, 304, ...\n",
       "13  [713, 1149, 138, 12, 8, 36919, 138, 12, 118672...\n",
       "14  [412, 1444, 5065, 5921, 4145, 11, 4905, 322, 1...\n",
       "15  [43, 1650, 145, 2333, 11, 66, 3, 248, 622, 85,...\n",
       "16  [1829, 10581, 629, 525, 5261, 1044, 4801, 2790...\n",
       "17  [8075, 4097, 9, 115, 716, 1445, 97, 4714, 1157...\n",
       "18  [63, 1721, 5144, 63, 54, 26, 278, 11381, 503, ...\n",
       "19  [383, 1555, 8190, 1507, 23, 331, 1759, 2601, 1..."
      ]
     },
     "execution_count": 19,
     "metadata": {},
     "output_type": "execute_result"
    }
   ],
   "source": [
    "df.head(20)"
   ]
  },
  {
   "cell_type": "code",
   "execution_count": 21,
   "metadata": {},
   "outputs": [
    {
     "name": "stdout",
     "output_type": "stream",
     "text": [
      "(1503424, 1)\n",
      "(508438, 1)\n"
     ]
    },
    {
     "data": {
      "text/plain": [
       "145"
      ]
     },
     "execution_count": 21,
     "metadata": {},
     "output_type": "execute_result"
    }
   ],
   "source": [
    "train = df[:lentrain]\n",
    "test = df[lentrain:]\n",
    "\n",
    "test.reset_index(drop=True, inplace=True)\n",
    "print(train.shape)\n",
    "print(test.shape)\n",
    "\n",
    "train.to_csv('../features/train/seq_tokenized.csv', index=False)\n",
    "test.to_csv('../features/test/seq_tokenized.csv', index=False)\n",
    "\n",
    "del train, test; gc.collect()"
   ]
  },
  {
   "cell_type": "code",
   "execution_count": 23,
   "metadata": {},
   "outputs": [
    {
     "name": "stdout",
     "output_type": "stream",
     "text": [
      "(895302, 300)\n",
      "307394 587906 587906 307394\n",
      "(895302, 300)\n",
      " FAST TEXT DONE\n"
     ]
    }
   ],
   "source": [
    "EMBEDDING_DIM1 = 300\n",
    "EMBEDDING_FILE1 = './wordembeds/cc.ru.300.vec'\n",
    "def get_coefs(word, *arr): return word, np.asarray(arr, dtype='float32')\n",
    "embeddings_index1 = dict(get_coefs(*o.rstrip().rsplit(' ')) for o in open(EMBEDDING_FILE1, encoding='utf-8'))\n",
    "\n",
    "vocab_size = len(tokenizer.word_index)+2\n",
    "EMBEDDING_DIM1 = 300# this is from the pretrained vectors\n",
    "embedding_matrix1 = np.zeros((vocab_size, EMBEDDING_DIM1))\n",
    "print(embedding_matrix1.shape)\n",
    "# Creating Embedding matrix \n",
    "c = 0 \n",
    "c1 = 0 \n",
    "w_Y = []\n",
    "w_No = []\n",
    "for word, i in tokenizer.word_index.items():\n",
    "    if word in embeddings_index1:\n",
    "        c +=1\n",
    "        embedding_vector = embeddings_index1[word]\n",
    "        w_Y.append(word)\n",
    "    else:\n",
    "        embedding_vector = None\n",
    "        w_No.append(word)\n",
    "        c1 +=1\n",
    "    if embedding_vector is not None:    \n",
    "        embedding_matrix1[i] = embedding_vector\n",
    "\n",
    "print(c,c1, len(w_No), len(w_Y))\n",
    "print(embedding_matrix1.shape)\n",
    "del embeddings_index1\n",
    "gc.collect()\n",
    "\n",
    "print(\" FAST TEXT DONE\")"
   ]
  },
  {
   "cell_type": "code",
   "execution_count": 29,
   "metadata": {},
   "outputs": [],
   "source": [
    "temp = embedding_matrix1.astype('float32')\n",
    "np.save('./wordembeds/new_cc_matrix.npy', temp)"
   ]
  },
  {
   "cell_type": "code",
   "execution_count": 30,
   "metadata": {},
   "outputs": [
    {
     "name": "stdout",
     "output_type": "stream",
     "text": [
      "(895302, 300)\n",
      "307251 588049 588049 307251\n",
      "(895302, 300)\n",
      " FAST TEXT DONE\n"
     ]
    }
   ],
   "source": [
    "EMBEDDING_DIM1 = 300\n",
    "EMBEDDING_FILE1 = './wordembeds/wiki.ru.vec'\n",
    "def get_coefs(word, *arr): return word, np.asarray(arr, dtype='float32')\n",
    "embeddings_index1 = dict(get_coefs(*o.rstrip().rsplit(' ')) for o in open(EMBEDDING_FILE1, encoding='utf-8'))\n",
    "\n",
    "vocab_size = len(tokenizer.word_index)+2\n",
    "EMBEDDING_DIM1 = 300# this is from the pretrained vectors\n",
    "embedding_matrix1 = np.zeros((vocab_size, EMBEDDING_DIM1))\n",
    "print(embedding_matrix1.shape)\n",
    "# Creating Embedding matrix \n",
    "c = 0 \n",
    "c1 = 0 \n",
    "w_Y = []\n",
    "w_No = []\n",
    "for word, i in tokenizer.word_index.items():\n",
    "    if word in embeddings_index1:\n",
    "        c +=1\n",
    "        embedding_vector = embeddings_index1[word]\n",
    "        w_Y.append(word)\n",
    "    else:\n",
    "        embedding_vector = None\n",
    "        w_No.append(word)\n",
    "        c1 +=1\n",
    "    if embedding_vector is not None:    \n",
    "        embedding_matrix1[i] = embedding_vector\n",
    "\n",
    "print(c,c1, len(w_No), len(w_Y))\n",
    "print(embedding_matrix1.shape)\n",
    "del embeddings_index1\n",
    "gc.collect()\n",
    "\n",
    "print(\" FAST TEXT DONE\")"
   ]
  },
  {
   "cell_type": "code",
   "execution_count": 31,
   "metadata": {},
   "outputs": [],
   "source": [
    "temp = embedding_matrix1.astype('float32')\n",
    "np.save('./wordembeds/new_wiki_matrix.npy', temp)"
   ]
  },
  {
   "cell_type": "code",
   "execution_count": 16,
   "metadata": {},
   "outputs": [
    {
     "data": {
      "text/html": [
       "<div>\n",
       "<style scoped>\n",
       "    .dataframe tbody tr th:only-of-type {\n",
       "        vertical-align: middle;\n",
       "    }\n",
       "\n",
       "    .dataframe tbody tr th {\n",
       "        vertical-align: top;\n",
       "    }\n",
       "\n",
       "    .dataframe thead th {\n",
       "        text-align: right;\n",
       "    }\n",
       "</style>\n",
       "<table border=\"1\" class=\"dataframe\">\n",
       "  <thead>\n",
       "    <tr style=\"text-align: right;\">\n",
       "      <th></th>\n",
       "      <th>seq_title_description</th>\n",
       "    </tr>\n",
       "  </thead>\n",
       "  <tbody>\n",
       "    <tr>\n",
       "      <th>0</th>\n",
       "      <td>[131120, 7400, 5, 2627, 7400, 5, 2627, 486, 52...</td>\n",
       "    </tr>\n",
       "    <tr>\n",
       "      <th>1</th>\n",
       "      <td>[2330, 5, 669, 2330, 5, 669, 51, 10431, 4, 36172]</td>\n",
       "    </tr>\n",
       "    <tr>\n",
       "      <th>2</th>\n",
       "      <td>[1803, 94810, 1, 29, 10, 2863, 4065, 4, 9699, ...</td>\n",
       "    </tr>\n",
       "    <tr>\n",
       "      <th>3</th>\n",
       "      <td>[1029, 8, 506, 43306, 11806]</td>\n",
       "    </tr>\n",
       "    <tr>\n",
       "      <th>4</th>\n",
       "      <td>[258, 2309, 1749, 16, 135, 6, 87]</td>\n",
       "    </tr>\n",
       "  </tbody>\n",
       "</table>\n",
       "</div>"
      ],
      "text/plain": [
       "                               seq_title_description\n",
       "0  [131120, 7400, 5, 2627, 7400, 5, 2627, 486, 52...\n",
       "1  [2330, 5, 669, 2330, 5, 669, 51, 10431, 4, 36172]\n",
       "2  [1803, 94810, 1, 29, 10, 2863, 4065, 4, 9699, ...\n",
       "3                       [1029, 8, 506, 43306, 11806]\n",
       "4                  [258, 2309, 1749, 16, 135, 6, 87]"
      ]
     },
     "execution_count": 16,
     "metadata": {},
     "output_type": "execute_result"
    }
   ],
   "source": [
    "train_words = pd.read_csv('../features/train/seq_tokenized.csv')\n",
    "train_words['seq_title_description'] = train_words['seq_title_description'].str.strip('[]').str.replace('\\s+', '')\n",
    "train_words['seq_title_description'] = train_words['seq_title_description'].apply(lambda x: x.split(','))\n",
    "train_words.head()"
   ]
  },
  {
   "cell_type": "code",
   "execution_count": 2,
   "metadata": {},
   "outputs": [
    {
     "data": {
      "text/html": [
       "<div>\n",
       "<style scoped>\n",
       "    .dataframe tbody tr th:only-of-type {\n",
       "        vertical-align: middle;\n",
       "    }\n",
       "\n",
       "    .dataframe tbody tr th {\n",
       "        vertical-align: top;\n",
       "    }\n",
       "\n",
       "    .dataframe thead th {\n",
       "        text-align: right;\n",
       "    }\n",
       "</style>\n",
       "<table border=\"1\" class=\"dataframe\">\n",
       "  <thead>\n",
       "    <tr style=\"text-align: right;\">\n",
       "      <th></th>\n",
       "      <th>seq_title_description</th>\n",
       "    </tr>\n",
       "  </thead>\n",
       "  <tbody>\n",
       "    <tr>\n",
       "      <th>0</th>\n",
       "      <td>[160, 310, 3, 50289]</td>\n",
       "    </tr>\n",
       "    <tr>\n",
       "      <th>1</th>\n",
       "      <td>[8, 179, 8, 179, 104776, 78140, 1, 1375, 10, 1...</td>\n",
       "    </tr>\n",
       "    <tr>\n",
       "      <th>2</th>\n",
       "      <td>[9034, 8, 39, 329, 9034, 277, 853, 4508, 1040,...</td>\n",
       "    </tr>\n",
       "    <tr>\n",
       "      <th>3</th>\n",
       "      <td>[4280, 101825, 195, 8, 537, 16391, 1, 467, 4, ...</td>\n",
       "    </tr>\n",
       "    <tr>\n",
       "      <th>4</th>\n",
       "      <td>[132, 510, 351, 8, 3197, 448, 49, 27, 11, 185,...</td>\n",
       "    </tr>\n",
       "  </tbody>\n",
       "</table>\n",
       "</div>"
      ],
      "text/plain": [
       "                               seq_title_description\n",
       "0                               [160, 310, 3, 50289]\n",
       "1  [8, 179, 8, 179, 104776, 78140, 1, 1375, 10, 1...\n",
       "2  [9034, 8, 39, 329, 9034, 277, 853, 4508, 1040,...\n",
       "3  [4280, 101825, 195, 8, 537, 16391, 1, 467, 4, ...\n",
       "4  [132, 510, 351, 8, 3197, 448, 49, 27, 11, 185,..."
      ]
     },
     "execution_count": 2,
     "metadata": {},
     "output_type": "execute_result"
    }
   ],
   "source": [
    "test_words = pd.read_csv('../features/test/seq_tokenized.csv')\n",
    "test_words['seq_title_description'] = test_words['seq_title_description'].str.strip('[]').str.replace('\\s+', '')\n",
    "test_words['seq_title_description'] = test_words['seq_title_description'].apply(lambda x: x.split(','))\n",
    "test_words.head()"
   ]
  },
  {
   "cell_type": "code",
   "execution_count": 6,
   "metadata": {},
   "outputs": [],
   "source": [
    "res = []\n",
    "for t in test_words['seq_title_description']:\n",
    "    if len(t) > 100:\n",
    "        temp = t[:100]\n",
    "    elif len(t) < 100:\n",
    "        for i in range(100 - len(t)):\n",
    "            t.append(0)\n",
    "        temp = t\n",
    "    else:\n",
    "        temp = t\n",
    "    temp = np.array([int(val) if val != '' else int(0) for val in temp])\n",
    "    res.append(temp)\n",
    "res = np.array(res)\n"
   ]
  },
  {
   "cell_type": "code",
   "execution_count": 7,
   "metadata": {},
   "outputs": [
    {
     "data": {
      "text/plain": [
       "torch.Size([508438, 100])"
      ]
     },
     "execution_count": 7,
     "metadata": {},
     "output_type": "execute_result"
    }
   ],
   "source": [
    "x = torch.from_numpy(res)\n",
    "x.shape"
   ]
  },
  {
   "cell_type": "code",
   "execution_count": null,
   "metadata": {},
   "outputs": [],
   "source": []
  }
 ],
 "metadata": {
  "kernelspec": {
   "display_name": "Python 3",
   "language": "python",
   "name": "python3"
  },
  "language_info": {
   "codemirror_mode": {
    "name": "ipython",
    "version": 3
   },
   "file_extension": ".py",
   "mimetype": "text/x-python",
   "name": "python",
   "nbconvert_exporter": "python",
   "pygments_lexer": "ipython3",
   "version": "3.6.5"
  }
 },
 "nbformat": 4,
 "nbformat_minor": 2
}
