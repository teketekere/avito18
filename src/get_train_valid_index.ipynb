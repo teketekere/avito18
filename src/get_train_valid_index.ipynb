{
 "cells": [
  {
   "cell_type": "code",
   "execution_count": 9,
   "metadata": {},
   "outputs": [],
   "source": [
    "import pandas as pd\n",
    "import numpy as np"
   ]
  },
  {
   "cell_type": "code",
   "execution_count": 3,
   "metadata": {},
   "outputs": [
    {
     "data": {
      "text/plain": [
       "(1503424, 1)"
      ]
     },
     "execution_count": 3,
     "metadata": {},
     "output_type": "execute_result"
    }
   ],
   "source": [
    "train = pd.read_csv('../input/train.csv', usecols=['activation_date'], parse_dates=['activation_date'])\n",
    "train.shape"
   ]
  },
  {
   "cell_type": "code",
   "execution_count": 12,
   "metadata": {},
   "outputs": [
    {
     "name": "stdout",
     "output_type": "stream",
     "text": [
      "(1503423, 1)\n",
      "(1, 1)\n"
     ]
    }
   ],
   "source": [
    "print(train[train['activation_date'] <= pd.to_datetime('2017-04-03')].shape)\n",
    "print(train[train['activation_date'] > pd.to_datetime('2017-04-03')].shape)\n"
   ]
  },
  {
   "cell_type": "code",
   "execution_count": 10,
   "metadata": {},
   "outputs": [
    {
     "data": {
      "text/plain": [
       "array(['2017-03-15T00:00:00.000000000', '2017-03-16T00:00:00.000000000',\n",
       "       '2017-03-17T00:00:00.000000000', '2017-03-18T00:00:00.000000000',\n",
       "       '2017-03-19T00:00:00.000000000', '2017-03-20T00:00:00.000000000',\n",
       "       '2017-03-21T00:00:00.000000000', '2017-03-22T00:00:00.000000000',\n",
       "       '2017-03-23T00:00:00.000000000', '2017-03-24T00:00:00.000000000',\n",
       "       '2017-03-25T00:00:00.000000000', '2017-03-26T00:00:00.000000000',\n",
       "       '2017-03-27T00:00:00.000000000', '2017-03-28T00:00:00.000000000',\n",
       "       '2017-03-29T00:00:00.000000000', '2017-03-30T00:00:00.000000000',\n",
       "       '2017-03-31T00:00:00.000000000', '2017-04-01T00:00:00.000000000',\n",
       "       '2017-04-02T00:00:00.000000000', '2017-04-03T00:00:00.000000000',\n",
       "       '2017-04-07T00:00:00.000000000'], dtype='datetime64[ns]')"
      ]
     },
     "execution_count": 10,
     "metadata": {},
     "output_type": "execute_result"
    }
   ],
   "source": [
    "np.unique(train['activation_date'])"
   ]
  },
  {
   "cell_type": "code",
   "execution_count": null,
   "metadata": {},
   "outputs": [],
   "source": []
  }
 ],
 "metadata": {
  "kernelspec": {
   "display_name": "Python 3",
   "language": "python",
   "name": "python3"
  },
  "language_info": {
   "codemirror_mode": {
    "name": "ipython",
    "version": 3
   },
   "file_extension": ".py",
   "mimetype": "text/x-python",
   "name": "python",
   "nbconvert_exporter": "python",
   "pygments_lexer": "ipython3",
   "version": "3.6.5"
  }
 },
 "nbformat": 4,
 "nbformat_minor": 2
}
