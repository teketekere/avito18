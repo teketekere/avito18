{
 "cells": [
  {
   "cell_type": "code",
   "execution_count": 5,
   "metadata": {},
   "outputs": [],
   "source": [
    "import pandas as pd\n",
    "import time\n",
    "import gc\n",
    "import numpy as np\n",
    "\n",
    "import warnings\n",
    "import string\n",
    "\n",
    "from sklearn.feature_extraction.text import CountVectorizer, TfidfVectorizer\n",
    "from sklearn.pipeline import FeatureUnion\n",
    "from sklearn.preprocessing import LabelEncoder\n",
    "from sklearn.decomposition import TruncatedSVD, NMF, LatentDirichletAllocation\n",
    "from sklearn.linear_model import Ridge\n",
    "from scipy.sparse import hstack, csr_matrix\n",
    "import itertools\n",
    "import pickle\n",
    "from copy import deepcopy\n",
    "from collections import Counter\n",
    "import tqdm\n",
    "\n",
    "from myutils import timer, reduce_mem_usage\n",
    "\n",
    "cat_vars = [\"user_id\",\"region\",\"city\",\"parent_category_name\",\"category_name\",\"user_type\",\"param_1\",\"param_2\",\"param_3\"]\n",
    "#cat_vars = ['user_id', 'region', \"city\", \"parent_category_name\", \"category_name\", \"user_type\", \"param_1\", \"param_2\", \"param_3\"]\n",
    "cat_vars.extend(['month', 'weekday', 'weekofyear', 'dayofmonth', 'dayofyear'])\n",
    "textfeats = [\"description\", \"title\"]\n",
    "aggfeats = ['region', 'city', 'parent_category_name', 'category_name', 'user_type', 'dayofyear', 'text_feat_LE']\n",
    "\n",
    "inputpath = '../input/'\n",
    "featurespath = '../features/'\n",
    "\n",
    "lentrain = 1503424\n"
   ]
  },
  {
   "cell_type": "code",
   "execution_count": 10,
   "metadata": {},
   "outputs": [
    {
     "data": {
      "text/plain": [
       "(2011862, 10)"
      ]
     },
     "execution_count": 10,
     "metadata": {},
     "output_type": "execute_result"
    }
   ],
   "source": [
    "df = pd.read_feather('../features/imagefeature.feather')\n",
    "df.shape"
   ]
  },
  {
   "cell_type": "code",
   "execution_count": 11,
   "metadata": {},
   "outputs": [
    {
     "name": "stdout",
     "output_type": "stream",
     "text": [
      "(1503424, 10)\n",
      "(508438, 10)\n"
     ]
    }
   ],
   "source": [
    "train = df[: lentrain]\n",
    "test = df[lentrain:]\n",
    "\n",
    "print(train.shape)\n",
    "print(test.shape)"
   ]
  },
  {
   "cell_type": "code",
   "execution_count": 12,
   "metadata": {},
   "outputs": [],
   "source": [
    "train = train.reset_index(drop=True)\n",
    "test = test.reset_index(drop=True)\n",
    "\n",
    "train.to_feather('../features/train/imagefeatures_train.feather')\n",
    "test.to_feather('../features/test/imagefeatures_test.feather')\n"
   ]
  },
  {
   "cell_type": "code",
   "execution_count": null,
   "metadata": {},
   "outputs": [],
   "source": []
  }
 ],
 "metadata": {
  "kernelspec": {
   "display_name": "Python 3",
   "language": "python",
   "name": "python3"
  },
  "language_info": {
   "codemirror_mode": {
    "name": "ipython",
    "version": 3
   },
   "file_extension": ".py",
   "mimetype": "text/x-python",
   "name": "python",
   "nbconvert_exporter": "python",
   "pygments_lexer": "ipython3",
   "version": "3.6.5"
  }
 },
 "nbformat": 4,
 "nbformat_minor": 2
}
