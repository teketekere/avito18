{
 "cells": [
  {
   "cell_type": "code",
   "execution_count": 1,
   "metadata": {},
   "outputs": [
    {
     "name": "stdout",
     "output_type": "stream",
     "text": [
      "[nltk_data] Downloading package stopwords to\n",
      "[nltk_data]     C:\\Users\\osk\\AppData\\Roaming\\nltk_data...\n",
      "[nltk_data]   Package stopwords is already up-to-date!\n"
     ]
    }
   ],
   "source": [
    "import numpy as np\n",
    "import pandas as pd\n",
    "import os\n",
    "import gc\n",
    "import re\n",
    "import string\n",
    "import matplotlib.pyplot as plt\n",
    "%matplotlib inline\n",
    "\n",
    "from sklearn.linear_model import Ridge, LogisticRegression\n",
    "from sklearn.feature_extraction.text import CountVectorizer, TfidfVectorizer\n",
    "from sklearn.pipeline import FeatureUnion\n",
    "from sklearn.decomposition import TruncatedSVD\n",
    "from scipy.sparse import hstack, csr_matrix\n",
    "\n",
    "import nltk\n",
    "from nltk.corpus import stopwords \n",
    "nltk.download('stopwords')\n",
    "\n",
    "lentrain = 1503424\n",
    "lentest = 508438\n",
    "lentrainactive = 14129821\n",
    "lentestactive = 12824068"
   ]
  },
  {
   "cell_type": "code",
   "execution_count": 2,
   "metadata": {},
   "outputs": [],
   "source": [
    "def cleanName(text):\n",
    "    try:\n",
    "        textProc = text.lower()\n",
    "        # textProc = \" \".join(map(str.strip, re.split('(\\d+)',textProc)))\n",
    "        #regex = re.compile(u'[^[:alpha:]]')\n",
    "        #textProc = regex.sub(\" \", textProc)\n",
    "        textProc = re.sub('[!@#$_“”¨«»®´·º½¾¿¡§£₤‘’]', '', textProc)\n",
    "        textProc = \" \".join(textProc.split())\n",
    "        return textProc\n",
    "    except: \n",
    "        return \"name error\"\n"
   ]
  },
  {
   "cell_type": "code",
   "execution_count": 3,
   "metadata": {},
   "outputs": [
    {
     "name": "stdout",
     "output_type": "stream",
     "text": [
      "(1503424, 2)\n",
      "(508438, 2)\n"
     ]
    }
   ],
   "source": [
    "train = pd.read_csv('../input/train.csv', usecols=['description', 'title', 'param_1', 'param_2', 'param_3'])\n",
    "test = pd.read_csv('../input/test.csv', usecols=['description', 'title', 'param_1', 'param_2', 'param_3'])\n",
    "\n",
    "train['title'] = train['title'].fillna('missing')\n",
    "train['description'] = train['description'].fillna('missing')\n",
    "train['param_1'] = train['param_1'].fillna('missing')\n",
    "train['param_2'] = train['param_2'].fillna('')\n",
    "train['param_3'] = train['param_3'].fillna('')\n",
    "train['title'] = train['title'].apply(lambda x: cleanName(x))\n",
    "train[\"description\"]   = train[\"description\"].apply(lambda x: cleanName(x))\n",
    "train['param_1'] = train['param_1'].apply(lambda x: cleanName(x))\n",
    "train['param_2'] = train['param_2'].apply(lambda x: cleanName(x))\n",
    "train['param_3'] = train['param_3'].apply(lambda x: cleanName(x))\n",
    "\n",
    "\n",
    "test['title'] = test['title'].fillna('missing')\n",
    "test['description'] = test['description'].fillna('missing')\n",
    "test['param_1'] = test['param_1'].fillna('missing')\n",
    "test['param_2'] = test['param_2'].fillna('')\n",
    "test['param_3'] = test['param_3'].fillna('')\n",
    "test['title'] = test['title'].apply(lambda x: cleanName(x))\n",
    "test[\"description\"]   = test[\"description\"].apply(lambda x: cleanName(x))\n",
    "test['param_1'] = test['param_1'].apply(lambda x: cleanName(x))\n",
    "test['param_2'] = test['param_2'].apply(lambda x: cleanName(x))\n",
    "test['param_3'] = test['param_3'].apply(lambda x: cleanName(x))\n",
    "\n",
    "train['title_description'] = (train['title']+\" \"+train['description']).astype(str)\n",
    "train['title_param'] = (train['title']+' '+train['param_1']+' '+train['param_2']+' '+train['param_3']).astype(str)\n",
    "train.drop(['description', 'title', 'param_1', 'param_2', 'param_3'], axis=1, inplace=True)\n",
    "\n",
    "test['title_description'] = (test['title']+\" \"+test['description']).astype(str)\n",
    "test['title_param'] = (test['title']+' '+test['param_1']+' '+test['param_2']+' '+test['param_3']).astype(str)\n",
    "test.drop(['description', 'title', 'param_1', 'param_2', 'param_3'], axis=1, inplace=True)\n",
    "\n",
    "print(train.shape)\n",
    "print(test.shape)"
   ]
  },
  {
   "cell_type": "code",
   "execution_count": null,
   "metadata": {},
   "outputs": [],
   "source": [
    "df = pd.concat([train, test])\n",
    "print(df.shape)"
   ]
  },
  {
   "cell_type": "code",
   "execution_count": 5,
   "metadata": {},
   "outputs": [],
   "source": [
    "russian_stop = set(stopwords.words('russian'))\n",
    "tfidf_para = {\n",
    "    \"stop_words\": russian_stop,\n",
    "    \"analyzer\": 'word',\n",
    "    \"token_pattern\": r'\\w{1,}',\n",
    "    \"sublinear_tf\": True,\n",
    "    \"dtype\": np.float32,\n",
    "    \"norm\": 'l2',\n",
    "    \"smooth_idf\":False\n",
    "}\n",
    "\n",
    "def get_col(col_name):\n",
    "    return lambda x: x[col_name]\n",
    "\n",
    "vectorizer = FeatureUnion([\n",
    "        ('title_description',TfidfVectorizer(\n",
    "            ngram_range=(1, 2),\n",
    "            max_features=17000,\n",
    "            **tfidf_para,\n",
    "            preprocessor=get_col('title_description'))),\n",
    "        ('title_param',CountVectorizer(\n",
    "            ngram_range=(1, 2),\n",
    "            stop_words = russian_stop,\n",
    "            preprocessor=get_col('title_param')))\n",
    "    ])\n",
    "\n",
    "vectorizer.fit(df.to_dict('records'))\n",
    "ready_df = vectorizer.transform(df.to_dict('records'))\n"
   ]
  },
  {
   "cell_type": "code",
   "execution_count": 6,
   "metadata": {},
   "outputs": [
    {
     "data": {
      "text/plain": [
       "(2011862, 1726281)"
      ]
     },
     "execution_count": 6,
     "metadata": {},
     "output_type": "execute_result"
    }
   ],
   "source": [
    "ready_df.shape"
   ]
  },
  {
   "cell_type": "code",
   "execution_count": 22,
   "metadata": {},
   "outputs": [
    {
     "data": {
      "text/plain": [
       "(1503424, 1726281)"
      ]
     },
     "execution_count": 22,
     "metadata": {},
     "output_type": "execute_result"
    }
   ],
   "source": [
    "train_df = ready_df[:lentrain]\n",
    "y = pd.read_csv('../input/train.csv', usecols=['deal_probability'])\n"
   ]
  },
  {
   "cell_type": "code",
   "execution_count": 23,
   "metadata": {},
   "outputs": [],
   "source": [
    "ridge_params = {'alpha':30.0, 'fit_intercept':True, 'normalize':False, 'copy_X':True,\n",
    "                'max_iter':None, 'tol':0.001, 'solver':'auto', 'random_state':786}\n",
    "ridge = Ridge(**ridge_params)\n",
    "ridge.fit(train_df, y)\n",
    "pred_ridge = ridge.predict(ready_df)\n"
   ]
  },
  {
   "cell_type": "code",
   "execution_count": 33,
   "metadata": {},
   "outputs": [
    {
     "name": "stdout",
     "output_type": "stream",
     "text": [
      "(1503424, 1)\n",
      "(508438, 1)\n"
     ]
    }
   ],
   "source": [
    "train_ridge = pred_ridge[:lentrain]\n",
    "test_ridge = pred_ridge[lentrain:]\n",
    "\n",
    "print(train_ridge.shape)\n",
    "print(test_ridge.shape)\n"
   ]
  },
  {
   "cell_type": "code",
   "execution_count": 34,
   "metadata": {},
   "outputs": [],
   "source": [
    "train_ridge_df = pd.DataFrame()\n",
    "test_ridge_df = pd.DataFrame()\n",
    "train_ridge_df['tfidf_td_counttp_ridge'] = pd.Series(train_ridge.flatten())\n",
    "test_ridge_df['tfidf_td_counttp_ridge'] = pd.Series(test_ridge.flatten())\n",
    "\n",
    "train_ridge_df.to_feather('../features/train/tfidf_td_counttp_ridge_train.feather')\n",
    "test_ridge_df.to_feather('../features/test/tfidf_td_counttp_ridge_test.feather')\n"
   ]
  },
  {
   "cell_type": "code",
   "execution_count": 35,
   "metadata": {},
   "outputs": [
    {
     "data": {
      "text/plain": [
       "573"
      ]
     },
     "execution_count": 35,
     "metadata": {},
     "output_type": "execute_result"
    }
   ],
   "source": [
    "del train_df, y, ridge, pred_ridge, train_ridge, test_ridge, train_ridge_df, test_ridge_df\n",
    "gc.collect()"
   ]
  },
  {
   "cell_type": "code",
   "execution_count": 7,
   "metadata": {},
   "outputs": [
    {
     "name": "stdout",
     "output_type": "stream",
     "text": [
      "(1503424, 7)\n",
      "(508438, 7)\n"
     ]
    },
    {
     "data": {
      "text/html": [
       "<div>\n",
       "<style scoped>\n",
       "    .dataframe tbody tr th:only-of-type {\n",
       "        vertical-align: middle;\n",
       "    }\n",
       "\n",
       "    .dataframe tbody tr th {\n",
       "        vertical-align: top;\n",
       "    }\n",
       "\n",
       "    .dataframe thead th {\n",
       "        text-align: right;\n",
       "    }\n",
       "</style>\n",
       "<table border=\"1\" class=\"dataframe\">\n",
       "  <thead>\n",
       "    <tr style=\"text-align: right;\">\n",
       "      <th></th>\n",
       "      <th>svd_tfidf_td_counttp_1</th>\n",
       "      <th>svd_tfidf_td_counttp_2</th>\n",
       "      <th>svd_tfidf_td_counttp_3</th>\n",
       "      <th>svd_tfidf_td_counttp_4</th>\n",
       "      <th>svd_tfidf_td_counttp_5</th>\n",
       "      <th>svd_tfidf_td_counttp_6</th>\n",
       "      <th>svd_tfidf_td_counttp_7</th>\n",
       "    </tr>\n",
       "  </thead>\n",
       "  <tbody>\n",
       "    <tr>\n",
       "      <th>0</th>\n",
       "      <td>0.001534</td>\n",
       "      <td>0.001379</td>\n",
       "      <td>0.000371</td>\n",
       "      <td>0.000184</td>\n",
       "      <td>0.001222</td>\n",
       "      <td>0.001553</td>\n",
       "      <td>0.000818</td>\n",
       "    </tr>\n",
       "    <tr>\n",
       "      <th>1</th>\n",
       "      <td>0.018931</td>\n",
       "      <td>0.003123</td>\n",
       "      <td>0.001861</td>\n",
       "      <td>0.002360</td>\n",
       "      <td>0.029123</td>\n",
       "      <td>0.003147</td>\n",
       "      <td>0.002795</td>\n",
       "    </tr>\n",
       "    <tr>\n",
       "      <th>2</th>\n",
       "      <td>0.004155</td>\n",
       "      <td>0.004870</td>\n",
       "      <td>0.000627</td>\n",
       "      <td>0.000704</td>\n",
       "      <td>0.004269</td>\n",
       "      <td>0.003596</td>\n",
       "      <td>-0.000188</td>\n",
       "    </tr>\n",
       "    <tr>\n",
       "      <th>3</th>\n",
       "      <td>0.002833</td>\n",
       "      <td>0.007087</td>\n",
       "      <td>-0.001822</td>\n",
       "      <td>0.001102</td>\n",
       "      <td>0.003681</td>\n",
       "      <td>0.010793</td>\n",
       "      <td>-0.000540</td>\n",
       "    </tr>\n",
       "    <tr>\n",
       "      <th>4</th>\n",
       "      <td>0.001063</td>\n",
       "      <td>0.003465</td>\n",
       "      <td>-0.000660</td>\n",
       "      <td>0.000945</td>\n",
       "      <td>0.005391</td>\n",
       "      <td>0.006716</td>\n",
       "      <td>0.001371</td>\n",
       "    </tr>\n",
       "  </tbody>\n",
       "</table>\n",
       "</div>"
      ],
      "text/plain": [
       "   svd_tfidf_td_counttp_1  svd_tfidf_td_counttp_2  svd_tfidf_td_counttp_3  \\\n",
       "0                0.001534                0.001379                0.000371   \n",
       "1                0.018931                0.003123                0.001861   \n",
       "2                0.004155                0.004870                0.000627   \n",
       "3                0.002833                0.007087               -0.001822   \n",
       "4                0.001063                0.003465               -0.000660   \n",
       "\n",
       "   svd_tfidf_td_counttp_4  svd_tfidf_td_counttp_5  svd_tfidf_td_counttp_6  \\\n",
       "0                0.000184                0.001222                0.001553   \n",
       "1                0.002360                0.029123                0.003147   \n",
       "2                0.000704                0.004269                0.003596   \n",
       "3                0.001102                0.003681                0.010793   \n",
       "4                0.000945                0.005391                0.006716   \n",
       "\n",
       "   svd_tfidf_td_counttp_7  \n",
       "0                0.000818  \n",
       "1                0.002795  \n",
       "2               -0.000188  \n",
       "3               -0.000540  \n",
       "4                0.001371  "
      ]
     },
     "execution_count": 7,
     "metadata": {},
     "output_type": "execute_result"
    }
   ],
   "source": [
    "n_comp = 7\n",
    "tsvd = TruncatedSVD(n_components=n_comp, algorithm='arpack')\n",
    "pred_tsvd = tsvd.fit_transform(ready_df)\n",
    "\n",
    "train_svd = pd.DataFrame(pred_tsvd[:lentrain])\n",
    "test_svd = pd.DataFrame(pred_tsvd[lentrain:])\n",
    "train_svd.columns = ['svd_tfidf_td_counttp_'+str(i+1) for i in range(n_comp)]\n",
    "test_svd.columns =  ['svd_tfidf_td_counttp_'+str(i+1) for i in range(n_comp)]\n",
    "\n",
    "print(train_svd.shape)\n",
    "print(test_svd.shape)\n",
    "train_svd.head()\n"
   ]
  },
  {
   "cell_type": "code",
   "execution_count": 8,
   "metadata": {},
   "outputs": [
    {
     "data": {
      "text/html": [
       "<div>\n",
       "<style scoped>\n",
       "    .dataframe tbody tr th:only-of-type {\n",
       "        vertical-align: middle;\n",
       "    }\n",
       "\n",
       "    .dataframe tbody tr th {\n",
       "        vertical-align: top;\n",
       "    }\n",
       "\n",
       "    .dataframe thead th {\n",
       "        text-align: right;\n",
       "    }\n",
       "</style>\n",
       "<table border=\"1\" class=\"dataframe\">\n",
       "  <thead>\n",
       "    <tr style=\"text-align: right;\">\n",
       "      <th></th>\n",
       "      <th>svd_tfidf_td_counttp_1</th>\n",
       "      <th>svd_tfidf_td_counttp_2</th>\n",
       "      <th>svd_tfidf_td_counttp_3</th>\n",
       "      <th>svd_tfidf_td_counttp_4</th>\n",
       "      <th>svd_tfidf_td_counttp_5</th>\n",
       "      <th>svd_tfidf_td_counttp_6</th>\n",
       "      <th>svd_tfidf_td_counttp_7</th>\n",
       "    </tr>\n",
       "  </thead>\n",
       "  <tbody>\n",
       "    <tr>\n",
       "      <th>0</th>\n",
       "      <td>0.167345</td>\n",
       "      <td>0.102180</td>\n",
       "      <td>0.150162</td>\n",
       "      <td>-0.016680</td>\n",
       "      <td>1.063206</td>\n",
       "      <td>-0.036857</td>\n",
       "      <td>-0.010652</td>\n",
       "    </tr>\n",
       "    <tr>\n",
       "      <th>1</th>\n",
       "      <td>0.045838</td>\n",
       "      <td>0.419654</td>\n",
       "      <td>-0.204260</td>\n",
       "      <td>0.001974</td>\n",
       "      <td>0.030034</td>\n",
       "      <td>0.291563</td>\n",
       "      <td>-0.028960</td>\n",
       "    </tr>\n",
       "    <tr>\n",
       "      <th>2</th>\n",
       "      <td>0.003048</td>\n",
       "      <td>0.005567</td>\n",
       "      <td>-0.000682</td>\n",
       "      <td>0.001268</td>\n",
       "      <td>0.002815</td>\n",
       "      <td>0.005138</td>\n",
       "      <td>0.000174</td>\n",
       "    </tr>\n",
       "    <tr>\n",
       "      <th>3</th>\n",
       "      <td>0.004797</td>\n",
       "      <td>0.017048</td>\n",
       "      <td>-0.007456</td>\n",
       "      <td>0.000256</td>\n",
       "      <td>0.001802</td>\n",
       "      <td>0.012933</td>\n",
       "      <td>-0.001032</td>\n",
       "    </tr>\n",
       "    <tr>\n",
       "      <th>4</th>\n",
       "      <td>0.009655</td>\n",
       "      <td>0.022582</td>\n",
       "      <td>0.008219</td>\n",
       "      <td>0.007578</td>\n",
       "      <td>0.044346</td>\n",
       "      <td>0.021044</td>\n",
       "      <td>0.001821</td>\n",
       "    </tr>\n",
       "  </tbody>\n",
       "</table>\n",
       "</div>"
      ],
      "text/plain": [
       "   svd_tfidf_td_counttp_1  svd_tfidf_td_counttp_2  svd_tfidf_td_counttp_3  \\\n",
       "0                0.167345                0.102180                0.150162   \n",
       "1                0.045838                0.419654               -0.204260   \n",
       "2                0.003048                0.005567               -0.000682   \n",
       "3                0.004797                0.017048               -0.007456   \n",
       "4                0.009655                0.022582                0.008219   \n",
       "\n",
       "   svd_tfidf_td_counttp_4  svd_tfidf_td_counttp_5  svd_tfidf_td_counttp_6  \\\n",
       "0               -0.016680                1.063206               -0.036857   \n",
       "1                0.001974                0.030034                0.291563   \n",
       "2                0.001268                0.002815                0.005138   \n",
       "3                0.000256                0.001802                0.012933   \n",
       "4                0.007578                0.044346                0.021044   \n",
       "\n",
       "   svd_tfidf_td_counttp_7  \n",
       "0               -0.010652  \n",
       "1               -0.028960  \n",
       "2                0.000174  \n",
       "3               -0.001032  \n",
       "4                0.001821  "
      ]
     },
     "execution_count": 8,
     "metadata": {},
     "output_type": "execute_result"
    }
   ],
   "source": [
    "test_svd.head()"
   ]
  },
  {
   "cell_type": "code",
   "execution_count": 9,
   "metadata": {},
   "outputs": [],
   "source": [
    "train_svd.to_feather('../features/train/tfidf_td_counttp_tsvd_train.feather')\n",
    "test_svd.to_feather('../features/test/tfidf_td_counttp_tsvd_test.feather')\n"
   ]
  },
  {
   "cell_type": "code",
   "execution_count": 15,
   "metadata": {},
   "outputs": [
    {
     "data": {
      "image/png": "[encoded data removed]",
      "text/plain": [
       "<Figure size 1080x1080 with 7 Axes>"
      ]
     },
     "metadata": {},
     "output_type": "display_data"
    }
   ],
   "source": [
    "plt.figure(figsize=(15, 15))\n",
    "for i in range(7):\n",
    "    plt.subplot(7, 1, i+1)\n",
    "    plt.hist(train_svd.iloc[:, i])"
   ]
  },
  {
   "cell_type": "code",
   "execution_count": 16,
   "metadata": {},
   "outputs": [
    {
     "data": {
      "image/png": "[encoded data removed]",
      "text/plain": [
       "<Figure size 1080x1080 with 7 Axes>"
      ]
     },
     "metadata": {},
     "output_type": "display_data"
    }
   ],
   "source": [
    "plt.figure(figsize=(15, 15))\n",
    "for i in range(7):\n",
    "    plt.subplot(7, 1, i+1)\n",
    "    plt.hist(test_svd.iloc[:, i])"
   ]
  },
  {
   "cell_type": "code",
   "execution_count": 3,
   "metadata": {},
   "outputs": [
    {
     "name": "stdout",
     "output_type": "stream",
     "text": [
      "(1503424, 1)\n",
      "(1503424, 1)\n",
      "(508438, 1)\n",
      "(508438, 1)\n",
      "(14129821, 1)\n",
      "(14129821, 1)\n",
      "(12824068, 1)\n",
      "(12824068, 1)\n",
      "(1503424, 1)\n",
      "(1503424, 1)\n",
      "(508438, 1)\n",
      "(508438, 1)\n",
      "(14129821, 1)\n",
      "(14129821, 1)\n"
     ]
    },
    {
     "ename": "TypeError",
     "evalue": "Cannot convert pyarrow.lib.ChunkedArray to pyarrow.lib.Array",
     "output_type": "error",
     "traceback": [
      "\u001b[1;31m---------------------------------------------------------------------------\u001b[0m",
      "\u001b[1;31mTypeError\u001b[0m                                 Traceback (most recent call last)",
      "\u001b[1;32m<ipython-input-3-441d432666c3>\u001b[0m in \u001b[0;36m<module>\u001b[1;34m()\u001b[0m\n\u001b[0;32m     10\u001b[0m         \u001b[0mdf\u001b[0m\u001b[1;33m[\u001b[0m\u001b[0mcol\u001b[0m\u001b[1;33m]\u001b[0m \u001b[1;33m=\u001b[0m \u001b[0mdf\u001b[0m\u001b[1;33m[\u001b[0m\u001b[0mcol\u001b[0m\u001b[1;33m]\u001b[0m\u001b[1;33m.\u001b[0m\u001b[0mapply\u001b[0m\u001b[1;33m(\u001b[0m\u001b[1;32mlambda\u001b[0m \u001b[0mx\u001b[0m\u001b[1;33m:\u001b[0m \u001b[0mcleanName\u001b[0m\u001b[1;33m(\u001b[0m\u001b[0mx\u001b[0m\u001b[1;33m)\u001b[0m\u001b[1;33m)\u001b[0m\u001b[1;33m\u001b[0m\u001b[0m\n\u001b[0;32m     11\u001b[0m         \u001b[0mprint\u001b[0m\u001b[1;33m(\u001b[0m\u001b[0mdf\u001b[0m\u001b[1;33m.\u001b[0m\u001b[0mshape\u001b[0m\u001b[1;33m)\u001b[0m\u001b[1;33m\u001b[0m\u001b[0m\n\u001b[1;32m---> 12\u001b[1;33m         \u001b[0mdf\u001b[0m\u001b[1;33m.\u001b[0m\u001b[0mto_feather\u001b[0m\u001b[1;33m(\u001b[0m\u001b[0mfeather_name\u001b[0m\u001b[1;33m+\u001b[0m\u001b[0mcol\u001b[0m\u001b[1;33m+\u001b[0m\u001b[1;34m'.feather'\u001b[0m\u001b[1;33m)\u001b[0m\u001b[1;33m\u001b[0m\u001b[0m\n\u001b[0m\u001b[0;32m     13\u001b[0m         \u001b[1;32mdel\u001b[0m \u001b[0mdf\u001b[0m\u001b[1;33m\u001b[0m\u001b[0m\n\u001b[0;32m     14\u001b[0m         \u001b[0mgc\u001b[0m\u001b[1;33m.\u001b[0m\u001b[0mcollect\u001b[0m\u001b[1;33m(\u001b[0m\u001b[1;33m)\u001b[0m\u001b[1;33m\u001b[0m\u001b[0m\n",
      "\u001b[1;32m~\\Anaconda3\\envs\\InqueryAnalysis\\lib\\site-packages\\pandas\\core\\frame.py\u001b[0m in \u001b[0;36mto_feather\u001b[1;34m(self, fname)\u001b[0m\n\u001b[0;32m   1887\u001b[0m         \"\"\"\n\u001b[0;32m   1888\u001b[0m         \u001b[1;32mfrom\u001b[0m \u001b[0mpandas\u001b[0m\u001b[1;33m.\u001b[0m\u001b[0mio\u001b[0m\u001b[1;33m.\u001b[0m\u001b[0mfeather_format\u001b[0m \u001b[1;32mimport\u001b[0m \u001b[0mto_feather\u001b[0m\u001b[1;33m\u001b[0m\u001b[0m\n\u001b[1;32m-> 1889\u001b[1;33m         \u001b[0mto_feather\u001b[0m\u001b[1;33m(\u001b[0m\u001b[0mself\u001b[0m\u001b[1;33m,\u001b[0m \u001b[0mfname\u001b[0m\u001b[1;33m)\u001b[0m\u001b[1;33m\u001b[0m\u001b[0m\n\u001b[0m\u001b[0;32m   1890\u001b[0m \u001b[1;33m\u001b[0m\u001b[0m\n\u001b[0;32m   1891\u001b[0m     def to_parquet(self, fname, engine='auto', compression='snappy',\n",
      "\u001b[1;32m~\\Anaconda3\\envs\\InqueryAnalysis\\lib\\site-packages\\pandas\\io\\feather_format.py\u001b[0m in \u001b[0;36mto_feather\u001b[1;34m(df, path)\u001b[0m\n\u001b[0;32m     81\u001b[0m         \u001b[1;32mraise\u001b[0m \u001b[0mValueError\u001b[0m\u001b[1;33m(\u001b[0m\u001b[1;34m\"feather must have string column names\"\u001b[0m\u001b[1;33m)\u001b[0m\u001b[1;33m\u001b[0m\u001b[0m\n\u001b[0;32m     82\u001b[0m \u001b[1;33m\u001b[0m\u001b[0m\n\u001b[1;32m---> 83\u001b[1;33m     \u001b[0mfeather\u001b[0m\u001b[1;33m.\u001b[0m\u001b[0mwrite_dataframe\u001b[0m\u001b[1;33m(\u001b[0m\u001b[0mdf\u001b[0m\u001b[1;33m,\u001b[0m \u001b[0mpath\u001b[0m\u001b[1;33m)\u001b[0m\u001b[1;33m\u001b[0m\u001b[0m\n\u001b[0m\u001b[0;32m     84\u001b[0m \u001b[1;33m\u001b[0m\u001b[0m\n\u001b[0;32m     85\u001b[0m \u001b[1;33m\u001b[0m\u001b[0m\n",
      "\u001b[1;32m~\\Anaconda3\\envs\\InqueryAnalysis\\lib\\site-packages\\pyarrow\\feather.py\u001b[0m in \u001b[0;36mwrite_feather\u001b[1;34m(df, dest)\u001b[0m\n\u001b[0;32m     98\u001b[0m     \u001b[0mwriter\u001b[0m \u001b[1;33m=\u001b[0m \u001b[0mFeatherWriter\u001b[0m\u001b[1;33m(\u001b[0m\u001b[0mdest\u001b[0m\u001b[1;33m)\u001b[0m\u001b[1;33m\u001b[0m\u001b[0m\n\u001b[0;32m     99\u001b[0m     \u001b[1;32mtry\u001b[0m\u001b[1;33m:\u001b[0m\u001b[1;33m\u001b[0m\u001b[0m\n\u001b[1;32m--> 100\u001b[1;33m         \u001b[0mwriter\u001b[0m\u001b[1;33m.\u001b[0m\u001b[0mwrite\u001b[0m\u001b[1;33m(\u001b[0m\u001b[0mdf\u001b[0m\u001b[1;33m)\u001b[0m\u001b[1;33m\u001b[0m\u001b[0m\n\u001b[0m\u001b[0;32m    101\u001b[0m     \u001b[1;32mexcept\u001b[0m \u001b[0mException\u001b[0m\u001b[1;33m:\u001b[0m\u001b[1;33m\u001b[0m\u001b[0m\n\u001b[0;32m    102\u001b[0m         \u001b[1;31m# Try to make sure the resource is closed\u001b[0m\u001b[1;33m\u001b[0m\u001b[1;33m\u001b[0m\u001b[0m\n",
      "\u001b[1;32m~\\Anaconda3\\envs\\InqueryAnalysis\\lib\\site-packages\\pyarrow\\feather.py\u001b[0m in \u001b[0;36mwrite\u001b[1;34m(self, df)\u001b[0m\n\u001b[0;32m     78\u001b[0m         \u001b[1;31m# TODO(wesm): Remove this length check, see ARROW-1732\u001b[0m\u001b[1;33m\u001b[0m\u001b[1;33m\u001b[0m\u001b[0m\n\u001b[0;32m     79\u001b[0m         \u001b[1;32mif\u001b[0m \u001b[0mlen\u001b[0m\u001b[1;33m(\u001b[0m\u001b[0mdf\u001b[0m\u001b[1;33m.\u001b[0m\u001b[0mcolumns\u001b[0m\u001b[1;33m)\u001b[0m \u001b[1;33m>\u001b[0m \u001b[1;36m0\u001b[0m\u001b[1;33m:\u001b[0m\u001b[1;33m\u001b[0m\u001b[0m\n\u001b[1;32m---> 80\u001b[1;33m             \u001b[0mbatch\u001b[0m \u001b[1;33m=\u001b[0m \u001b[0mRecordBatch\u001b[0m\u001b[1;33m.\u001b[0m\u001b[0mfrom_pandas\u001b[0m\u001b[1;33m(\u001b[0m\u001b[0mdf\u001b[0m\u001b[1;33m,\u001b[0m \u001b[0mpreserve_index\u001b[0m\u001b[1;33m=\u001b[0m\u001b[1;32mFalse\u001b[0m\u001b[1;33m)\u001b[0m\u001b[1;33m\u001b[0m\u001b[0m\n\u001b[0m\u001b[0;32m     81\u001b[0m             \u001b[1;32mfor\u001b[0m \u001b[0mi\u001b[0m\u001b[1;33m,\u001b[0m \u001b[0mname\u001b[0m \u001b[1;32min\u001b[0m \u001b[0menumerate\u001b[0m\u001b[1;33m(\u001b[0m\u001b[0mbatch\u001b[0m\u001b[1;33m.\u001b[0m\u001b[0mschema\u001b[0m\u001b[1;33m.\u001b[0m\u001b[0mnames\u001b[0m\u001b[1;33m)\u001b[0m\u001b[1;33m:\u001b[0m\u001b[1;33m\u001b[0m\u001b[0m\n\u001b[0;32m     82\u001b[0m                 \u001b[0mcol\u001b[0m \u001b[1;33m=\u001b[0m \u001b[0mbatch\u001b[0m\u001b[1;33m[\u001b[0m\u001b[0mi\u001b[0m\u001b[1;33m]\u001b[0m\u001b[1;33m\u001b[0m\u001b[0m\n",
      "\u001b[1;32mtable.pxi\u001b[0m in \u001b[0;36mpyarrow.lib.RecordBatch.from_pandas\u001b[1;34m()\u001b[0m\n",
      "\u001b[1;32mtable.pxi\u001b[0m in \u001b[0;36mpyarrow.lib.RecordBatch.from_arrays\u001b[1;34m()\u001b[0m\n",
      "\u001b[1;31mTypeError\u001b[0m: Cannot convert pyarrow.lib.ChunkedArray to pyarrow.lib.Array"
     ]
    }
   ],
   "source": [
    "# Add active data\n",
    "cols = ['title', 'description']\n",
    "files = ['../input/train.csv', '../input/test.csv', '../input/train_active.csv', '../input/test_active.csv']\n",
    "feather_names = ['../input/train_', '../input/test_', '../input/train_active_', '../input/test_active_']\n",
    "for col in cols:\n",
    "    for file, feather_name in zip(files, feather_names):    \n",
    "        df = pd.read_csv(file, usecols=[col])\n",
    "        print(df.shape)\n",
    "        df[col] = df[col].fillna('missing')\n",
    "        df[col] = df[col].apply(lambda x: cleanName(x))\n",
    "        print(df.shape)\n",
    "        df.to_feather(feather_name+col+'.feather')\n",
    "        del df\n",
    "        gc.collect()\n"
   ]
  },
  {
   "cell_type": "code",
   "execution_count": null,
   "metadata": {},
   "outputs": [],
   "source": [
    "russian_stop = set(stopwords.words('russian'))\n",
    "\n",
    "train = pd.read_feather('../input/train_title.feather')\n",
    "tset = pd.read_feather('../input/test_title.feather')\n",
    "train_active = pd.read_feather('../input/train_active_title.feather')\n",
    "test_active = pd.read_feather('../input/test_active_title.feather')\n",
    "\n",
    "df = pd.concat([train, test, train_active, test_active])\n",
    "del train, test, train_active, test_active\n",
    "gc.collect()\n",
    "\n",
    "cv = CountVectorizer(ngram_range=(1, 2),\n",
    "                     stop_words = russian_stop,\n",
    "                     preprocessor=get_col('title')\n",
    "                    )\n",
    "ready_df = cv.fit_transform(df.to_dit('records'))\n",
    "train_df = ready_df[:lentrain, :]\n",
    "test_df = ready_df[lentrain:lentrain+lentest, :]\n",
    "print(train_df.shape)\n",
    "print(test_df.shape)\n",
    "print(ready_df.shape)\n",
    "\n",
    "del df, cv, ready_df\n",
    "gc.collect()\n",
    "\n",
    "train = pd.read_feather('../input/train_description.feather')\n",
    "tset = pd.read_feather('../input/test_description.feather')\n",
    "train_active = pd.read_feather('../input/train_active_description.feather')\n",
    "test_active = pd.read_feather('../input/test_active_description.feather')\n",
    "\n",
    "df = pd.concat([train, test, train_active, test_active])\n",
    "del train, test, train_active, test_active\n",
    "gc.collect()\n",
    "\n",
    "tfidf_para = {\n",
    "    \"stop_words\": russian_stop,\n",
    "    \"analyzer\": 'word',\n",
    "    \"token_pattern\": r'\\w{1,}',\n",
    "    \"sublinear_tf\": True,\n",
    "    \"dtype\": np.float32,\n",
    "    \"norm\": 'l2',\n",
    "    \"smooth_idf\":False\n",
    "}\n",
    "tv = TfidfVectorizer(ngram_range=(1, 2),\n",
    "                     max_features=17000,\n",
    "                     **tfidf_para,\n",
    "                     preprocessor=get_col('description')\n",
    "                    )\n",
    "\n",
    "ready_df = cv.fit_transform(df.to_dit('records'))\n",
    "del df; gc.collect()\n",
    "train_df_1 = ready_df[:lentrain, :]\n",
    "test_df_1 = ready_df[lentrain:lentrain+lentest, :]\n",
    "print(train_df_1.shape)\n",
    "print(test_df_1.shape)\n",
    "print(ready_df.shape)\n",
    "del tv, ready_df\n",
    "gc.collect()\n",
    "\n",
    "train_df = np."
   ]
  },
  {
   "cell_type": "code",
   "execution_count": null,
   "metadata": {},
   "outputs": [],
   "source": []
  },
  {
   "cell_type": "code",
   "execution_count": null,
   "metadata": {},
   "outputs": [],
   "source": []
  },
  {
   "cell_type": "code",
   "execution_count": null,
   "metadata": {},
   "outputs": [],
   "source": []
  },
  {
   "cell_type": "code",
   "execution_count": null,
   "metadata": {},
   "outputs": [],
   "source": [
    "# Word + n-Char"
   ]
  },
  {
   "cell_type": "code",
   "execution_count": 3,
   "metadata": {},
   "outputs": [
    {
     "name": "stdout",
     "output_type": "stream",
     "text": [
      "(1503424, 1)\n",
      "(508438, 1)\n"
     ]
    }
   ],
   "source": [
    "train = pd.read_csv('../input/train.csv', usecols=['description', 'title', 'param_1', 'param_2', 'param_3'])\n",
    "test = pd.read_csv('../input/test.csv', usecols=['description', 'title', 'param_1', 'param_2', 'param_3'])\n",
    "\n",
    "train['title'] = train['title'].fillna('missing')\n",
    "train['description'] = train['description'].fillna('missing')\n",
    "train['param_1'] = train['param_1'].fillna('missing')\n",
    "train['param_2'] = train['param_2'].fillna('')\n",
    "train['param_3'] = train['param_3'].fillna('')\n",
    "train['title'] = train['title'].apply(lambda x: cleanName(x))\n",
    "train[\"description\"]   = train[\"description\"].apply(lambda x: cleanName(x))\n",
    "train['param_1'] = train['param_1'].apply(lambda x: cleanName(x))\n",
    "train['param_2'] = train['param_2'].apply(lambda x: cleanName(x))\n",
    "train['param_3'] = train['param_3'].apply(lambda x: cleanName(x))\n",
    "\n",
    "\n",
    "test['title'] = test['title'].fillna('missing')\n",
    "test['description'] = test['description'].fillna('missing')\n",
    "test['param_1'] = test['param_1'].fillna('missing')\n",
    "test['param_2'] = test['param_2'].fillna('')\n",
    "test['param_3'] = test['param_3'].fillna('')\n",
    "test['title'] = test['title'].apply(lambda x: cleanName(x))\n",
    "test[\"description\"]   = test[\"description\"].apply(lambda x: cleanName(x))\n",
    "test['param_1'] = test['param_1'].apply(lambda x: cleanName(x))\n",
    "test['param_2'] = test['param_2'].apply(lambda x: cleanName(x))\n",
    "test['param_3'] = test['param_3'].apply(lambda x: cleanName(x))\n",
    "\n",
    "train['title_description'] = (train['title']+\" \"+train['description']).astype(str)\n",
    "#train['title_param'] = (train['title']+' '+train['param_1']+' '+train['param_2']+' '+train['param_3']).astype(str)\n",
    "train.drop(['description', 'title', 'param_1', 'param_2', 'param_3'], axis=1, inplace=True)\n",
    "\n",
    "test['title_description'] = (test['title']+\" \"+test['description']).astype(str)\n",
    "#test['title_param'] = (test['title']+' '+test['param_1']+' '+test['param_2']+' '+test['param_3']).astype(str)\n",
    "test.drop(['description', 'title', 'param_1', 'param_2', 'param_3'], axis=1, inplace=True)\n",
    "\n",
    "print(train.shape)\n",
    "print(test.shape)"
   ]
  },
  {
   "cell_type": "code",
   "execution_count": 4,
   "metadata": {},
   "outputs": [
    {
     "data": {
      "text/plain": [
       "(2011862, 1)"
      ]
     },
     "execution_count": 4,
     "metadata": {},
     "output_type": "execute_result"
    }
   ],
   "source": [
    "df = pd.concat([train, test])\n",
    "del train, test\n",
    "gc.collect()\n",
    "df.shape"
   ]
  },
  {
   "cell_type": "code",
   "execution_count": 5,
   "metadata": {},
   "outputs": [
    {
     "ename": "MemoryError",
     "evalue": "",
     "output_type": "error",
     "traceback": [
      "\u001b[1;31m---------------------------------------------------------------------------\u001b[0m",
      "\u001b[1;31mMemoryError\u001b[0m                               Traceback (most recent call last)",
      "\u001b[1;32m<ipython-input-5-c9d484ce9449>\u001b[0m in \u001b[0;36m<module>\u001b[1;34m()\u001b[0m\n\u001b[0;32m     34\u001b[0m \u001b[1;33m\u001b[0m\u001b[0m\n\u001b[0;32m     35\u001b[0m \u001b[0mvectorizer\u001b[0m\u001b[1;33m.\u001b[0m\u001b[0mfit\u001b[0m\u001b[1;33m(\u001b[0m\u001b[0mdf\u001b[0m\u001b[1;33m.\u001b[0m\u001b[0mto_dict\u001b[0m\u001b[1;33m(\u001b[0m\u001b[1;34m'records'\u001b[0m\u001b[1;33m)\u001b[0m\u001b[1;33m)\u001b[0m\u001b[1;33m\u001b[0m\u001b[0m\n\u001b[1;32m---> 36\u001b[1;33m \u001b[0mready_df\u001b[0m \u001b[1;33m=\u001b[0m \u001b[0mvectorizer\u001b[0m\u001b[1;33m.\u001b[0m\u001b[0mtransform\u001b[0m\u001b[1;33m(\u001b[0m\u001b[0mdf\u001b[0m\u001b[1;33m.\u001b[0m\u001b[0mto_dict\u001b[0m\u001b[1;33m(\u001b[0m\u001b[1;34m'records'\u001b[0m\u001b[1;33m)\u001b[0m\u001b[1;33m)\u001b[0m\u001b[1;33m\u001b[0m\u001b[0m\n\u001b[0m",
      "\u001b[1;32m~\\Anaconda3\\envs\\InqueryAnalysis\\lib\\site-packages\\sklearn\\pipeline.py\u001b[0m in \u001b[0;36mtransform\u001b[1;34m(self, X)\u001b[0m\n\u001b[0;32m    771\u001b[0m             \u001b[1;32mreturn\u001b[0m \u001b[0mnp\u001b[0m\u001b[1;33m.\u001b[0m\u001b[0mzeros\u001b[0m\u001b[1;33m(\u001b[0m\u001b[1;33m(\u001b[0m\u001b[0mX\u001b[0m\u001b[1;33m.\u001b[0m\u001b[0mshape\u001b[0m\u001b[1;33m[\u001b[0m\u001b[1;36m0\u001b[0m\u001b[1;33m]\u001b[0m\u001b[1;33m,\u001b[0m \u001b[1;36m0\u001b[0m\u001b[1;33m)\u001b[0m\u001b[1;33m)\u001b[0m\u001b[1;33m\u001b[0m\u001b[0m\n\u001b[0;32m    772\u001b[0m         \u001b[1;32mif\u001b[0m \u001b[0many\u001b[0m\u001b[1;33m(\u001b[0m\u001b[0msparse\u001b[0m\u001b[1;33m.\u001b[0m\u001b[0missparse\u001b[0m\u001b[1;33m(\u001b[0m\u001b[0mf\u001b[0m\u001b[1;33m)\u001b[0m \u001b[1;32mfor\u001b[0m \u001b[0mf\u001b[0m \u001b[1;32min\u001b[0m \u001b[0mXs\u001b[0m\u001b[1;33m)\u001b[0m\u001b[1;33m:\u001b[0m\u001b[1;33m\u001b[0m\u001b[0m\n\u001b[1;32m--> 773\u001b[1;33m             \u001b[0mXs\u001b[0m \u001b[1;33m=\u001b[0m \u001b[0msparse\u001b[0m\u001b[1;33m.\u001b[0m\u001b[0mhstack\u001b[0m\u001b[1;33m(\u001b[0m\u001b[0mXs\u001b[0m\u001b[1;33m)\u001b[0m\u001b[1;33m.\u001b[0m\u001b[0mtocsr\u001b[0m\u001b[1;33m(\u001b[0m\u001b[1;33m)\u001b[0m\u001b[1;33m\u001b[0m\u001b[0m\n\u001b[0m\u001b[0;32m    774\u001b[0m         \u001b[1;32melse\u001b[0m\u001b[1;33m:\u001b[0m\u001b[1;33m\u001b[0m\u001b[0m\n\u001b[0;32m    775\u001b[0m             \u001b[0mXs\u001b[0m \u001b[1;33m=\u001b[0m \u001b[0mnp\u001b[0m\u001b[1;33m.\u001b[0m\u001b[0mhstack\u001b[0m\u001b[1;33m(\u001b[0m\u001b[0mXs\u001b[0m\u001b[1;33m)\u001b[0m\u001b[1;33m\u001b[0m\u001b[0m\n",
      "\u001b[1;32m~\\Anaconda3\\envs\\InqueryAnalysis\\lib\\site-packages\\scipy\\sparse\\construct.py\u001b[0m in \u001b[0;36mhstack\u001b[1;34m(blocks, format, dtype)\u001b[0m\n\u001b[0;32m    462\u001b[0m \u001b[1;33m\u001b[0m\u001b[0m\n\u001b[0;32m    463\u001b[0m     \"\"\"\n\u001b[1;32m--> 464\u001b[1;33m     \u001b[1;32mreturn\u001b[0m \u001b[0mbmat\u001b[0m\u001b[1;33m(\u001b[0m\u001b[1;33m[\u001b[0m\u001b[0mblocks\u001b[0m\u001b[1;33m]\u001b[0m\u001b[1;33m,\u001b[0m \u001b[0mformat\u001b[0m\u001b[1;33m=\u001b[0m\u001b[0mformat\u001b[0m\u001b[1;33m,\u001b[0m \u001b[0mdtype\u001b[0m\u001b[1;33m=\u001b[0m\u001b[0mdtype\u001b[0m\u001b[1;33m)\u001b[0m\u001b[1;33m\u001b[0m\u001b[0m\n\u001b[0m\u001b[0;32m    465\u001b[0m \u001b[1;33m\u001b[0m\u001b[0m\n\u001b[0;32m    466\u001b[0m \u001b[1;33m\u001b[0m\u001b[0m\n",
      "\u001b[1;32m~\\Anaconda3\\envs\\InqueryAnalysis\\lib\\site-packages\\scipy\\sparse\\construct.py\u001b[0m in \u001b[0;36mbmat\u001b[1;34m(blocks, format, dtype)\u001b[0m\n\u001b[0;32m    607\u001b[0m     \u001b[0mdata\u001b[0m \u001b[1;33m=\u001b[0m \u001b[0mnp\u001b[0m\u001b[1;33m.\u001b[0m\u001b[0mempty\u001b[0m\u001b[1;33m(\u001b[0m\u001b[0mnnz\u001b[0m\u001b[1;33m,\u001b[0m \u001b[0mdtype\u001b[0m\u001b[1;33m=\u001b[0m\u001b[0mdtype\u001b[0m\u001b[1;33m)\u001b[0m\u001b[1;33m\u001b[0m\u001b[0m\n\u001b[0;32m    608\u001b[0m     \u001b[0midx_dtype\u001b[0m \u001b[1;33m=\u001b[0m \u001b[0mget_index_dtype\u001b[0m\u001b[1;33m(\u001b[0m\u001b[0mmaxval\u001b[0m\u001b[1;33m=\u001b[0m\u001b[0mmax\u001b[0m\u001b[1;33m(\u001b[0m\u001b[0mshape\u001b[0m\u001b[1;33m)\u001b[0m\u001b[1;33m)\u001b[0m\u001b[1;33m\u001b[0m\u001b[0m\n\u001b[1;32m--> 609\u001b[1;33m     \u001b[0mrow\u001b[0m \u001b[1;33m=\u001b[0m \u001b[0mnp\u001b[0m\u001b[1;33m.\u001b[0m\u001b[0mempty\u001b[0m\u001b[1;33m(\u001b[0m\u001b[0mnnz\u001b[0m\u001b[1;33m,\u001b[0m \u001b[0mdtype\u001b[0m\u001b[1;33m=\u001b[0m\u001b[0midx_dtype\u001b[0m\u001b[1;33m)\u001b[0m\u001b[1;33m\u001b[0m\u001b[0m\n\u001b[0m\u001b[0;32m    610\u001b[0m     \u001b[0mcol\u001b[0m \u001b[1;33m=\u001b[0m \u001b[0mnp\u001b[0m\u001b[1;33m.\u001b[0m\u001b[0mempty\u001b[0m\u001b[1;33m(\u001b[0m\u001b[0mnnz\u001b[0m\u001b[1;33m,\u001b[0m \u001b[0mdtype\u001b[0m\u001b[1;33m=\u001b[0m\u001b[0midx_dtype\u001b[0m\u001b[1;33m)\u001b[0m\u001b[1;33m\u001b[0m\u001b[0m\n\u001b[0;32m    611\u001b[0m \u001b[1;33m\u001b[0m\u001b[0m\n",
      "\u001b[1;31mMemoryError\u001b[0m: "
     ]
    }
   ],
   "source": [
    "russian_stop = set(stopwords.words('russian'))\n",
    "tfidf_para = {\n",
    "    \"stop_words\": russian_stop,\n",
    "    \"analyzer\": 'word',\n",
    "    \"token_pattern\": r'\\w{1,}',\n",
    "    \"sublinear_tf\": True,\n",
    "    \"dtype\": np.float32,\n",
    "    \"norm\": 'l2',\n",
    "    \"smooth_idf\":False\n",
    "}\n",
    "\n",
    "def get_col(col_name):\n",
    "    return lambda x: x[col_name]\n",
    "\n",
    "vectorizer = FeatureUnion([\n",
    "        ('title_description',TfidfVectorizer(\n",
    "            ngram_range=(1, 2),\n",
    "            max_features=17000,\n",
    "            **tfidf_para,\n",
    "            preprocessor=get_col('title_description'))),\n",
    "        ('title_decsription_char',TfidfVectorizer(\n",
    "            stop_words = russian_stop,\n",
    "            preprocessor=get_col('title_description'),\n",
    "            sublinear_tf=True,\n",
    "            strip_accents='unicode',\n",
    "            analyzer='char',\n",
    "            ngram_range=(2, 4),\n",
    "            max_features=30000,\n",
    "            smooth_idf=False,\n",
    "            token_pattern=r'\\w{1,}',\n",
    "            dtype=np.float32\n",
    "        ))\n",
    "    ])\n",
    "\n",
    "vectorizer.fit(df.to_dict('records'))\n",
    "ready_df = vectorizer.transform(df.to_dict('records'))\n"
   ]
  },
  {
   "cell_type": "code",
   "execution_count": null,
   "metadata": {},
   "outputs": [],
   "source": [
    "train_df = ready_df[:lentrain]\n",
    "y = pd.read_csv('../input/train.csv', usecols=['deal_probability'])\n"
   ]
  },
  {
   "cell_type": "code",
   "execution_count": null,
   "metadata": {},
   "outputs": [],
   "source": [
    "ridge_params = {'alpha':30.0, 'fit_intercept':True, 'normalize':False, 'copy_X':True,\n",
    "                'max_iter':None, 'tol':0.001, 'solver':'auto', 'random_state':786}\n",
    "ridge = Ridge(**ridge_params)\n",
    "ridge.fit(train_df, y)\n",
    "pred_ridge = ridge.predict(ready_df)\n"
   ]
  },
  {
   "cell_type": "code",
   "execution_count": null,
   "metadata": {},
   "outputs": [],
   "source": [
    "train_ridge = pred_ridge[:lentrain]\n",
    "test_ridge = pred_ridge[lentrain:]\n",
    "\n",
    "print(train_ridge.shape)\n",
    "print(test_ridge.shape)\n"
   ]
  },
  {
   "cell_type": "code",
   "execution_count": null,
   "metadata": {},
   "outputs": [],
   "source": [
    "train_ridge_df = pd.DataFrame()\n",
    "test_ridge_df = pd.DataFrame()\n",
    "train_ridge_df['tfidf_td_wordchar_ridge'] = pd.Series(train_ridge.flatten())\n",
    "test_ridge_df['tfidf_td_wordchar_ridge'] = pd.Series(test_ridge.flatten())\n",
    "\n",
    "train_ridge_df.to_feather('../features/train/tfidf_td_wordchar_ridge_train.feather')\n",
    "test_ridge_df.to_feather('../features/test/tfidf_td_wordchar_ridge_test.feather')\n"
   ]
  },
  {
   "cell_type": "code",
   "execution_count": null,
   "metadata": {},
   "outputs": [],
   "source": [
    "del train_df, y, ridge, pred_ridge, train_ridge, test_ridge, train_ridge_df, test_ridge_df\n",
    "gc.collect()"
   ]
  },
  {
   "cell_type": "code",
   "execution_count": null,
   "metadata": {},
   "outputs": [],
   "source": [
    "n_comp = 6\n",
    "tsvd = TruncatedSVD(n_components=n_comp, algorithm='arpack')\n",
    "pred_tsvd = tsvd.fit_transform(ready_df)\n",
    "\n",
    "train_svd = pd.DataFrame(pred_tsvd[:lentrain])\n",
    "test_svd = pd.DataFrame(pred_tsvd[lentrain:])\n",
    "train_svd.columns = ['svd_tfidf_td_wordchar_'+str(i+1) for i in range(n_comp)]\n",
    "test_svd.columns =  ['svd_tfidf_td_wordchar_'+str(i+1) for i in range(n_comp)]\n",
    "\n",
    "print(train_svd.shape)\n",
    "print(test_svd.shape)\n",
    "train_svd.head()"
   ]
  },
  {
   "cell_type": "code",
   "execution_count": null,
   "metadata": {},
   "outputs": [],
   "source": [
    "test_svd.head()"
   ]
  },
  {
   "cell_type": "code",
   "execution_count": null,
   "metadata": {},
   "outputs": [],
   "source": [
    "train_svd.to_feather('../features/train/tfidf_td_wordchar_tsvd_train.feather')\n",
    "train_svd.to_feather('../features/test/tfidf_td_wordchar_tsvd_test.feather')\n"
   ]
  }
 ],
 "metadata": {
  "kernelspec": {
   "display_name": "Python 3",
   "language": "python",
   "name": "python3"
  },
  "language_info": {
   "codemirror_mode": {
    "name": "ipython",
    "version": 3
   },
   "file_extension": ".py",
   "mimetype": "text/x-python",
   "name": "python",
   "nbconvert_exporter": "python",
   "pygments_lexer": "ipython3",
   "version": "3.6.5"
  }
 },
 "nbformat": 4,
 "nbformat_minor": 2
}
