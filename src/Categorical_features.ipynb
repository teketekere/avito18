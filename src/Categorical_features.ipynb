{
 "cells": [
  {
   "cell_type": "code",
   "execution_count": 1,
   "metadata": {},
   "outputs": [],
   "source": [
    "import pandas as pd\n",
    "import time\n",
    "import gc\n",
    "import seaborn as sns\n",
    "import matplotlib.pyplot as plt\n",
    "import numpy as np\n",
    "%matplotlib inline\n",
    "\n",
    "from sklearn.preprocessing import LabelEncoder\n",
    "import itertools\n",
    "import pickle\n",
    "from copy import deepcopy\n",
    "from collections import Counter\n",
    "from tqdm import tqdm\n",
    "\n",
    "from myutils import timer, reduce_mem_usage\n",
    "\n",
    "categorical = [\"user_id\",\"region\",\"city\",\"parent_category_name\",\"category_name\",\"user_type\",\"param_1\",\"param_2\",\"param_3\"]\n",
    "categorical_ex = categorical + ['param_123', 'weekofday']\n",
    "aggfeats = ['region', 'city', 'parent_category_name', 'category_name', 'user_type', 'weekofday', 'param_1', 'param_123']\n",
    "nonaggfeats = list(set(categorical_ex) - set(aggfeats))\n",
    "\n",
    "lentrain = 1503424\n",
    "lentest = 508438\n",
    "lentrainactive = 14129821\n",
    "lentestactive = 12824068"
   ]
  },
  {
   "cell_type": "code",
   "execution_count": 2,
   "metadata": {},
   "outputs": [],
   "source": [
    "def tcount(x):\n",
    "    return x.value_counts().index[0]    \n",
    "    \n",
    "def count(df, group_cols, suffix='numcount', agg_type='uint32'):\n",
    "    aggname = '_'.join(group_cols) + '_' + suffix\n",
    "    gp = df[group_cols].groupby(group_cols).size().rename(aggname).to_frame().reset_index()\n",
    "    df = df.merge(gp, on=group_cols, how='left')\n",
    "    df[aggname] = df[aggname].astype(agg_type)\n",
    "    del gp; gc.collect()\n",
    "    return df\n",
    "\n",
    "def uniquecount(df, group_cols, target, suffix='numunique', agg_type='uint32'):\n",
    "    aggname = '_'.join(group_cols) + '_'+ target + '_' + suffix\n",
    "    gp = df[group_cols+[target]].groupby(group_cols).agg({target:'nunique'}).reset_index().rename(columns={target:aggname})\n",
    "    #gp = df[group_cols+[target]].groupby(group_cols)[target].nunique().reset_index().rename(columns={target:aggname})\n",
    "    df = df.merge(gp, on=group_cols, how='left')\n",
    "    df[aggname] = df[aggname].astype(agg_type)\n",
    "    del gp; gc.collect()\n",
    "    return df\n",
    "\n",
    "def cumuratecount( df, group_cols, target, suffix='cumcount', agg_type='uint32'):\n",
    "    aggname = '_'.join(group_cols) + '_'+ target + '_' + suffix\n",
    "    gp = df[group_cols+[target]].groupby(group_cols).agg({target: 'cumcount'})\n",
    "    #gp = df[group_cols+[target]].groupby(group_cols)[target].cumcount()\n",
    "    df[aggname] = gp.values\n",
    "    df[aggname] = df[aggname].astype(agg_type)\n",
    "    del gp; gc.collect()\n",
    "    return df\n",
    "\n",
    "def topcount(df, group_cols, target, suffix='topcount'):\n",
    "    aggname = '_'.join(group_cols) + '_'+ target + '_' + suffix\n",
    "    gp = df[group_cols+[target]].groupby(group_cols).agg({target: tcount}).reset_index().rename(columns={target:aggname})\n",
    "    #gp = df[group_cols+[target]].groupby(group_cols).agg(lambda x: x.value_counts().index[0]).reset_index().rename(columns={target:aggname})\n",
    "    df = df.merge(gp, on=group_cols, how='left')\n",
    "    del gp; gc.collect()\n",
    "    return df\n",
    "\n",
    "def mean(df, group_cols, target, suffix='mean', agg_type='float32'):\n",
    "    aggname = '_'.join(group_cols) + '_'+ target + '_' + suffix\n",
    "    gp = df[group_cols+[target]].groupby(group_cols).agg({target: 'mean'}).reset_index().rename(columns={target:aggname})\n",
    "    #gp = df[group_cols+[target]].groupby(group_cols)[target].mean().reset_index().rename(columns={target:aggname})\n",
    "    df = df.merge(gp, on=group_cols, how='left')\n",
    "    df[aggname] = df[aggname].astype(agg_type)\n",
    "    del gp; gc.collect()\n",
    "    return df\n",
    "\n",
    "def var(df, group_cols, target, suffix='var', agg_type='float32'):\n",
    "    aggname = '_'.join(group_cols) + '_'+ target + '_' + suffix\n",
    "    gp = df[group_cols+[target]].groupby(group_cols).agg({target: 'var'}).reset_index().rename(columns={target:aggname})\n",
    "    #gp = df[group_cols+[target]].groupby(group_cols)[target].var().reset_index().rename(columns={target:aggname})\n",
    "    df = df.merge(gp, on=group_cols, how='left')\n",
    "    df[aggname] = df[aggname].astype(agg_type)\n",
    "    del gp; gc.collect()\n",
    "    return df\n",
    "\n",
    "def aggtransform(df, group_cols, targets):\n",
    "    suffix = ['numunique', 'topcount', 'mean', 'var']\n",
    "    #aggtypes = ['uint32', '', 'float32', 'float32']\n",
    "    aggfunc = ['nunique', tcount, 'mean', 'var']\n",
    "    aggfuncstr = ['nunique', 'tcount', 'mean', 'var']\n",
    "    \n",
    "    aggarg = {tar: aggfunc for tar in targets}\n",
    "    aggnamekeys = []\n",
    "    for tar in targets:\n",
    "        for agf in aggfuncstr:\n",
    "            aggnamekeys.append((tar, agf))\n",
    "    aggnames = {(tar, agf): '_'.join(group_cols) + '_'+ tar + '_' + agf for tar, agf in aggnamekeys}\n",
    "\n",
    "    gp = df[group_cols+targets].groupby(group_cols).agg(aggarg).reset_index()\n",
    "    df = df.merge(gp, on=group_cols, how='left')\n",
    "    df = df.rename(columns=aggnames)\n",
    "    del gp; gc.collect()\n",
    "    return df\n"
   ]
  },
  {
   "cell_type": "code",
   "execution_count": 2,
   "metadata": {},
   "outputs": [
    {
     "name": "stdout",
     "output_type": "stream",
     "text": [
      "(1503424, 10)\n",
      "(508438, 10)\n",
      "(14129821, 10)\n",
      "(12824068, 10)\n",
      "(28965751, 10)\n"
     ]
    },
    {
     "data": {
      "text/html": [
       "<div>\n",
       "<style scoped>\n",
       "    .dataframe tbody tr th:only-of-type {\n",
       "        vertical-align: middle;\n",
       "    }\n",
       "\n",
       "    .dataframe tbody tr th {\n",
       "        vertical-align: top;\n",
       "    }\n",
       "\n",
       "    .dataframe thead th {\n",
       "        text-align: right;\n",
       "    }\n",
       "</style>\n",
       "<table border=\"1\" class=\"dataframe\">\n",
       "  <thead>\n",
       "    <tr style=\"text-align: right;\">\n",
       "      <th></th>\n",
       "      <th>user_id</th>\n",
       "      <th>region</th>\n",
       "      <th>city</th>\n",
       "      <th>parent_category_name</th>\n",
       "      <th>category_name</th>\n",
       "      <th>param_1</th>\n",
       "      <th>param_2</th>\n",
       "      <th>param_3</th>\n",
       "      <th>activation_date</th>\n",
       "      <th>user_type</th>\n",
       "    </tr>\n",
       "  </thead>\n",
       "  <tbody>\n",
       "    <tr>\n",
       "      <th>0</th>\n",
       "      <td>e00f8ff2eaf9</td>\n",
       "      <td>Свердловская область</td>\n",
       "      <td>Екатеринбург</td>\n",
       "      <td>Личные вещи</td>\n",
       "      <td>Товары для детей и игрушки</td>\n",
       "      <td>Постельные принадлежности</td>\n",
       "      <td>NaN</td>\n",
       "      <td>NaN</td>\n",
       "      <td>2017-03-28</td>\n",
       "      <td>Private</td>\n",
       "    </tr>\n",
       "    <tr>\n",
       "      <th>1</th>\n",
       "      <td>39aeb48f0017</td>\n",
       "      <td>Самарская область</td>\n",
       "      <td>Самара</td>\n",
       "      <td>Для дома и дачи</td>\n",
       "      <td>Мебель и интерьер</td>\n",
       "      <td>Другое</td>\n",
       "      <td>NaN</td>\n",
       "      <td>NaN</td>\n",
       "      <td>2017-03-26</td>\n",
       "      <td>Private</td>\n",
       "    </tr>\n",
       "    <tr>\n",
       "      <th>2</th>\n",
       "      <td>91e2f88dd6e3</td>\n",
       "      <td>Ростовская область</td>\n",
       "      <td>Ростов-на-Дону</td>\n",
       "      <td>Бытовая электроника</td>\n",
       "      <td>Аудио и видео</td>\n",
       "      <td>Видео, DVD и Blu-ray плееры</td>\n",
       "      <td>NaN</td>\n",
       "      <td>NaN</td>\n",
       "      <td>2017-03-20</td>\n",
       "      <td>Private</td>\n",
       "    </tr>\n",
       "    <tr>\n",
       "      <th>3</th>\n",
       "      <td>bf5cccea572d</td>\n",
       "      <td>Татарстан</td>\n",
       "      <td>Набережные Челны</td>\n",
       "      <td>Личные вещи</td>\n",
       "      <td>Товары для детей и игрушки</td>\n",
       "      <td>Автомобильные кресла</td>\n",
       "      <td>NaN</td>\n",
       "      <td>NaN</td>\n",
       "      <td>2017-03-25</td>\n",
       "      <td>Company</td>\n",
       "    </tr>\n",
       "    <tr>\n",
       "      <th>4</th>\n",
       "      <td>ef50846afc0b</td>\n",
       "      <td>Волгоградская область</td>\n",
       "      <td>Волгоград</td>\n",
       "      <td>Транспорт</td>\n",
       "      <td>Автомобили</td>\n",
       "      <td>С пробегом</td>\n",
       "      <td>ВАЗ (LADA)</td>\n",
       "      <td>2110</td>\n",
       "      <td>2017-03-16</td>\n",
       "      <td>Private</td>\n",
       "    </tr>\n",
       "  </tbody>\n",
       "</table>\n",
       "</div>"
      ],
      "text/plain": [
       "        user_id                 region              city parent_category_name  \\\n",
       "0  e00f8ff2eaf9   Свердловская область      Екатеринбург          Личные вещи   \n",
       "1  39aeb48f0017      Самарская область            Самара      Для дома и дачи   \n",
       "2  91e2f88dd6e3     Ростовская область    Ростов-на-Дону  Бытовая электроника   \n",
       "3  bf5cccea572d              Татарстан  Набережные Челны          Личные вещи   \n",
       "4  ef50846afc0b  Волгоградская область         Волгоград            Транспорт   \n",
       "\n",
       "                category_name                      param_1     param_2  \\\n",
       "0  Товары для детей и игрушки    Постельные принадлежности         NaN   \n",
       "1           Мебель и интерьер                       Другое         NaN   \n",
       "2               Аудио и видео  Видео, DVD и Blu-ray плееры         NaN   \n",
       "3  Товары для детей и игрушки         Автомобильные кресла         NaN   \n",
       "4                  Автомобили                   С пробегом  ВАЗ (LADA)   \n",
       "\n",
       "  param_3 activation_date user_type  \n",
       "0     NaN      2017-03-28   Private  \n",
       "1     NaN      2017-03-26   Private  \n",
       "2     NaN      2017-03-20   Private  \n",
       "3     NaN      2017-03-25   Company  \n",
       "4    2110      2017-03-16   Private  "
      ]
     },
     "execution_count": 2,
     "metadata": {},
     "output_type": "execute_result"
    }
   ],
   "source": [
    "train = pd.read_csv('../input/train.csv', usecols=categorical+['activation_date'], parse_dates=['activation_date'])\n",
    "test = pd.read_csv('../input/test.csv', usecols=categorical+['activation_date'], parse_dates=['activation_date'])\n",
    "train_active = pd.read_csv('../input/train_active.csv', usecols=categorical+['activation_date'], parse_dates=['activation_date'])\n",
    "test_active = pd.read_csv('../input/test_active.csv', usecols=categorical+['activation_date'], parse_dates=['activation_date'])\n",
    "\n",
    "print(train.shape)\n",
    "print(test.shape)\n",
    "print(train_active.shape)\n",
    "print(test_active.shape)\n",
    "\n",
    "df = pd.concat([train, test, train_active, test_active])\n",
    "print(df.shape)\n",
    "del train, test, train_active, test_active; gc.collect()\n",
    "df.head()"
   ]
  },
  {
   "cell_type": "code",
   "execution_count": 3,
   "metadata": {},
   "outputs": [
    {
     "data": {
      "text/html": [
       "<div>\n",
       "<style scoped>\n",
       "    .dataframe tbody tr th:only-of-type {\n",
       "        vertical-align: middle;\n",
       "    }\n",
       "\n",
       "    .dataframe tbody tr th {\n",
       "        vertical-align: top;\n",
       "    }\n",
       "\n",
       "    .dataframe thead th {\n",
       "        text-align: right;\n",
       "    }\n",
       "</style>\n",
       "<table border=\"1\" class=\"dataframe\">\n",
       "  <thead>\n",
       "    <tr style=\"text-align: right;\">\n",
       "      <th></th>\n",
       "      <th>user_id</th>\n",
       "      <th>region</th>\n",
       "      <th>city</th>\n",
       "      <th>parent_category_name</th>\n",
       "      <th>category_name</th>\n",
       "      <th>param_1</th>\n",
       "      <th>param_2</th>\n",
       "      <th>param_3</th>\n",
       "      <th>activation_date</th>\n",
       "      <th>user_type</th>\n",
       "      <th>param_123</th>\n",
       "    </tr>\n",
       "  </thead>\n",
       "  <tbody>\n",
       "    <tr>\n",
       "      <th>0</th>\n",
       "      <td>e00f8ff2eaf9</td>\n",
       "      <td>Свердловская область</td>\n",
       "      <td>Екатеринбург</td>\n",
       "      <td>Личные вещи</td>\n",
       "      <td>Товары для детей и игрушки</td>\n",
       "      <td>Постельные принадлежности</td>\n",
       "      <td>missing</td>\n",
       "      <td>missing</td>\n",
       "      <td>2017-03-28</td>\n",
       "      <td>Private</td>\n",
       "      <td>Постельные принадлежности missing missing</td>\n",
       "    </tr>\n",
       "    <tr>\n",
       "      <th>1</th>\n",
       "      <td>39aeb48f0017</td>\n",
       "      <td>Самарская область</td>\n",
       "      <td>Самара</td>\n",
       "      <td>Для дома и дачи</td>\n",
       "      <td>Мебель и интерьер</td>\n",
       "      <td>Другое</td>\n",
       "      <td>missing</td>\n",
       "      <td>missing</td>\n",
       "      <td>2017-03-26</td>\n",
       "      <td>Private</td>\n",
       "      <td>Другое missing missing</td>\n",
       "    </tr>\n",
       "    <tr>\n",
       "      <th>2</th>\n",
       "      <td>91e2f88dd6e3</td>\n",
       "      <td>Ростовская область</td>\n",
       "      <td>Ростов-на-Дону</td>\n",
       "      <td>Бытовая электроника</td>\n",
       "      <td>Аудио и видео</td>\n",
       "      <td>Видео, DVD и Blu-ray плееры</td>\n",
       "      <td>missing</td>\n",
       "      <td>missing</td>\n",
       "      <td>2017-03-20</td>\n",
       "      <td>Private</td>\n",
       "      <td>Видео, DVD и Blu-ray плееры missing missing</td>\n",
       "    </tr>\n",
       "    <tr>\n",
       "      <th>3</th>\n",
       "      <td>bf5cccea572d</td>\n",
       "      <td>Татарстан</td>\n",
       "      <td>Набережные Челны</td>\n",
       "      <td>Личные вещи</td>\n",
       "      <td>Товары для детей и игрушки</td>\n",
       "      <td>Автомобильные кресла</td>\n",
       "      <td>missing</td>\n",
       "      <td>missing</td>\n",
       "      <td>2017-03-25</td>\n",
       "      <td>Company</td>\n",
       "      <td>Автомобильные кресла missing missing</td>\n",
       "    </tr>\n",
       "    <tr>\n",
       "      <th>4</th>\n",
       "      <td>ef50846afc0b</td>\n",
       "      <td>Волгоградская область</td>\n",
       "      <td>Волгоград</td>\n",
       "      <td>Транспорт</td>\n",
       "      <td>Автомобили</td>\n",
       "      <td>С пробегом</td>\n",
       "      <td>ВАЗ (LADA)</td>\n",
       "      <td>2110</td>\n",
       "      <td>2017-03-16</td>\n",
       "      <td>Private</td>\n",
       "      <td>С пробегом ВАЗ (LADA) 2110</td>\n",
       "    </tr>\n",
       "  </tbody>\n",
       "</table>\n",
       "</div>"
      ],
      "text/plain": [
       "        user_id                 region              city parent_category_name  \\\n",
       "0  e00f8ff2eaf9   Свердловская область      Екатеринбург          Личные вещи   \n",
       "1  39aeb48f0017      Самарская область            Самара      Для дома и дачи   \n",
       "2  91e2f88dd6e3     Ростовская область    Ростов-на-Дону  Бытовая электроника   \n",
       "3  bf5cccea572d              Татарстан  Набережные Челны          Личные вещи   \n",
       "4  ef50846afc0b  Волгоградская область         Волгоград            Транспорт   \n",
       "\n",
       "                category_name                      param_1     param_2  \\\n",
       "0  Товары для детей и игрушки    Постельные принадлежности     missing   \n",
       "1           Мебель и интерьер                       Другое     missing   \n",
       "2               Аудио и видео  Видео, DVD и Blu-ray плееры     missing   \n",
       "3  Товары для детей и игрушки         Автомобильные кресла     missing   \n",
       "4                  Автомобили                   С пробегом  ВАЗ (LADA)   \n",
       "\n",
       "   param_3 activation_date user_type  \\\n",
       "0  missing      2017-03-28   Private   \n",
       "1  missing      2017-03-26   Private   \n",
       "2  missing      2017-03-20   Private   \n",
       "3  missing      2017-03-25   Company   \n",
       "4     2110      2017-03-16   Private   \n",
       "\n",
       "                                     param_123  \n",
       "0    Постельные принадлежности missing missing  \n",
       "1                       Другое missing missing  \n",
       "2  Видео, DVD и Blu-ray плееры missing missing  \n",
       "3         Автомобильные кресла missing missing  \n",
       "4                   С пробегом ВАЗ (LADA) 2110  "
      ]
     },
     "execution_count": 3,
     "metadata": {},
     "output_type": "execute_result"
    }
   ],
   "source": [
    "for col in categorical:\n",
    "    df[col] = df[col].fillna('missing')\n",
    "    \n",
    "df['param_123'] = (df['param_1']+' '+df['param_2']+' '+df['param_3']).astype(str)\n",
    "df.head()"
   ]
  },
  {
   "cell_type": "code",
   "execution_count": 4,
   "metadata": {},
   "outputs": [
    {
     "data": {
      "text/html": [
       "<div>\n",
       "<style scoped>\n",
       "    .dataframe tbody tr th:only-of-type {\n",
       "        vertical-align: middle;\n",
       "    }\n",
       "\n",
       "    .dataframe tbody tr th {\n",
       "        vertical-align: top;\n",
       "    }\n",
       "\n",
       "    .dataframe thead th {\n",
       "        text-align: right;\n",
       "    }\n",
       "</style>\n",
       "<table border=\"1\" class=\"dataframe\">\n",
       "  <thead>\n",
       "    <tr style=\"text-align: right;\">\n",
       "      <th></th>\n",
       "      <th>user_id</th>\n",
       "      <th>region</th>\n",
       "      <th>city</th>\n",
       "      <th>parent_category_name</th>\n",
       "      <th>category_name</th>\n",
       "      <th>param_1</th>\n",
       "      <th>param_2</th>\n",
       "      <th>param_3</th>\n",
       "      <th>activation_date</th>\n",
       "      <th>user_type</th>\n",
       "      <th>param_123</th>\n",
       "    </tr>\n",
       "  </thead>\n",
       "  <tbody>\n",
       "    <tr>\n",
       "      <th>0</th>\n",
       "      <td>3817460</td>\n",
       "      <td>21</td>\n",
       "      <td>472</td>\n",
       "      <td>6</td>\n",
       "      <td>43</td>\n",
       "      <td>252</td>\n",
       "      <td>134</td>\n",
       "      <td>1654</td>\n",
       "      <td>2017-03-28</td>\n",
       "      <td>1</td>\n",
       "      <td>1013</td>\n",
       "    </tr>\n",
       "    <tr>\n",
       "      <th>1</th>\n",
       "      <td>983203</td>\n",
       "      <td>19</td>\n",
       "      <td>1340</td>\n",
       "      <td>4</td>\n",
       "      <td>23</td>\n",
       "      <td>123</td>\n",
       "      <td>134</td>\n",
       "      <td>1654</td>\n",
       "      <td>2017-03-26</td>\n",
       "      <td>1</td>\n",
       "      <td>309</td>\n",
       "    </tr>\n",
       "    <tr>\n",
       "      <th>2</th>\n",
       "      <td>2487782</td>\n",
       "      <td>18</td>\n",
       "      <td>1315</td>\n",
       "      <td>2</td>\n",
       "      <td>3</td>\n",
       "      <td>85</td>\n",
       "      <td>134</td>\n",
       "      <td>1654</td>\n",
       "      <td>2017-03-20</td>\n",
       "      <td>1</td>\n",
       "      <td>104</td>\n",
       "    </tr>\n",
       "    <tr>\n",
       "      <th>3</th>\n",
       "      <td>3261852</td>\n",
       "      <td>23</td>\n",
       "      <td>973</td>\n",
       "      <td>6</td>\n",
       "      <td>43</td>\n",
       "      <td>38</td>\n",
       "      <td>134</td>\n",
       "      <td>1654</td>\n",
       "      <td>2017-03-25</td>\n",
       "      <td>0</td>\n",
       "      <td>42</td>\n",
       "    </tr>\n",
       "    <tr>\n",
       "      <th>4</th>\n",
       "      <td>4077855</td>\n",
       "      <td>6</td>\n",
       "      <td>326</td>\n",
       "      <td>8</td>\n",
       "      <td>1</td>\n",
       "      <td>281</td>\n",
       "      <td>146</td>\n",
       "      <td>63</td>\n",
       "      <td>2017-03-16</td>\n",
       "      <td>1</td>\n",
       "      <td>2893</td>\n",
       "    </tr>\n",
       "  </tbody>\n",
       "</table>\n",
       "</div>"
      ],
      "text/plain": [
       "   user_id  region  city  parent_category_name  category_name  param_1  \\\n",
       "0  3817460      21   472                     6             43      252   \n",
       "1   983203      19  1340                     4             23      123   \n",
       "2  2487782      18  1315                     2              3       85   \n",
       "3  3261852      23   973                     6             43       38   \n",
       "4  4077855       6   326                     8              1      281   \n",
       "\n",
       "   param_2  param_3 activation_date  user_type  param_123  \n",
       "0      134     1654      2017-03-28          1       1013  \n",
       "1      134     1654      2017-03-26          1        309  \n",
       "2      134     1654      2017-03-20          1        104  \n",
       "3      134     1654      2017-03-25          0         42  \n",
       "4      146       63      2017-03-16          1       2893  "
      ]
     },
     "execution_count": 4,
     "metadata": {},
     "output_type": "execute_result"
    }
   ],
   "source": [
    "for col in categorical+['param_123']:\n",
    "    df[col] = LabelEncoder().fit_transform(df[col])\n",
    "df.head()"
   ]
  },
  {
   "cell_type": "code",
   "execution_count": 5,
   "metadata": {},
   "outputs": [],
   "source": [
    "df['weekofday'] = df['activation_date'].dt.weekday\n",
    "#print(Counter(df['weekofday']))\n",
    "\n",
    "df.drop(['activation_date'], axis=1, inplace=True)"
   ]
  },
  {
   "cell_type": "code",
   "execution_count": 6,
   "metadata": {},
   "outputs": [
    {
     "data": {
      "text/html": [
       "<div>\n",
       "<style scoped>\n",
       "    .dataframe tbody tr th:only-of-type {\n",
       "        vertical-align: middle;\n",
       "    }\n",
       "\n",
       "    .dataframe tbody tr th {\n",
       "        vertical-align: top;\n",
       "    }\n",
       "\n",
       "    .dataframe thead th {\n",
       "        text-align: right;\n",
       "    }\n",
       "</style>\n",
       "<table border=\"1\" class=\"dataframe\">\n",
       "  <thead>\n",
       "    <tr style=\"text-align: right;\">\n",
       "      <th></th>\n",
       "      <th>user_id</th>\n",
       "      <th>region</th>\n",
       "      <th>city</th>\n",
       "      <th>parent_category_name</th>\n",
       "      <th>category_name</th>\n",
       "      <th>param_1</th>\n",
       "      <th>param_2</th>\n",
       "      <th>param_3</th>\n",
       "      <th>user_type</th>\n",
       "      <th>param_123</th>\n",
       "      <th>weekofday</th>\n",
       "    </tr>\n",
       "  </thead>\n",
       "  <tbody>\n",
       "    <tr>\n",
       "      <th>0</th>\n",
       "      <td>3817460</td>\n",
       "      <td>21</td>\n",
       "      <td>472</td>\n",
       "      <td>6</td>\n",
       "      <td>43</td>\n",
       "      <td>252</td>\n",
       "      <td>134</td>\n",
       "      <td>1654</td>\n",
       "      <td>1</td>\n",
       "      <td>1013</td>\n",
       "      <td>1.0</td>\n",
       "    </tr>\n",
       "    <tr>\n",
       "      <th>1</th>\n",
       "      <td>983203</td>\n",
       "      <td>19</td>\n",
       "      <td>1340</td>\n",
       "      <td>4</td>\n",
       "      <td>23</td>\n",
       "      <td>123</td>\n",
       "      <td>134</td>\n",
       "      <td>1654</td>\n",
       "      <td>1</td>\n",
       "      <td>309</td>\n",
       "      <td>6.0</td>\n",
       "    </tr>\n",
       "    <tr>\n",
       "      <th>2</th>\n",
       "      <td>2487782</td>\n",
       "      <td>18</td>\n",
       "      <td>1315</td>\n",
       "      <td>2</td>\n",
       "      <td>3</td>\n",
       "      <td>85</td>\n",
       "      <td>134</td>\n",
       "      <td>1654</td>\n",
       "      <td>1</td>\n",
       "      <td>104</td>\n",
       "      <td>0.0</td>\n",
       "    </tr>\n",
       "    <tr>\n",
       "      <th>3</th>\n",
       "      <td>3261852</td>\n",
       "      <td>23</td>\n",
       "      <td>973</td>\n",
       "      <td>6</td>\n",
       "      <td>43</td>\n",
       "      <td>38</td>\n",
       "      <td>134</td>\n",
       "      <td>1654</td>\n",
       "      <td>0</td>\n",
       "      <td>42</td>\n",
       "      <td>5.0</td>\n",
       "    </tr>\n",
       "    <tr>\n",
       "      <th>4</th>\n",
       "      <td>4077855</td>\n",
       "      <td>6</td>\n",
       "      <td>326</td>\n",
       "      <td>8</td>\n",
       "      <td>1</td>\n",
       "      <td>281</td>\n",
       "      <td>146</td>\n",
       "      <td>63</td>\n",
       "      <td>1</td>\n",
       "      <td>2893</td>\n",
       "      <td>3.0</td>\n",
       "    </tr>\n",
       "  </tbody>\n",
       "</table>\n",
       "</div>"
      ],
      "text/plain": [
       "   user_id  region  city  parent_category_name  category_name  param_1  \\\n",
       "0  3817460      21   472                     6             43      252   \n",
       "1   983203      19  1340                     4             23      123   \n",
       "2  2487782      18  1315                     2              3       85   \n",
       "3  3261852      23   973                     6             43       38   \n",
       "4  4077855       6   326                     8              1      281   \n",
       "\n",
       "   param_2  param_3  user_type  param_123  weekofday  \n",
       "0      134     1654          1       1013        1.0  \n",
       "1      134     1654          1        309        6.0  \n",
       "2      134     1654          1        104        0.0  \n",
       "3      134     1654          0         42        5.0  \n",
       "4      146       63          1       2893        3.0  "
      ]
     },
     "execution_count": 6,
     "metadata": {},
     "output_type": "execute_result"
    }
   ],
   "source": [
    "df.head()"
   ]
  },
  {
   "cell_type": "code",
   "execution_count": 7,
   "metadata": {},
   "outputs": [
    {
     "name": "stdout",
     "output_type": "stream",
     "text": [
      "Memory usage of dataframe is 2651.89 MB\n",
      "Memory usage after optimization is: 828.72 MB\n",
      "Decreased by 68.8%\n",
      "(14129821, 11)\n",
      "(12824068, 11)\n"
     ]
    }
   ],
   "source": [
    "df = reduce_mem_usage(df)\n",
    "#train = df[:lentrain]\n",
    "#test = df[lentrain:lentrain+lentest]\n",
    "train_active = df[lentrain+lentest: lentrain+lentest+lentrainactive]\n",
    "test_active = df[lentrain+lentest+lentrainactive:lentrain+lentest+lentrainactive+lentestactive]\n",
    "#print(train.shape)\n",
    "#print(test.shape)\n",
    "print(train_active.shape)\n",
    "print(test_active.shape)\n",
    "\n"
   ]
  },
  {
   "cell_type": "code",
   "execution_count": 8,
   "metadata": {},
   "outputs": [
    {
     "name": "stdout",
     "output_type": "stream",
     "text": [
      "done\n"
     ]
    }
   ],
   "source": [
    "#train.to_feather('../features/train/categorical_features_train.feather')\n",
    "#test.to_feather('../features/test/categorical_features_test.feather')\n",
    "train_active.to_feather('../features/extra/categorical_features_train_active.feather')\n",
    "test_active.to_feather('../features/extra/categorical_features_test_active.feather')\n",
    "\n",
    "print('done')"
   ]
  },
  {
   "cell_type": "code",
   "execution_count": null,
   "metadata": {},
   "outputs": [],
   "source": []
  },
  {
   "cell_type": "code",
   "execution_count": 37,
   "metadata": {},
   "outputs": [
    {
     "name": "stdout",
     "output_type": "stream",
     "text": [
      "(1503424, 11)\n",
      "(508438, 11)\n",
      "(2011862, 8)\n"
     ]
    },
    {
     "name": "stderr",
     "output_type": "stream",
     "text": [
      "100%|████████████████████████████████████████████████████████████████████████████████████| 8/8 [00:03<00:00,  2.32it/s]\n"
     ]
    },
    {
     "name": "stdout",
     "output_type": "stream",
     "text": [
      "Memory usage of dataframe is 76.75 MB\n",
      "Memory usage after optimization is: 76.75 MB\n",
      "Decreased by 0.0%\n",
      "(1503424, 8)\n",
      "(508438, 8)\n",
      "save done  1\n",
      "(1503424, 11)\n",
      "(508438, 11)\n",
      "(2011862, 8)\n"
     ]
    },
    {
     "name": "stderr",
     "output_type": "stream",
     "text": [
      "100%|██████████████████████████████████████████████████████████████████████████████████| 28/28 [00:19<00:00,  1.45it/s]\n"
     ]
    },
    {
     "name": "stdout",
     "output_type": "stream",
     "text": [
      "Memory usage of dataframe is 230.24 MB\n",
      "Memory usage after optimization is: 168.84 MB\n",
      "Decreased by 26.7%\n",
      "(1503424, 28)\n",
      "(508438, 28)\n",
      "save done  2\n",
      "(1503424, 11)\n",
      "(508438, 11)\n",
      "(2011862, 8)\n"
     ]
    },
    {
     "name": "stderr",
     "output_type": "stream",
     "text": [
      "100%|██████████████████████████████████████████████████████████████████████████████████| 56/56 [00:55<00:00,  1.01it/s]\n"
     ]
    },
    {
     "name": "stdout",
     "output_type": "stream",
     "text": [
      "Memory usage of dataframe is 445.13 MB\n",
      "Memory usage after optimization is: 249.43 MB\n",
      "Decreased by 44.0%\n",
      "(1503424, 56)\n",
      "(508438, 56)\n",
      "save done  3\n",
      "(1503424, 11)\n",
      "(508438, 11)\n",
      "(2011862, 8)\n"
     ]
    },
    {
     "name": "stderr",
     "output_type": "stream",
     "text": [
      "100%|██████████████████████████████████████████████████████████████████████████████████| 70/70 [01:25<00:00,  1.22s/it]\n"
     ]
    },
    {
     "name": "stdout",
     "output_type": "stream",
     "text": [
      "Memory usage of dataframe is 552.57 MB\n",
      "Memory usage after optimization is: 287.80 MB\n",
      "Decreased by 47.9%\n",
      "(1503424, 70)\n",
      "(508438, 70)\n",
      "save done  4\n",
      "[Agg by Count] done in 183 s\n"
     ]
    }
   ],
   "source": [
    "with timer('Agg by Count'):\n",
    "    for i in range(1, 5):\n",
    "        train = pd.read_feather('../features/train/categorical_features_train.feather')\n",
    "        test = pd.read_feather('../features/test/categorical_features_test.feather')\n",
    "        print(train.shape)\n",
    "        print(test.shape)\n",
    "        df = pd.concat([train, test])\n",
    "        df.drop(nonaggfeats, axis=1, inplace=True)\n",
    "        del train, test; gc.collect()\n",
    "        print(df.shape)\n",
    "        \n",
    "        for comb in tqdm(list(itertools.combinations(aggfeats, i))):\n",
    "            df = count(df, list(comb))\n",
    "            gc.collect()\n",
    "        df.drop(aggfeats, axis=1, inplace=True)\n",
    "        df = reduce_mem_usage(df)\n",
    "        train = df[:lentrain]\n",
    "        test = df[lentrain:]\n",
    "        train.reset_index(drop=True, inplace=True)\n",
    "        test.reset_index(drop=True, inplace=True)\n",
    "        print(train.shape)\n",
    "        print(test.shape)\n",
    "        train.to_feather('../features/train/Single_agg_'+str(i)+'_train.feather')\n",
    "        test.to_feather('../features/test/Single_agg_'+str(i)+'_test.feather')\n",
    "        print('save done ',str(i))\n",
    "        del train, test, df; gc.collect()\n"
   ]
  },
  {
   "cell_type": "code",
   "execution_count": 3,
   "metadata": {},
   "outputs": [
    {
     "name": "stdout",
     "output_type": "stream",
     "text": [
      "[['region', 'category_name', 'user_type', 'weekofday'], ['parent_category_name', 'param_123'], ['region', 'category_name'], ['param_123'], ['category_name'], ['category_name', 'param_1'], ['parent_category_name', 'user_type', 'weekofday'], ['parent_category_name', 'weekofday'], ['city'], ['city', 'parent_category_name', 'user_type', 'weekofday'], ['parent_category_name', 'category_name', 'weekofday'], ['user_type', 'param_1'], ['user_type'], ['user_type', 'param_123'], ['category_name', 'user_type'], ['parent_category_name'], ['region', 'parent_category_name'], ['city', 'user_type', 'weekofday', 'param_123'], ['parent_category_name', 'category_name'], ['category_name', 'weekofday'], ['weekofday', 'param_1'], ['parent_category_name', 'category_name', 'user_type'], ['parent_category_name', 'param_1'], ['param_1'], ['parent_category_name', 'user_type'], ['city', 'weekofday'], ['region', 'parent_category_name', 'weekofday'], ['region', 'parent_category_name', 'user_type', 'weekofday'], ['city', 'user_type', 'weekofday'], ['parent_category_name', 'user_type', 'param_1'], ['region', 'user_type', 'weekofday'], ['city', 'category_name', 'user_type', 'weekofday'], ['region', 'weekofday'], ['region'], ['region', 'category_name', 'weekofday']]\n",
      "(1503424, 11)\n",
      "(508438, 11)\n",
      "(14129821, 11)\n",
      "(12824068, 11)\n",
      "(28965751, 8)\n"
     ]
    },
    {
     "name": "stderr",
     "output_type": "stream",
     "text": [
      "100%|██████████████████████████████████████████████████████████████████████████████████| 35/35 [09:08<00:00, 15.66s/it]\n"
     ]
    },
    {
     "name": "stdout",
     "output_type": "stream",
     "text": [
      "(28965751, 43)\n",
      "Memory usage of dataframe is 4475.07 MB\n",
      "Memory usage after optimization is: 4419.82 MB\n",
      "Decreased by 1.2%\n",
      "(1503424, 35)\n",
      "(508438, 35)\n",
      "(14129821, 35)\n",
      "(12824068, 35)\n",
      "done\n"
     ]
    }
   ],
   "source": [
    "with open('./Golden_Count_aggs.pickle', 'rb') as f:\n",
    "    count_agg_list = pickle.load(f)\n",
    "    \n",
    "print(count_agg_list)\n",
    "\n",
    "train = pd.read_feather('../features/train/categorical_features_train.feather')\n",
    "test = pd.read_feather('../features/test/categorical_features_test.feather')\n",
    "train_active = pd.read_feather('../features/train_active/categorical_features_train_active.feather')\n",
    "test_active = pd.read_feather('../features/test_active/categorical_features_test_active.feather')\n",
    "print(train.shape)\n",
    "print(test.shape)\n",
    "print(train_active.shape)\n",
    "print(test_active.shape)\n",
    "\n",
    "df = pd.concat([train, test, train_active, test_active])\n",
    "df.drop(nonaggfeats, axis=1, inplace=True)\n",
    "print(df.shape)\n",
    "\n",
    "for group_cols in tqdm(count_agg_list):\n",
    "    aggname = '-'.join(group_cols) + '_numcount'\n",
    "    gp = df[group_cols].groupby(group_cols).size().rename(aggname).to_frame().reset_index()\n",
    "    df = df.merge(gp, on=group_cols, how='left')\n",
    "    df[aggname] = df[aggname].fillna(df[aggname].max())\n",
    "    df[aggname] = df[aggname].astype('uint32')\n",
    "    del gp; gc.collect()\n",
    "\n",
    "print(df.shape)\n",
    "df.head()\n",
    "\n",
    "df = reduce_mem_usage(df)\n",
    "df.drop(aggfeats, axis=1, inplace=True)\n",
    "train = df[:lentrain]\n",
    "test = df[lentrain:lentrain+lentest]\n",
    "train_active = df[lentrain+lentest: lentrain+lentest+lentrainactive]\n",
    "test_active = df[lentrain+lentest+lentrainactive: lentrain+lentest+lentrainactive+lentestactive]\n",
    "\n",
    "train.reset_index(drop=True, inplace=True)\n",
    "test.reset_index(drop=True, inplace=True)\n",
    "train_active.reset_index(drop=True, inplace=True)\n",
    "test_active.reset_index(drop=True, inplace=True)\n",
    "\n",
    "print(train.shape)\n",
    "print(test.shape)\n",
    "print(train_active.shape)\n",
    "print(test_active.shape)\n",
    "\n",
    "train.to_feather('../features/train/Agg_count_Golden_features_train.feather')\n",
    "test.to_feather('../features/test/Agg_count_Golden_features_test.feather')\n",
    "train_active.to_feather('../features/train_active/Agg_count_Golden_features_train_active.feather')\n",
    "test_active.to_feather('../features/test_active/Agg_count_Golden_features_test_active.feather')\n",
    "\n",
    "print('done')"
   ]
  },
  {
   "cell_type": "code",
   "execution_count": null,
   "metadata": {},
   "outputs": [],
   "source": []
  },
  {
   "cell_type": "code",
   "execution_count": 4,
   "metadata": {},
   "outputs": [
    {
     "name": "stdout",
     "output_type": "stream",
     "text": [
      "[['region', 'category_name', 'param_123', 'city'], ['region', 'category_name', 'param_123'], ['parent_category_name', 'category_name', 'user_type', 'city'], ['parent_category_name', 'user_type', 'city'], ['param_123', 'city'], ['city', 'parent_category_name', 'user_type', 'param_123'], ['parent_category_name', 'user_type', 'category_name'], ['city', 'category_name', 'user_type', 'param_123'], ['region', 'category_name', 'user_type', 'param_123'], ['parent_category_name', 'category_name', 'param_123', 'city'], ['user_type', 'param_123', 'city'], ['region', 'city', 'user_type', 'param_123'], ['category_name', 'param_123'], ['region', 'category_name', 'city'], ['city', 'param_123'], ['region', 'user_type', 'param_123', 'city'], ['parent_category_name', 'user_type', 'param_123', 'city'], ['parent_category_name', 'category_name', 'user_type', 'param_123'], ['region', 'parent_category_name', 'user_type', 'category_name'], ['category_name', 'user_type', 'param_123', 'city'], ['region', 'parent_category_name', 'category_name'], ['parent_category_name', 'category_name', 'param_123'], ['category_name', 'user_type', 'city'], ['region', 'city'], ['city', 'category_name', 'param_123'], ['category_name', 'city'], ['parent_category_name', 'category_name'], ['category_name', 'user_type', 'param_123'], ['city', 'parent_category_name', 'param_123'], ['region', 'city', 'param_123'], ['city', 'user_type', 'param_123'], ['category_name', 'param_123', 'city'], ['parent_category_name', 'param_123', 'city']]\n",
      "(1503424, 11)\n",
      "(508438, 11)\n",
      "(14129821, 11)\n",
      "(12824068, 11)\n",
      "(28965751, 8)\n"
     ]
    },
    {
     "name": "stderr",
     "output_type": "stream",
     "text": [
      "  0%|                                                                                           | 0/33 [00:00<?, ?it/s]"
     ]
    },
    {
     "name": "stdout",
     "output_type": "stream",
     "text": [
      "['region', 'category_name', 'param_123'] city ['region', 'category_name', 'param_123', 'city']\n"
     ]
    },
    {
     "name": "stderr",
     "output_type": "stream",
     "text": [
      "  3%|██▍                                                                             | 1/33 [15:02<8:01:29, 902.80s/it]"
     ]
    },
    {
     "name": "stdout",
     "output_type": "stream",
     "text": [
      "['region', 'category_name'] param_123 ['region', 'category_name', 'param_123']\n"
     ]
    },
    {
     "ename": "MemoryError",
     "evalue": "",
     "output_type": "error",
     "traceback": [
      "\u001b[1;31m---------------------------------------------------------------------------\u001b[0m",
      "\u001b[1;31mMemoryError\u001b[0m                               Traceback (most recent call last)",
      "\u001b[1;32m<ipython-input-4-a5ca77272e9d>\u001b[0m in \u001b[0;36m<module>\u001b[1;34m()\u001b[0m\n\u001b[0;32m     22\u001b[0m     \u001b[0mprint\u001b[0m\u001b[1;33m(\u001b[0m\u001b[0mgroup_cols\u001b[0m\u001b[1;33m,\u001b[0m \u001b[0mtarget\u001b[0m\u001b[1;33m,\u001b[0m \u001b[0mcols\u001b[0m\u001b[1;33m)\u001b[0m\u001b[1;33m\u001b[0m\u001b[0m\n\u001b[0;32m     23\u001b[0m     \u001b[0maggname\u001b[0m \u001b[1;33m=\u001b[0m \u001b[1;34m'-'\u001b[0m\u001b[1;33m.\u001b[0m\u001b[0mjoin\u001b[0m\u001b[1;33m(\u001b[0m\u001b[0mcols\u001b[0m\u001b[1;33m)\u001b[0m \u001b[1;33m+\u001b[0m \u001b[1;34m'_numunique'\u001b[0m\u001b[1;33m\u001b[0m\u001b[0m\n\u001b[1;32m---> 24\u001b[1;33m     \u001b[0mgp\u001b[0m \u001b[1;33m=\u001b[0m \u001b[0mdf\u001b[0m\u001b[1;33m[\u001b[0m\u001b[0mcols\u001b[0m\u001b[1;33m]\u001b[0m\u001b[1;33m.\u001b[0m\u001b[0mgroupby\u001b[0m\u001b[1;33m(\u001b[0m\u001b[0mcols\u001b[0m\u001b[1;33m)\u001b[0m\u001b[1;33m[\u001b[0m\u001b[0mtarget\u001b[0m\u001b[1;33m]\u001b[0m\u001b[1;33m.\u001b[0m\u001b[0mnunique\u001b[0m\u001b[1;33m(\u001b[0m\u001b[1;33m)\u001b[0m\u001b[1;33m.\u001b[0m\u001b[0mrename\u001b[0m\u001b[1;33m(\u001b[0m\u001b[0maggname\u001b[0m\u001b[1;33m)\u001b[0m\u001b[1;33m.\u001b[0m\u001b[0mto_frame\u001b[0m\u001b[1;33m(\u001b[0m\u001b[1;33m)\u001b[0m\u001b[1;33m.\u001b[0m\u001b[0mreset_index\u001b[0m\u001b[1;33m(\u001b[0m\u001b[1;33m)\u001b[0m\u001b[1;33m\u001b[0m\u001b[0m\n\u001b[0m\u001b[0;32m     25\u001b[0m     \u001b[0mdf\u001b[0m \u001b[1;33m=\u001b[0m \u001b[0mdf\u001b[0m\u001b[1;33m.\u001b[0m\u001b[0mmerge\u001b[0m\u001b[1;33m(\u001b[0m\u001b[0mgp\u001b[0m\u001b[1;33m,\u001b[0m \u001b[0mon\u001b[0m\u001b[1;33m=\u001b[0m\u001b[0mgroup_cols\u001b[0m\u001b[1;33m,\u001b[0m \u001b[0mhow\u001b[0m\u001b[1;33m=\u001b[0m\u001b[1;34m'left'\u001b[0m\u001b[1;33m)\u001b[0m\u001b[1;33m\u001b[0m\u001b[0m\n\u001b[0;32m     26\u001b[0m     \u001b[0mdf\u001b[0m\u001b[1;33m[\u001b[0m\u001b[0maggname\u001b[0m\u001b[1;33m]\u001b[0m \u001b[1;33m=\u001b[0m \u001b[0mdf\u001b[0m\u001b[1;33m[\u001b[0m\u001b[0maggname\u001b[0m\u001b[1;33m]\u001b[0m\u001b[1;33m.\u001b[0m\u001b[0mfillna\u001b[0m\u001b[1;33m(\u001b[0m\u001b[0mdf\u001b[0m\u001b[1;33m[\u001b[0m\u001b[0maggname\u001b[0m\u001b[1;33m]\u001b[0m\u001b[1;33m.\u001b[0m\u001b[0mmax\u001b[0m\u001b[1;33m(\u001b[0m\u001b[1;33m)\u001b[0m\u001b[1;33m)\u001b[0m\u001b[1;33m\u001b[0m\u001b[0m\n",
      "\u001b[1;32m~\\Anaconda3\\envs\\Avito18_Kaggle\\lib\\site-packages\\pandas\\core\\groupby\\groupby.py\u001b[0m in \u001b[0;36mnunique\u001b[1;34m(self, dropna)\u001b[0m\n\u001b[0;32m   3744\u001b[0m     \u001b[1;32mdef\u001b[0m \u001b[0mnunique\u001b[0m\u001b[1;33m(\u001b[0m\u001b[0mself\u001b[0m\u001b[1;33m,\u001b[0m \u001b[0mdropna\u001b[0m\u001b[1;33m=\u001b[0m\u001b[1;32mTrue\u001b[0m\u001b[1;33m)\u001b[0m\u001b[1;33m:\u001b[0m\u001b[1;33m\u001b[0m\u001b[0m\n\u001b[0;32m   3745\u001b[0m         \u001b[1;34m\"\"\" Returns number of unique elements in the group \"\"\"\u001b[0m\u001b[1;33m\u001b[0m\u001b[0m\n\u001b[1;32m-> 3746\u001b[1;33m         \u001b[0mids\u001b[0m\u001b[1;33m,\u001b[0m \u001b[0m_\u001b[0m\u001b[1;33m,\u001b[0m \u001b[0m_\u001b[0m \u001b[1;33m=\u001b[0m \u001b[0mself\u001b[0m\u001b[1;33m.\u001b[0m\u001b[0mgrouper\u001b[0m\u001b[1;33m.\u001b[0m\u001b[0mgroup_info\u001b[0m\u001b[1;33m\u001b[0m\u001b[0m\n\u001b[0m\u001b[0;32m   3747\u001b[0m \u001b[1;33m\u001b[0m\u001b[0m\n\u001b[0;32m   3748\u001b[0m         \u001b[0mval\u001b[0m \u001b[1;33m=\u001b[0m \u001b[0mself\u001b[0m\u001b[1;33m.\u001b[0m\u001b[0mobj\u001b[0m\u001b[1;33m.\u001b[0m\u001b[0mget_values\u001b[0m\u001b[1;33m(\u001b[0m\u001b[1;33m)\u001b[0m\u001b[1;33m\u001b[0m\u001b[0m\n",
      "\u001b[1;32mpandas\\_libs\\properties.pyx\u001b[0m in \u001b[0;36mpandas._libs.properties.CachedProperty.__get__\u001b[1;34m()\u001b[0m\n",
      "\u001b[1;32m~\\Anaconda3\\envs\\Avito18_Kaggle\\lib\\site-packages\\pandas\\core\\groupby\\groupby.py\u001b[0m in \u001b[0;36mgroup_info\u001b[1;34m(self)\u001b[0m\n\u001b[0;32m   2333\u001b[0m     \u001b[1;33m@\u001b[0m\u001b[0mcache_readonly\u001b[0m\u001b[1;33m\u001b[0m\u001b[0m\n\u001b[0;32m   2334\u001b[0m     \u001b[1;32mdef\u001b[0m \u001b[0mgroup_info\u001b[0m\u001b[1;33m(\u001b[0m\u001b[0mself\u001b[0m\u001b[1;33m)\u001b[0m\u001b[1;33m:\u001b[0m\u001b[1;33m\u001b[0m\u001b[0m\n\u001b[1;32m-> 2335\u001b[1;33m         \u001b[0mcomp_ids\u001b[0m\u001b[1;33m,\u001b[0m \u001b[0mobs_group_ids\u001b[0m \u001b[1;33m=\u001b[0m \u001b[0mself\u001b[0m\u001b[1;33m.\u001b[0m\u001b[0m_get_compressed_labels\u001b[0m\u001b[1;33m(\u001b[0m\u001b[1;33m)\u001b[0m\u001b[1;33m\u001b[0m\u001b[0m\n\u001b[0m\u001b[0;32m   2336\u001b[0m \u001b[1;33m\u001b[0m\u001b[0m\n\u001b[0;32m   2337\u001b[0m         \u001b[0mngroups\u001b[0m \u001b[1;33m=\u001b[0m \u001b[0mlen\u001b[0m\u001b[1;33m(\u001b[0m\u001b[0mobs_group_ids\u001b[0m\u001b[1;33m)\u001b[0m\u001b[1;33m\u001b[0m\u001b[0m\n",
      "\u001b[1;32m~\\Anaconda3\\envs\\Avito18_Kaggle\\lib\\site-packages\\pandas\\core\\groupby\\groupby.py\u001b[0m in \u001b[0;36m_get_compressed_labels\u001b[1;34m(self)\u001b[0m\n\u001b[0;32m   2349\u001b[0m \u001b[1;33m\u001b[0m\u001b[0m\n\u001b[0;32m   2350\u001b[0m     \u001b[1;32mdef\u001b[0m \u001b[0m_get_compressed_labels\u001b[0m\u001b[1;33m(\u001b[0m\u001b[0mself\u001b[0m\u001b[1;33m)\u001b[0m\u001b[1;33m:\u001b[0m\u001b[1;33m\u001b[0m\u001b[0m\n\u001b[1;32m-> 2351\u001b[1;33m         \u001b[0mall_labels\u001b[0m \u001b[1;33m=\u001b[0m \u001b[1;33m[\u001b[0m\u001b[0mping\u001b[0m\u001b[1;33m.\u001b[0m\u001b[0mlabels\u001b[0m \u001b[1;32mfor\u001b[0m \u001b[0mping\u001b[0m \u001b[1;32min\u001b[0m \u001b[0mself\u001b[0m\u001b[1;33m.\u001b[0m\u001b[0mgroupings\u001b[0m\u001b[1;33m]\u001b[0m\u001b[1;33m\u001b[0m\u001b[0m\n\u001b[0m\u001b[0;32m   2352\u001b[0m         \u001b[1;32mif\u001b[0m \u001b[0mlen\u001b[0m\u001b[1;33m(\u001b[0m\u001b[0mall_labels\u001b[0m\u001b[1;33m)\u001b[0m \u001b[1;33m>\u001b[0m \u001b[1;36m1\u001b[0m\u001b[1;33m:\u001b[0m\u001b[1;33m\u001b[0m\u001b[0m\n\u001b[0;32m   2353\u001b[0m             group_index = get_group_index(all_labels, self.shape,\n",
      "\u001b[1;32m~\\Anaconda3\\envs\\Avito18_Kaggle\\lib\\site-packages\\pandas\\core\\groupby\\groupby.py\u001b[0m in \u001b[0;36m<listcomp>\u001b[1;34m(.0)\u001b[0m\n\u001b[0;32m   2349\u001b[0m \u001b[1;33m\u001b[0m\u001b[0m\n\u001b[0;32m   2350\u001b[0m     \u001b[1;32mdef\u001b[0m \u001b[0m_get_compressed_labels\u001b[0m\u001b[1;33m(\u001b[0m\u001b[0mself\u001b[0m\u001b[1;33m)\u001b[0m\u001b[1;33m:\u001b[0m\u001b[1;33m\u001b[0m\u001b[0m\n\u001b[1;32m-> 2351\u001b[1;33m         \u001b[0mall_labels\u001b[0m \u001b[1;33m=\u001b[0m \u001b[1;33m[\u001b[0m\u001b[0mping\u001b[0m\u001b[1;33m.\u001b[0m\u001b[0mlabels\u001b[0m \u001b[1;32mfor\u001b[0m \u001b[0mping\u001b[0m \u001b[1;32min\u001b[0m \u001b[0mself\u001b[0m\u001b[1;33m.\u001b[0m\u001b[0mgroupings\u001b[0m\u001b[1;33m]\u001b[0m\u001b[1;33m\u001b[0m\u001b[0m\n\u001b[0m\u001b[0;32m   2352\u001b[0m         \u001b[1;32mif\u001b[0m \u001b[0mlen\u001b[0m\u001b[1;33m(\u001b[0m\u001b[0mall_labels\u001b[0m\u001b[1;33m)\u001b[0m \u001b[1;33m>\u001b[0m \u001b[1;36m1\u001b[0m\u001b[1;33m:\u001b[0m\u001b[1;33m\u001b[0m\u001b[0m\n\u001b[0;32m   2353\u001b[0m             group_index = get_group_index(all_labels, self.shape,\n",
      "\u001b[1;32m~\\Anaconda3\\envs\\Avito18_Kaggle\\lib\\site-packages\\pandas\\core\\groupby\\groupby.py\u001b[0m in \u001b[0;36mlabels\u001b[1;34m(self)\u001b[0m\n\u001b[0;32m   3068\u001b[0m     \u001b[1;32mdef\u001b[0m \u001b[0mlabels\u001b[0m\u001b[1;33m(\u001b[0m\u001b[0mself\u001b[0m\u001b[1;33m)\u001b[0m\u001b[1;33m:\u001b[0m\u001b[1;33m\u001b[0m\u001b[0m\n\u001b[0;32m   3069\u001b[0m         \u001b[1;32mif\u001b[0m \u001b[0mself\u001b[0m\u001b[1;33m.\u001b[0m\u001b[0m_labels\u001b[0m \u001b[1;32mis\u001b[0m \u001b[1;32mNone\u001b[0m\u001b[1;33m:\u001b[0m\u001b[1;33m\u001b[0m\u001b[0m\n\u001b[1;32m-> 3070\u001b[1;33m             \u001b[0mself\u001b[0m\u001b[1;33m.\u001b[0m\u001b[0m_make_labels\u001b[0m\u001b[1;33m(\u001b[0m\u001b[1;33m)\u001b[0m\u001b[1;33m\u001b[0m\u001b[0m\n\u001b[0m\u001b[0;32m   3071\u001b[0m         \u001b[1;32mreturn\u001b[0m \u001b[0mself\u001b[0m\u001b[1;33m.\u001b[0m\u001b[0m_labels\u001b[0m\u001b[1;33m\u001b[0m\u001b[0m\n\u001b[0;32m   3072\u001b[0m \u001b[1;33m\u001b[0m\u001b[0m\n",
      "\u001b[1;32m~\\Anaconda3\\envs\\Avito18_Kaggle\\lib\\site-packages\\pandas\\core\\groupby\\groupby.py\u001b[0m in \u001b[0;36m_make_labels\u001b[1;34m(self)\u001b[0m\n\u001b[0;32m   3101\u001b[0m             \u001b[1;32melse\u001b[0m\u001b[1;33m:\u001b[0m\u001b[1;33m\u001b[0m\u001b[0m\n\u001b[0;32m   3102\u001b[0m                 labels, uniques = algorithms.factorize(\n\u001b[1;32m-> 3103\u001b[1;33m                     self.grouper, sort=self.sort)\n\u001b[0m\u001b[0;32m   3104\u001b[0m                 \u001b[0muniques\u001b[0m \u001b[1;33m=\u001b[0m \u001b[0mIndex\u001b[0m\u001b[1;33m(\u001b[0m\u001b[0muniques\u001b[0m\u001b[1;33m,\u001b[0m \u001b[0mname\u001b[0m\u001b[1;33m=\u001b[0m\u001b[0mself\u001b[0m\u001b[1;33m.\u001b[0m\u001b[0mname\u001b[0m\u001b[1;33m)\u001b[0m\u001b[1;33m\u001b[0m\u001b[0m\n\u001b[0;32m   3105\u001b[0m             \u001b[0mself\u001b[0m\u001b[1;33m.\u001b[0m\u001b[0m_labels\u001b[0m \u001b[1;33m=\u001b[0m \u001b[0mlabels\u001b[0m\u001b[1;33m\u001b[0m\u001b[0m\n",
      "\u001b[1;32m~\\Anaconda3\\envs\\Avito18_Kaggle\\lib\\site-packages\\pandas\\util\\_decorators.py\u001b[0m in \u001b[0;36mwrapper\u001b[1;34m(*args, **kwargs)\u001b[0m\n\u001b[0;32m    175\u001b[0m                 \u001b[1;32melse\u001b[0m\u001b[1;33m:\u001b[0m\u001b[1;33m\u001b[0m\u001b[0m\n\u001b[0;32m    176\u001b[0m                     \u001b[0mkwargs\u001b[0m\u001b[1;33m[\u001b[0m\u001b[0mnew_arg_name\u001b[0m\u001b[1;33m]\u001b[0m \u001b[1;33m=\u001b[0m \u001b[0mnew_arg_value\u001b[0m\u001b[1;33m\u001b[0m\u001b[0m\n\u001b[1;32m--> 177\u001b[1;33m             \u001b[1;32mreturn\u001b[0m \u001b[0mfunc\u001b[0m\u001b[1;33m(\u001b[0m\u001b[1;33m*\u001b[0m\u001b[0margs\u001b[0m\u001b[1;33m,\u001b[0m \u001b[1;33m**\u001b[0m\u001b[0mkwargs\u001b[0m\u001b[1;33m)\u001b[0m\u001b[1;33m\u001b[0m\u001b[0m\n\u001b[0m\u001b[0;32m    178\u001b[0m         \u001b[1;32mreturn\u001b[0m \u001b[0mwrapper\u001b[0m\u001b[1;33m\u001b[0m\u001b[0m\n\u001b[0;32m    179\u001b[0m     \u001b[1;32mreturn\u001b[0m \u001b[0m_deprecate_kwarg\u001b[0m\u001b[1;33m\u001b[0m\u001b[0m\n",
      "\u001b[1;32m~\\Anaconda3\\envs\\Avito18_Kaggle\\lib\\site-packages\\pandas\\core\\algorithms.py\u001b[0m in \u001b[0;36mfactorize\u001b[1;34m(values, sort, order, na_sentinel, size_hint)\u001b[0m\n\u001b[0;32m    628\u001b[0m                                            \u001b[0mna_sentinel\u001b[0m\u001b[1;33m=\u001b[0m\u001b[0mna_sentinel\u001b[0m\u001b[1;33m,\u001b[0m\u001b[1;33m\u001b[0m\u001b[0m\n\u001b[0;32m    629\u001b[0m                                            \u001b[0msize_hint\u001b[0m\u001b[1;33m=\u001b[0m\u001b[0msize_hint\u001b[0m\u001b[1;33m,\u001b[0m\u001b[1;33m\u001b[0m\u001b[0m\n\u001b[1;32m--> 630\u001b[1;33m                                            na_value=na_value)\n\u001b[0m\u001b[0;32m    631\u001b[0m \u001b[1;33m\u001b[0m\u001b[0m\n\u001b[0;32m    632\u001b[0m     \u001b[1;32mif\u001b[0m \u001b[0msort\u001b[0m \u001b[1;32mand\u001b[0m \u001b[0mlen\u001b[0m\u001b[1;33m(\u001b[0m\u001b[0muniques\u001b[0m\u001b[1;33m)\u001b[0m \u001b[1;33m>\u001b[0m \u001b[1;36m0\u001b[0m\u001b[1;33m:\u001b[0m\u001b[1;33m\u001b[0m\u001b[0m\n",
      "\u001b[1;32m~\\Anaconda3\\envs\\Avito18_Kaggle\\lib\\site-packages\\pandas\\core\\algorithms.py\u001b[0m in \u001b[0;36m_factorize_array\u001b[1;34m(values, na_sentinel, size_hint, na_value)\u001b[0m\n\u001b[0;32m    474\u001b[0m     \u001b[0muniques\u001b[0m \u001b[1;33m=\u001b[0m \u001b[0mvec_klass\u001b[0m\u001b[1;33m(\u001b[0m\u001b[1;33m)\u001b[0m\u001b[1;33m\u001b[0m\u001b[0m\n\u001b[0;32m    475\u001b[0m     labels = table.get_labels(values, uniques, 0, na_sentinel,\n\u001b[1;32m--> 476\u001b[1;33m                               na_value=na_value)\n\u001b[0m\u001b[0;32m    477\u001b[0m \u001b[1;33m\u001b[0m\u001b[0m\n\u001b[0;32m    478\u001b[0m     \u001b[0mlabels\u001b[0m \u001b[1;33m=\u001b[0m \u001b[0m_ensure_platform_int\u001b[0m\u001b[1;33m(\u001b[0m\u001b[0mlabels\u001b[0m\u001b[1;33m)\u001b[0m\u001b[1;33m\u001b[0m\u001b[0m\n",
      "\u001b[1;32mpandas\\_libs\\hashtable_class_helper.pxi\u001b[0m in \u001b[0;36mpandas._libs.hashtable.Int64HashTable.get_labels\u001b[1;34m()\u001b[0m\n",
      "\u001b[1;31mMemoryError\u001b[0m: "
     ]
    }
   ],
   "source": [
    "with open('./Golden_Uniqueount_aggs.pickle', 'rb') as f:\n",
    "    count_agg_list = pickle.load(f)\n",
    "    \n",
    "print(count_agg_list)\n",
    "\n",
    "train = pd.read_feather('../features/train/categorical_features_train.feather')\n",
    "test = pd.read_feather('../features/test/categorical_features_test.feather')\n",
    "train_active = pd.read_feather('../features/train_active/categorical_features_train_active.feather')\n",
    "test_active = pd.read_feather('../features/test_active/categorical_features_test_active.feather')\n",
    "print(train.shape)\n",
    "print(test.shape)\n",
    "print(train_active.shape)\n",
    "print(test_active.shape)\n",
    "\n",
    "df = pd.concat([train, test, train_active, test_active])\n",
    "df.drop(nonaggfeats, axis=1, inplace=True)\n",
    "print(df.shape)\n",
    "\n",
    "for cols in tqdm(count_agg_list):\n",
    "    group_cols = cols[: -1]\n",
    "    target = cols[-1]\n",
    "    print(group_cols, target, cols)\n",
    "    aggname = '-'.join(cols) + '_numunique'\n",
    "    gp = df[cols].groupby(cols)[target].nunique().rename(aggname).to_frame().reset_index()\n",
    "    df = df.merge(gp, on=group_cols, how='left')\n",
    "    df[aggname] = df[aggname].fillna(df[aggname].max())\n",
    "    df[aggname] = df[aggname].astype('uint32')\n",
    "    del gp; gc.collect()\n",
    "\n",
    "print(df.shape)\n",
    "df.head()\n",
    "\n",
    "df = reduce_mem_usage(df)\n",
    "df.drop(aggfeats, axis=1, inplace=True)\n",
    "train = df[:lentrain]\n",
    "test = df[lentrain:lentrain+lentest]\n",
    "train_active = df[lentrain+lentest: lentrain+lentest+lentrainactive]\n",
    "train_active = df[lentrain+lentest+lentrainactive: lentrain+lentest+lentrainactive+lentestactive]\n",
    "\n",
    "train.reset_index(drop=True, inplace=True)\n",
    "test.reset_index(drop=True, inplace=True)\n",
    "train_active.reset_index(drop=True, inplace=True)\n",
    "test_active.reset_index(drop=True, inplace=True)\n",
    "\n",
    "print(train.shape)\n",
    "print(test.shape)\n",
    "print(train_active.shape)\n",
    "print(test_active.shape)\n",
    "\n",
    "train.to_feather('../features/train/Agg_numunique_Golden_features_train.feather')\n",
    "test.to_feather('../features/test/Agg_numunique_Golden_features_test.feather')\n",
    "train_active.to_feather('../features/train_active/Agg_numunique_Golden_features_train_active.feather')\n",
    "test_active.to_feather('../features/test_active/Agg_numunique_Golden_features_test_active.feather')\n",
    "\n",
    "print('done')"
   ]
  },
  {
   "cell_type": "code",
   "execution_count": null,
   "metadata": {},
   "outputs": [],
   "source": []
  },
  {
   "cell_type": "code",
   "execution_count": 5,
   "metadata": {},
   "outputs": [
    {
     "name": "stdout",
     "output_type": "stream",
     "text": [
      "(1503424, 12)\n",
      "(508438, 12)\n",
      "(2011862, 9)\n"
     ]
    },
    {
     "name": "stderr",
     "output_type": "stream",
     "text": [
      "100%|████████████████████████████████████████████████████████████████████████████████████| 8/8 [00:03<00:00,  2.16it/s]\n"
     ]
    },
    {
     "name": "stdout",
     "output_type": "stream",
     "text": [
      "Memory usage of dataframe is 76.75 MB\n",
      "Memory usage after optimization is: 76.75 MB\n",
      "Decreased by 0.0%\n",
      "(1503424, 8)\n",
      "(508438, 8)\n",
      "save done  1\n",
      "(1503424, 12)\n",
      "(508438, 12)\n",
      "(2011862, 9)\n"
     ]
    },
    {
     "name": "stderr",
     "output_type": "stream",
     "text": [
      "100%|██████████████████████████████████████████████████████████████████████████████████| 28/28 [00:21<00:00,  1.30it/s]\n"
     ]
    },
    {
     "name": "stdout",
     "output_type": "stream",
     "text": [
      "Memory usage of dataframe is 230.24 MB\n",
      "Memory usage after optimization is: 230.24 MB\n",
      "Decreased by 0.0%\n",
      "(1503424, 28)\n",
      "(508438, 28)\n",
      "save done  2\n",
      "(1503424, 12)\n",
      "(508438, 12)\n",
      "(2011862, 9)\n"
     ]
    },
    {
     "name": "stderr",
     "output_type": "stream",
     "text": [
      "100%|██████████████████████████████████████████████████████████████████████████████████| 56/56 [01:03<00:00,  1.14s/it]\n"
     ]
    },
    {
     "name": "stdout",
     "output_type": "stream",
     "text": [
      "Memory usage of dataframe is 445.13 MB\n",
      "Memory usage after optimization is: 445.13 MB\n",
      "Decreased by 0.0%\n",
      "(1503424, 56)\n",
      "(508438, 56)\n",
      "save done  3\n",
      "(1503424, 12)\n",
      "(508438, 12)\n",
      "(2011862, 9)\n"
     ]
    },
    {
     "name": "stderr",
     "output_type": "stream",
     "text": [
      "100%|██████████████████████████████████████████████████████████████████████████████████| 70/70 [01:39<00:00,  1.42s/it]\n"
     ]
    },
    {
     "name": "stdout",
     "output_type": "stream",
     "text": [
      "Memory usage of dataframe is 552.57 MB\n",
      "Memory usage after optimization is: 552.57 MB\n",
      "Decreased by 0.0%\n",
      "(1503424, 70)\n",
      "(508438, 70)\n",
      "save done  4\n"
     ]
    }
   ],
   "source": [
    "target = 'price'\n",
    "for i in range(1, 5):\n",
    "    train = pd.read_feather('../features/train/categorical_features_train.feather')\n",
    "    test = pd.read_feather('../features/test/categorical_features_test.feather')\n",
    "\n",
    "    trainp = pd.read_csv('../input/train.csv', usecols=[target])\n",
    "    testp = pd.read_csv('../input/test.csv', usecols=[target])\n",
    "    trainp.fillna(trainp.mean(), inplace=True)\n",
    "    testp.fillna(testp.mean(), inplace=True)\n",
    "    train = pd.concat([train, trainp], axis=1)\n",
    "    test = pd.concat([test, testp], axis=1)\n",
    "    del trainp, testp; gc.collect()\n",
    "    print(train.shape)\n",
    "    print(test.shape)\n",
    "\n",
    "    df = pd.concat([train, test])\n",
    "    df.drop(nonaggfeats, axis=1, inplace=True)\n",
    "    del train, test; gc.collect()\n",
    "    print(df.shape)\n",
    "\n",
    "    for comb in tqdm(list(itertools.combinations(aggfeats, i))):\n",
    "        group_cols = list(comb)\n",
    "        aggname = '-'.join(group_cols+[target]) + '-mean'\n",
    "        gp = df[group_cols+[target]].groupby(group_cols)[target].mean().rename(aggname).to_frame().reset_index()\n",
    "        df = df.merge(gp, on=group_cols, how='left')\n",
    "        df[aggname] = df[aggname].fillna(df[aggname].mean())\n",
    "        df[aggname] = df[aggname].astype('float32')\n",
    "        gc.collect()\n",
    "    df.drop(aggfeats+[target], axis=1, inplace=True)\n",
    "    df = reduce_mem_usage(df)\n",
    "    train = df[:lentrain]\n",
    "    test = df[lentrain:]\n",
    "    train.reset_index(drop=True, inplace=True)\n",
    "    test.reset_index(drop=True, inplace=True)\n",
    "    print(train.shape)\n",
    "    print(test.shape)\n",
    "    train.to_feather('../features/train/Agg_by_price_mean_'+str(i)+'_train.feather')\n",
    "    test.to_feather('../features/test/Agg_by_price_mean_'+str(i)+'_test.feather')\n",
    "    print('save done ',str(i))\n",
    "    del train, test, df; gc.collect()\n",
    "\n"
   ]
  },
  {
   "cell_type": "code",
   "execution_count": null,
   "metadata": {},
   "outputs": [
    {
     "name": "stdout",
     "output_type": "stream",
     "text": [
      "[['region', 'user_type', 'weekofday', 'param_123', 'price'], ['city', 'user_type', 'weekofday', 'param_1', 'price'], ['city', 'category_name', 'user_type', 'weekofday', 'price'], ['user_type', 'price'], ['parent_category_name', 'user_type', 'param_1', 'price'], ['parent_category_name', 'param_1', 'price'], ['region', 'parent_category_name', 'price'], ['category_name', 'price'], ['parent_category_name', 'price'], ['category_name', 'user_type', 'price'], ['city', 'user_type', 'weekofday', 'price'], ['parent_category_name', 'category_name', 'user_type', 'price'], ['parent_category_name', 'category_name', 'price'], ['param_123', 'price'], ['region', 'weekofday', 'price'], ['region', 'user_type', 'weekofday', 'price'], ['city', 'user_type', 'weekofday', 'param_123', 'price'], ['city', 'price'], ['parent_category_name', 'user_type', 'price'], ['city', 'user_type', 'price'], ['param_1', 'price'], ['parent_category_name', 'param_123', 'price'], ['region', 'price'], ['region', 'city', 'user_type', 'price'], ['user_type', 'param_1', 'price']]\n"
     ]
    }
   ],
   "source": [
    "with open('./Golden_Price_mean_agg.pickle', 'rb') as f:\n",
    "    agg_list = pickle.load(f)\n",
    "    \n",
    "print(agg_list)\n",
    "target = 'price'\n",
    "\n",
    "train = pd.read_feather('../features/train/categorical_features_train.feather')\n",
    "test = pd.read_feather('../features/test/categorical_features_test.feather')\n",
    "trainp = pd.read_csv('../input/train.csv', usecols=[target])\n",
    "testp = pd.read_csv('../input/test.csv', usecols=[target])\n",
    "trainp.fillna(trainp.mean(), inplace=True)\n",
    "testp.fillna(testp.mean(), inplace=True)\n",
    "train = pd.concat([train, trainp], axis=1)\n",
    "test = pd.concat([test, testp], axis=1)\n",
    "del trainp, testp; gc.collect()\n",
    "\n",
    "train_active = pd.read_feather('../features/train_active/categorical_features_train_active.feather')\n",
    "test_active = pd.read_feather('../features/test_active/categorical_features_test_active.feather')\n",
    "trainap = pd.read_csv('../input/train_active.csv', usecols=[target])\n",
    "testap = pd.read_csv('../input/test_active.csv', usecols=[target])\n",
    "trainap.fillna(trainap.mean(), inplace=True)\n",
    "testap.fillna(testap.mean(), inplace=True)\n",
    "train_active = pd.concat([train_active, trainap], axis=1)\n",
    "test_active = pd.concat([test_active, testap], axis=1)\n",
    "del trainap, testap; gc.collect()\n",
    "\n",
    "print(train.shape)\n",
    "print(test.shape)\n",
    "print(train_active.shape)\n",
    "print(test_active.shape)\n",
    "\n",
    "df = pd.concat([train, test, train_active, test_active])\n",
    "df.drop(nonaggfeats, axis=1, inplace=True)\n",
    "print(df.shape)\n",
    "\n",
    "for cols in tqdm(agg_list):\n",
    "    group_cols = cols[:-1]\n",
    "    assert target == cols[-1]\n",
    "    print(group_cols)\n",
    "    aggname = '-'.join(group_cols+[target]) + '-mean'\n",
    "    gp = df[group_cols+[target]].groupby(group_cols)[target].mean().rename(aggname).to_frame().reset_index()\n",
    "    df = df.merge(gp, on=group_cols, how='left')\n",
    "    df[aggname] = df[aggname].fillna(df[aggname].mean())\n",
    "    df[aggname] = df[aggname].astype('float32')\n",
    "    del gp; gc.collect()\n",
    "\n",
    "print(df.shape)\n",
    "df.head()\n",
    "\n",
    "df = reduce_mem_usage(df)\n",
    "df.drop(aggfeats+['price'], axis=1, inplace=True)\n",
    "train = df[:lentrain]\n",
    "test = df[lentrain:lentrain+lentest]\n",
    "train_active = df[lentrain+lentest: lentrain+lentest+lentrainactive]\n",
    "test_active = df[lentrain+lentest+lentrainactive: lentrain+lentest+lentrainactive+lentestactive]\n",
    "\n",
    "train.reset_index(drop=True, inplace=True)\n",
    "test.reset_index(drop=True, inplace=True)\n",
    "train_active.reset_index(drop=True, inplace=True)\n",
    "test_active.reset_index(drop=True, inplace=True)\n",
    "\n",
    "print(train.shape)\n",
    "print(test.shape)\n",
    "print(train_active.shape)\n",
    "print(test_active.shape)\n",
    "\n",
    "train.to_feather('../features/train/Agg_Price_mean_Golden_features_train.feather')\n",
    "test.to_feather('../features/test/Agg_Price_mean_Golden_features_test.feather')\n",
    "train_active.to_feather('../features/train_active/Agg_Price_mean_Golden_features_train_active.feather')\n",
    "test_active.to_feather('../features/test_active/Agg_Price_mean_Golden_features_test_active.feather')\n",
    "\n",
    "print('done')\n",
    "train.nunique()"
   ]
  },
  {
   "cell_type": "code",
   "execution_count": null,
   "metadata": {},
   "outputs": [],
   "source": []
  },
  {
   "cell_type": "code",
   "execution_count": null,
   "metadata": {},
   "outputs": [],
   "source": []
  },
  {
   "cell_type": "code",
   "execution_count": null,
   "metadata": {},
   "outputs": [],
   "source": []
  },
  {
   "cell_type": "code",
   "execution_count": 3,
   "metadata": {},
   "outputs": [
    {
     "name": "stdout",
     "output_type": "stream",
     "text": [
      "(1503424, 12)\n",
      "(508438, 12)\n",
      "(2011862, 9)\n"
     ]
    },
    {
     "name": "stderr",
     "output_type": "stream",
     "text": [
      "100%|████████████████████████████████████████████████████████████████████████████████████| 8/8 [00:03<00:00,  2.11it/s]\n"
     ]
    },
    {
     "name": "stdout",
     "output_type": "stream",
     "text": [
      "Memory usage of dataframe is 76.75 MB\n",
      "Memory usage after optimization is: 76.75 MB\n",
      "Decreased by 0.0%\n",
      "(1503424, 8)\n",
      "(508438, 8)\n",
      "save done  1\n",
      "(1503424, 12)\n",
      "(508438, 12)\n",
      "(2011862, 9)\n"
     ]
    },
    {
     "name": "stderr",
     "output_type": "stream",
     "text": [
      "100%|██████████████████████████████████████████████████████████████████████████████████| 28/28 [00:22<00:00,  1.26it/s]\n"
     ]
    },
    {
     "name": "stdout",
     "output_type": "stream",
     "text": [
      "Memory usage of dataframe is 230.24 MB\n",
      "Memory usage after optimization is: 230.24 MB\n",
      "Decreased by 0.0%\n",
      "(1503424, 28)\n",
      "(508438, 28)\n",
      "save done  2\n",
      "(1503424, 12)\n",
      "(508438, 12)\n",
      "(2011862, 9)\n"
     ]
    },
    {
     "name": "stderr",
     "output_type": "stream",
     "text": [
      "100%|██████████████████████████████████████████████████████████████████████████████████| 56/56 [01:04<00:00,  1.14s/it]\n"
     ]
    },
    {
     "name": "stdout",
     "output_type": "stream",
     "text": [
      "Memory usage of dataframe is 445.13 MB\n",
      "Memory usage after optimization is: 445.13 MB\n",
      "Decreased by 0.0%\n",
      "(1503424, 56)\n",
      "(508438, 56)\n",
      "save done  3\n",
      "(1503424, 12)\n",
      "(508438, 12)\n",
      "(2011862, 9)\n"
     ]
    },
    {
     "name": "stderr",
     "output_type": "stream",
     "text": [
      "100%|██████████████████████████████████████████████████████████████████████████████████| 70/70 [01:38<00:00,  1.41s/it]\n"
     ]
    },
    {
     "name": "stdout",
     "output_type": "stream",
     "text": [
      "Memory usage of dataframe is 552.57 MB\n",
      "Memory usage after optimization is: 552.57 MB\n",
      "Decreased by 0.0%\n",
      "(1503424, 70)\n",
      "(508438, 70)\n",
      "save done  4\n"
     ]
    }
   ],
   "source": [
    "target = 'price'\n",
    "for i in range(1, 5):\n",
    "    train = pd.read_feather('../features/train/categorical_features_train.feather')\n",
    "    test = pd.read_feather('../features/test/categorical_features_test.feather')\n",
    "\n",
    "    trainp = pd.read_csv('../input/train.csv', usecols=[target])\n",
    "    testp = pd.read_csv('../input/test.csv', usecols=[target])\n",
    "    trainp.fillna(trainp.mean(), inplace=True)\n",
    "    testp.fillna(testp.mean(), inplace=True)\n",
    "    train = pd.concat([train, trainp], axis=1)\n",
    "    test = pd.concat([test, testp], axis=1)\n",
    "    del trainp, testp; gc.collect()\n",
    "    print(train.shape)\n",
    "    print(test.shape)\n",
    "\n",
    "    df = pd.concat([train, test])\n",
    "    df.drop(nonaggfeats, axis=1, inplace=True)\n",
    "    del train, test; gc.collect()\n",
    "    print(df.shape)\n",
    "\n",
    "    for comb in tqdm(list(itertools.combinations(aggfeats, i))):\n",
    "        group_cols = list(comb)\n",
    "        aggname = '-'.join(group_cols+[target]) + '-var'\n",
    "        gp = df[group_cols+[target]].groupby(group_cols)[target].var().rename(aggname).to_frame().reset_index()\n",
    "        df = df.merge(gp, on=group_cols, how='left')\n",
    "        df[aggname] = df[aggname].fillna(df[aggname].mean())\n",
    "        df[aggname] = df[aggname].astype('float32')\n",
    "        gc.collect()\n",
    "    df.drop(aggfeats+[target], axis=1, inplace=True)\n",
    "    df = reduce_mem_usage(df)\n",
    "    train = df[:lentrain]\n",
    "    test = df[lentrain:]\n",
    "    train.reset_index(drop=True, inplace=True)\n",
    "    test.reset_index(drop=True, inplace=True)\n",
    "    print(train.shape)\n",
    "    print(test.shape)\n",
    "    train.to_feather('../features/train/Agg_by_price_var_'+str(i)+'_train.feather')\n",
    "    test.to_feather('../features/test/Agg_by_price_var_'+str(i)+'_test.feather')\n",
    "    print('save done ',str(i))\n",
    "    del train, test, df; gc.collect()\n",
    "\n"
   ]
  },
  {
   "cell_type": "code",
   "execution_count": null,
   "metadata": {},
   "outputs": [],
   "source": [
    "with open('./Golden_Price_var_agg.pickle', 'rb') as f:\n",
    "    agg_list = pickle.load(f)\n",
    "    \n",
    "print(agg_list)\n",
    "target = 'price'\n",
    "\n",
    "train = pd.read_feather('../features/train/categorical_features_train.feather')\n",
    "test = pd.read_feather('../features/test/categorical_features_test.feather')\n",
    "trainp = pd.read_csv('../input/train.csv', usecols=[target])\n",
    "testp = pd.read_csv('../input/test.csv', usecols=[target])\n",
    "trainp.fillna(trainp.mean(), inplace=True)\n",
    "testp.fillna(testp.mean(), inplace=True)\n",
    "train = pd.concat([train, trainp], axis=1)\n",
    "test = pd.concat([test, testp], axis=1)\n",
    "del trainp, testp; gc.collect()\n",
    "\n",
    "train_active = pd.read_feather('../features/train_active/categorical_features_train_active.feather')\n",
    "test_active = pd.read_feather('../features/test_active/categorical_features_test_active.feather')\n",
    "trainap = pd.read_csv('../input/train_active.csv', usecols=[target])\n",
    "testap = pd.read_csv('../input/test_active.csv', usecols=[target])\n",
    "trainap.fillna(trainap.mean(), inplace=True)\n",
    "testap.fillna(testap.mean(), inplace=True)\n",
    "train_active = pd.concat([train_active, trainap], axis=1)\n",
    "test_active = pd.concat([test_active, testap], axis=1)\n",
    "del trainap, testap; gc.collect()\n",
    "\n",
    "print(train.shape)\n",
    "print(test.shape)\n",
    "print(train_active.shape)\n",
    "print(test_active.shape)\n",
    "\n",
    "df = pd.concat([train, test, train_active, test_active])\n",
    "df.drop(nonaggfeats, axis=1, inplace=True)\n",
    "print(df.shape)\n",
    "\n",
    "for cols in tqdm(agg_list):\n",
    "    group_cols = cols[:-1]\n",
    "    assert target == cols[-1]\n",
    "    print(group_cols)\n",
    "    aggname = '-'.join(group_cols+[target]) + '-var'\n",
    "    gp = df[group_cols+[target]].groupby(group_cols)[target].var().rename(aggname).to_frame().reset_index()\n",
    "    df = df.merge(gp, on=group_cols, how='left')\n",
    "    df[aggname] = df[aggname].fillna(df[aggname].mean())\n",
    "    df[aggname] = df[aggname].astype('float32')\n",
    "    del gp; gc.collect()\n",
    "\n",
    "print(df.shape)\n",
    "df.head()\n",
    "\n",
    "df = reduce_mem_usage(df)\n",
    "df.drop(aggfeats+['price'], axis=1, inplace=True)\n",
    "train = df[:lentrain]\n",
    "test = df[lentrain:lentrain+lentest]\n",
    "train_active = df[lentrain+lentest: lentrain+lentest+lentrainactive]\n",
    "test_active = df[lentrain+lentest+lentrainactive: lentrain+lentest+lentrainactive+lentestactive]\n",
    "\n",
    "train.reset_index(drop=True, inplace=True)\n",
    "test.reset_index(drop=True, inplace=True)\n",
    "train_active.reset_index(drop=True, inplace=True)\n",
    "test_active.reset_index(drop=True, inplace=True)\n",
    "\n",
    "print(train.shape)\n",
    "print(test.shape)\n",
    "print(train_active.shape)\n",
    "print(test_active.shape)\n",
    "\n",
    "train.to_feather('../features/train/Agg_Price_var_Golden_features_train.feather')\n",
    "test.to_feather('../features/test/Agg_Price_var_Golden_features_test.feather')\n",
    "train_active.to_feather('../features/train_active/Agg_Price_var_Golden_features_train_active.feather')\n",
    "test_active.to_feather('../features/test_active/Agg_Price_var_Golden_features_test_active.feather')\n",
    "\n",
    "print('done')\n",
    "train.nunique()"
   ]
  },
  {
   "cell_type": "code",
   "execution_count": null,
   "metadata": {},
   "outputs": [],
   "source": []
  },
  {
   "cell_type": "code",
   "execution_count": null,
   "metadata": {},
   "outputs": [],
   "source": []
  },
  {
   "cell_type": "code",
   "execution_count": null,
   "metadata": {},
   "outputs": [],
   "source": []
  },
  {
   "cell_type": "code",
   "execution_count": 5,
   "metadata": {},
   "outputs": [
    {
     "name": "stdout",
     "output_type": "stream",
     "text": [
      "(1503424, 12)\n",
      "(508438, 12)\n",
      "(2011862, 9)\n"
     ]
    },
    {
     "name": "stderr",
     "output_type": "stream",
     "text": [
      "100%|████████████████████████████████████████████████████████████████████████████████████| 8/8 [00:03<00:00,  2.00it/s]\n"
     ]
    },
    {
     "name": "stdout",
     "output_type": "stream",
     "text": [
      "Memory usage of dataframe is 76.75 MB\n",
      "Memory usage after optimization is: 76.75 MB\n",
      "Decreased by 0.0%\n",
      "(1503424, 8)\n",
      "(508438, 8)\n",
      "save done  1\n",
      "(1503424, 12)\n",
      "(508438, 12)\n",
      "(2011862, 9)\n"
     ]
    },
    {
     "name": "stderr",
     "output_type": "stream",
     "text": [
      "100%|██████████████████████████████████████████████████████████████████████████████████| 28/28 [00:22<00:00,  1.25it/s]\n"
     ]
    },
    {
     "name": "stdout",
     "output_type": "stream",
     "text": [
      "Memory usage of dataframe is 230.24 MB\n",
      "Memory usage after optimization is: 230.24 MB\n",
      "Decreased by 0.0%\n",
      "(1503424, 28)\n",
      "(508438, 28)\n",
      "save done  2\n",
      "(1503424, 12)\n",
      "(508438, 12)\n",
      "(2011862, 9)\n"
     ]
    },
    {
     "name": "stderr",
     "output_type": "stream",
     "text": [
      "100%|██████████████████████████████████████████████████████████████████████████████████| 56/56 [01:05<00:00,  1.17s/it]\n"
     ]
    },
    {
     "name": "stdout",
     "output_type": "stream",
     "text": [
      "Memory usage of dataframe is 445.13 MB\n",
      "Memory usage after optimization is: 445.13 MB\n",
      "Decreased by 0.0%\n",
      "(1503424, 56)\n",
      "(508438, 56)\n",
      "save done  3\n",
      "(1503424, 12)\n",
      "(508438, 12)\n",
      "(2011862, 9)\n"
     ]
    },
    {
     "name": "stderr",
     "output_type": "stream",
     "text": [
      "100%|██████████████████████████████████████████████████████████████████████████████████| 70/70 [01:41<00:00,  1.45s/it]\n"
     ]
    },
    {
     "name": "stdout",
     "output_type": "stream",
     "text": [
      "Memory usage of dataframe is 552.57 MB\n",
      "Memory usage after optimization is: 552.57 MB\n",
      "Decreased by 0.0%\n",
      "(1503424, 70)\n",
      "(508438, 70)\n",
      "save done  4\n"
     ]
    }
   ],
   "source": [
    "target = 'price'\n",
    "for i in range(1, 5):\n",
    "    train = pd.read_feather('../features/train/categorical_features_train.feather')\n",
    "    test = pd.read_feather('../features/test/categorical_features_test.feather')\n",
    "\n",
    "    trainp = pd.read_csv('../input/train.csv', usecols=[target])\n",
    "    testp = pd.read_csv('../input/test.csv', usecols=[target])\n",
    "    trainp.fillna(trainp.mean(), inplace=True)\n",
    "    testp.fillna(testp.mean(), inplace=True)\n",
    "    train = pd.concat([train, trainp], axis=1)\n",
    "    test = pd.concat([test, testp], axis=1)\n",
    "    del trainp, testp; gc.collect()\n",
    "    print(train.shape)\n",
    "    print(test.shape)\n",
    "\n",
    "    df = pd.concat([train, test])\n",
    "    df.drop(nonaggfeats, axis=1, inplace=True)\n",
    "    del train, test; gc.collect()\n",
    "    print(df.shape)\n",
    "\n",
    "    for comb in tqdm(list(itertools.combinations(aggfeats, i))):\n",
    "        group_cols = list(comb)\n",
    "        aggname = '-'.join(group_cols+[target]) + '-median'\n",
    "        gp = df[group_cols+[target]].groupby(group_cols)[target].median().rename(aggname).to_frame().reset_index()\n",
    "        df = df.merge(gp, on=group_cols, how='left')\n",
    "        df[aggname] = df[aggname].fillna(df[aggname].mean())\n",
    "        df[aggname] = df[aggname].astype('float32')\n",
    "        gc.collect()\n",
    "    df.drop(aggfeats+[target], axis=1, inplace=True)\n",
    "    df = reduce_mem_usage(df)\n",
    "    train = df[:lentrain]\n",
    "    test = df[lentrain:]\n",
    "    train.reset_index(drop=True, inplace=True)\n",
    "    test.reset_index(drop=True, inplace=True)\n",
    "    print(train.shape)\n",
    "    print(test.shape)\n",
    "    train.to_feather('../features/train/Agg_by_price_median_'+str(i)+'_train.feather')\n",
    "    test.to_feather('../features/test/Agg_by_price_median_'+str(i)+'_test.feather')\n",
    "    print('save done ',str(i))\n",
    "    del train, test, df; gc.collect()\n",
    "\n"
   ]
  },
  {
   "cell_type": "code",
   "execution_count": null,
   "metadata": {},
   "outputs": [],
   "source": [
    "with open('./Golden_Price_median_agg.pickle', 'rb') as f:\n",
    "    agg_list = pickle.load(f)\n",
    "    \n",
    "print(agg_list)\n",
    "target = 'price'\n",
    "\n",
    "train = pd.read_feather('../features/train/categorical_features_train.feather')\n",
    "test = pd.read_feather('../features/test/categorical_features_test.feather')\n",
    "trainp = pd.read_csv('../input/train.csv', usecols=[target])\n",
    "testp = pd.read_csv('../input/test.csv', usecols=[target])\n",
    "trainp.fillna(trainp.mean(), inplace=True)\n",
    "testp.fillna(testp.mean(), inplace=True)\n",
    "train = pd.concat([train, trainp], axis=1)\n",
    "test = pd.concat([test, testp], axis=1)\n",
    "del trainp, testp; gc.collect()\n",
    "\n",
    "train_active = pd.read_feather('../features/train_active/categorical_features_train_active.feather')\n",
    "test_active = pd.read_feather('../features/test_active/categorical_features_test_active.feather')\n",
    "trainap = pd.read_csv('../input/train_active.csv', usecols=[target])\n",
    "testap = pd.read_csv('../input/test_active.csv', usecols=[target])\n",
    "trainap.fillna(trainap.mean(), inplace=True)\n",
    "testap.fillna(testap.mean(), inplace=True)\n",
    "train_active = pd.concat([train_active, trainap], axis=1)\n",
    "test_active = pd.concat([test_active, testap], axis=1)\n",
    "del trainap, testap; gc.collect()\n",
    "\n",
    "print(train.shape)\n",
    "print(test.shape)\n",
    "print(train_active.shape)\n",
    "print(test_active.shape)\n",
    "\n",
    "df = pd.concat([train, test, train_active, test_active])\n",
    "df.drop(nonaggfeats, axis=1, inplace=True)\n",
    "print(df.shape)\n",
    "\n",
    "for cols in tqdm(agg_list):\n",
    "    group_cols = cols[:-1]\n",
    "    assert target == cols[-1]\n",
    "    print(group_cols)\n",
    "    aggname = '-'.join(group_cols+[target]) + '-median'\n",
    "    gp = df[group_cols+[target]].groupby(group_cols)[target].median().rename(aggname).to_frame().reset_index()\n",
    "    df = df.merge(gp, on=group_cols, how='left')\n",
    "    df[aggname] = df[aggname].fillna(df[aggname].mean())\n",
    "    df[aggname] = df[aggname].astype('float32')\n",
    "    del gp; gc.collect()\n",
    "\n",
    "print(df.shape)\n",
    "df.head()\n",
    "\n",
    "df = reduce_mem_usage(df)\n",
    "df.drop(aggfeats+['price'], axis=1, inplace=True)\n",
    "train = df[:lentrain]\n",
    "test = df[lentrain:lentrain+lentest]\n",
    "train_active = df[lentrain+lentest: lentrain+lentest+lentrainactive]\n",
    "test_active = df[lentrain+lentest+lentrainactive: lentrain+lentest+lentrainactive+lentestactive]\n",
    "\n",
    "train.reset_index(drop=True, inplace=True)\n",
    "test.reset_index(drop=True, inplace=True)\n",
    "train_active.reset_index(drop=True, inplace=True)\n",
    "test_active.reset_index(drop=True, inplace=True)\n",
    "\n",
    "print(train.shape)\n",
    "print(test.shape)\n",
    "print(train_active.shape)\n",
    "print(test_active.shape)\n",
    "\n",
    "train.to_feather('../features/train/Agg_Price_median_Golden_features_train.feather')\n",
    "test.to_feather('../features/test/Agg_Price_median_Golden_features_test.feather')\n",
    "train_active.to_feather('../features/train_active/Agg_Price_median_Golden_features_train_active.feather')\n",
    "test_active.to_feather('../features/test_active/Agg_Price_median_Golden_features_test_active.feather')\n",
    "\n",
    "print('done')\n",
    "train.nunique()"
   ]
  },
  {
   "cell_type": "code",
   "execution_count": null,
   "metadata": {},
   "outputs": [],
   "source": []
  },
  {
   "cell_type": "code",
   "execution_count": 5,
   "metadata": {},
   "outputs": [
    {
     "name": "stdout",
     "output_type": "stream",
     "text": [
      "(1503424, 12)\n",
      "(508438, 12)\n",
      "(2011862, 9)\n"
     ]
    },
    {
     "name": "stderr",
     "output_type": "stream",
     "text": [
      "100%|████████████████████████████████████████████████████████████████████████████████████| 8/8 [00:03<00:00,  2.09it/s]\n"
     ]
    },
    {
     "name": "stdout",
     "output_type": "stream",
     "text": [
      "Memory usage of dataframe is 76.75 MB\n",
      "Memory usage after optimization is: 76.75 MB\n",
      "Decreased by 0.0%\n",
      "(1503424, 8)\n",
      "(508438, 8)\n",
      "save done  1\n",
      "(1503424, 12)\n",
      "(508438, 12)\n",
      "(2011862, 9)\n"
     ]
    },
    {
     "name": "stderr",
     "output_type": "stream",
     "text": [
      "100%|██████████████████████████████████████████████████████████████████████████████████| 28/28 [00:21<00:00,  1.30it/s]\n"
     ]
    },
    {
     "name": "stdout",
     "output_type": "stream",
     "text": [
      "Memory usage of dataframe is 230.24 MB\n",
      "Memory usage after optimization is: 230.24 MB\n",
      "Decreased by 0.0%\n",
      "(1503424, 28)\n",
      "(508438, 28)\n",
      "save done  2\n",
      "(1503424, 12)\n",
      "(508438, 12)\n",
      "(2011862, 9)\n"
     ]
    },
    {
     "name": "stderr",
     "output_type": "stream",
     "text": [
      "100%|██████████████████████████████████████████████████████████████████████████████████| 56/56 [01:04<00:00,  1.15s/it]\n"
     ]
    },
    {
     "name": "stdout",
     "output_type": "stream",
     "text": [
      "Memory usage of dataframe is 445.13 MB\n",
      "Memory usage after optimization is: 445.13 MB\n",
      "Decreased by 0.0%\n",
      "(1503424, 56)\n",
      "(508438, 56)\n",
      "save done  3\n",
      "(1503424, 12)\n",
      "(508438, 12)\n",
      "(2011862, 9)\n"
     ]
    },
    {
     "name": "stderr",
     "output_type": "stream",
     "text": [
      "100%|██████████████████████████████████████████████████████████████████████████████████| 70/70 [01:40<00:00,  1.44s/it]\n"
     ]
    },
    {
     "name": "stdout",
     "output_type": "stream",
     "text": [
      "Memory usage of dataframe is 552.57 MB\n",
      "Memory usage after optimization is: 552.57 MB\n",
      "Decreased by 0.0%\n",
      "(1503424, 70)\n",
      "(508438, 70)\n",
      "save done  4\n"
     ]
    }
   ],
   "source": [
    "target = 'image_top_1'\n",
    "for i in range(1, 5):\n",
    "    train = pd.read_feather('../features/train/categorical_features_train.feather')\n",
    "    test = pd.read_feather('../features/test/categorical_features_test.feather')\n",
    "\n",
    "    trainp = pd.read_csv('../input/train.csv', usecols=[target])\n",
    "    testp = pd.read_csv('../input/test.csv', usecols=[target])\n",
    "    trainp.fillna(0, inplace=True)\n",
    "    testp.fillna(0, inplace=True)\n",
    "    train = pd.concat([train, trainp], axis=1)\n",
    "    test = pd.concat([test, testp], axis=1)\n",
    "    del trainp, testp; gc.collect()\n",
    "    print(train.shape)\n",
    "    print(test.shape)\n",
    "\n",
    "    df = pd.concat([train, test])\n",
    "    df.drop(nonaggfeats, axis=1, inplace=True)\n",
    "    del train, test; gc.collect()\n",
    "    print(df.shape)\n",
    "\n",
    "    for comb in tqdm(list(itertools.combinations(aggfeats, i))):\n",
    "        group_cols = list(comb)\n",
    "        aggname = '-'.join(group_cols+[target]) + '-mean'\n",
    "        gp = df[group_cols+[target]].groupby(group_cols)[target].mean().rename(aggname).to_frame().reset_index()\n",
    "        df = df.merge(gp, on=group_cols, how='left')\n",
    "        df[aggname] = df[aggname].fillna(0)\n",
    "        df[aggname] = df[aggname].astype('float32')\n",
    "        gc.collect()\n",
    "    df.drop(aggfeats+[target], axis=1, inplace=True)\n",
    "    df = reduce_mem_usage(df)\n",
    "    train = df[:lentrain]\n",
    "    test = df[lentrain:]\n",
    "    train.reset_index(drop=True, inplace=True)\n",
    "    test.reset_index(drop=True, inplace=True)\n",
    "    print(train.shape)\n",
    "    print(test.shape)\n",
    "    train.to_feather('../features/train/Agg_by_imagetop1_mean_'+str(i)+'_train.feather')\n",
    "    test.to_feather('../features/test/Agg_by_imagetop1_mean_'+str(i)+'_test.feather')\n",
    "    print('save done ',str(i))\n",
    "    del train, test, df; gc.collect()\n"
   ]
  },
  {
   "cell_type": "code",
   "execution_count": 3,
   "metadata": {},
   "outputs": [
    {
     "name": "stdout",
     "output_type": "stream",
     "text": [
      "[['city', 'parent_category_name', 'user_type', 'weekofday', 'image_top_1'], ['parent_category_name', 'user_type', 'image_top_1'], ['region', 'weekofday', 'image_top_1'], ['region', 'user_type', 'weekofday', 'image_top_1'], ['city', 'user_type', 'weekofday', 'param_1', 'image_top_1'], ['parent_category_name', 'user_type', 'weekofday', 'image_top_1'], ['region', 'user_type', 'weekofday', 'param_123', 'image_top_1'], ['category_name', 'weekofday', 'image_top_1'], ['city', 'weekofday', 'image_top_1'], ['city', 'user_type', 'weekofday', 'image_top_1'], ['city', 'user_type', 'weekofday', 'param_123', 'image_top_1'], ['parent_category_name', 'category_name', 'image_top_1'], ['user_type', 'param_1', 'image_top_1'], ['category_name', 'image_top_1'], ['city', 'image_top_1'], ['user_type', 'param_123', 'image_top_1'], ['user_type', 'image_top_1'], ['city', 'user_type', 'image_top_1'], ['user_type', 'weekofday', 'image_top_1'], ['param_123', 'image_top_1'], ['region', 'parent_category_name', 'image_top_1'], ['category_name', 'param_1', 'image_top_1'], ['param_1', 'image_top_1'], ['parent_category_name', 'image_top_1'], ['region', 'category_name', 'image_top_1'], ['parent_category_name', 'user_type', 'param_1', 'image_top_1']]\n",
      "(1503424, 12)\n",
      "(508438, 12)\n",
      "(2011862, 9)\n"
     ]
    },
    {
     "name": "stderr",
     "output_type": "stream",
     "text": [
      "  0%|                                                                                           | 0/26 [00:00<?, ?it/s]"
     ]
    },
    {
     "name": "stdout",
     "output_type": "stream",
     "text": [
      "['city', 'parent_category_name', 'user_type', 'weekofday']\n"
     ]
    },
    {
     "name": "stderr",
     "output_type": "stream",
     "text": [
      "  4%|███▏                                                                               | 1/26 [00:00<00:21,  1.15it/s]"
     ]
    },
    {
     "name": "stdout",
     "output_type": "stream",
     "text": [
      "['parent_category_name', 'user_type']\n"
     ]
    },
    {
     "name": "stderr",
     "output_type": "stream",
     "text": [
      "  8%|██████▍                                                                            | 2/26 [00:01<00:16,  1.48it/s]"
     ]
    },
    {
     "name": "stdout",
     "output_type": "stream",
     "text": [
      "['region', 'weekofday']\n"
     ]
    },
    {
     "name": "stderr",
     "output_type": "stream",
     "text": [
      " 12%|█████████▌                                                                         | 3/26 [00:02<00:15,  1.46it/s]"
     ]
    },
    {
     "name": "stdout",
     "output_type": "stream",
     "text": [
      "['region', 'user_type', 'weekofday']\n"
     ]
    },
    {
     "name": "stderr",
     "output_type": "stream",
     "text": [
      " 15%|████████████▊                                                                      | 4/26 [00:02<00:15,  1.43it/s]"
     ]
    },
    {
     "name": "stdout",
     "output_type": "stream",
     "text": [
      "['city', 'user_type', 'weekofday', 'param_1']\n"
     ]
    },
    {
     "name": "stderr",
     "output_type": "stream",
     "text": [
      " 19%|███████████████▉                                                                   | 5/26 [00:03<00:16,  1.27it/s]"
     ]
    },
    {
     "name": "stdout",
     "output_type": "stream",
     "text": [
      "['parent_category_name', 'user_type', 'weekofday']\n"
     ]
    },
    {
     "name": "stderr",
     "output_type": "stream",
     "text": [
      " 23%|███████████████████▏                                                               | 6/26 [00:04<00:15,  1.27it/s]"
     ]
    },
    {
     "name": "stdout",
     "output_type": "stream",
     "text": [
      "['region', 'user_type', 'weekofday', 'param_123']\n"
     ]
    },
    {
     "name": "stderr",
     "output_type": "stream",
     "text": [
      " 27%|██████████████████████▎                                                            | 7/26 [00:05<00:15,  1.19it/s]"
     ]
    },
    {
     "name": "stdout",
     "output_type": "stream",
     "text": [
      "['category_name', 'weekofday']\n"
     ]
    },
    {
     "name": "stderr",
     "output_type": "stream",
     "text": [
      " 31%|█████████████████████████▌                                                         | 8/26 [00:06<00:14,  1.20it/s]"
     ]
    },
    {
     "name": "stdout",
     "output_type": "stream",
     "text": [
      "['city', 'weekofday']\n"
     ]
    },
    {
     "name": "stderr",
     "output_type": "stream",
     "text": [
      " 35%|████████████████████████████▋                                                      | 9/26 [00:07<00:14,  1.20it/s]"
     ]
    },
    {
     "name": "stdout",
     "output_type": "stream",
     "text": [
      "['city', 'user_type', 'weekofday']\n"
     ]
    },
    {
     "name": "stderr",
     "output_type": "stream",
     "text": [
      " 38%|███████████████████████████████▌                                                  | 10/26 [00:08<00:13,  1.19it/s]"
     ]
    },
    {
     "name": "stdout",
     "output_type": "stream",
     "text": [
      "['city', 'user_type', 'weekofday', 'param_123']\n"
     ]
    },
    {
     "name": "stderr",
     "output_type": "stream",
     "text": [
      " 42%|██████████████████████████████████▋                                               | 11/26 [00:09<00:13,  1.11it/s]"
     ]
    },
    {
     "name": "stdout",
     "output_type": "stream",
     "text": [
      "['parent_category_name', 'category_name']\n"
     ]
    },
    {
     "name": "stderr",
     "output_type": "stream",
     "text": [
      " 46%|█████████████████████████████████████▊                                            | 12/26 [00:10<00:12,  1.13it/s]"
     ]
    },
    {
     "name": "stdout",
     "output_type": "stream",
     "text": [
      "['user_type', 'param_1']\n"
     ]
    },
    {
     "name": "stderr",
     "output_type": "stream",
     "text": [
      " 50%|█████████████████████████████████████████                                         | 13/26 [00:11<00:11,  1.15it/s]"
     ]
    },
    {
     "name": "stdout",
     "output_type": "stream",
     "text": [
      "['category_name']\n"
     ]
    },
    {
     "name": "stderr",
     "output_type": "stream",
     "text": [
      " 54%|████████████████████████████████████████████▏                                     | 14/26 [00:11<00:10,  1.18it/s]"
     ]
    },
    {
     "name": "stdout",
     "output_type": "stream",
     "text": [
      "['city']\n"
     ]
    },
    {
     "name": "stderr",
     "output_type": "stream",
     "text": [
      " 58%|███████████████████████████████████████████████▎                                  | 15/26 [00:12<00:09,  1.20it/s]"
     ]
    },
    {
     "name": "stdout",
     "output_type": "stream",
     "text": [
      "['user_type', 'param_123']\n"
     ]
    },
    {
     "name": "stderr",
     "output_type": "stream",
     "text": [
      " 62%|██████████████████████████████████████████████████▍                               | 16/26 [00:13<00:08,  1.20it/s]"
     ]
    },
    {
     "name": "stdout",
     "output_type": "stream",
     "text": [
      "['user_type']\n"
     ]
    },
    {
     "name": "stderr",
     "output_type": "stream",
     "text": [
      " 65%|█████████████████████████████████████████████████████▌                            | 17/26 [00:13<00:07,  1.22it/s]"
     ]
    },
    {
     "name": "stdout",
     "output_type": "stream",
     "text": [
      "['city', 'user_type']\n"
     ]
    },
    {
     "name": "stderr",
     "output_type": "stream",
     "text": [
      " 69%|████████████████████████████████████████████████████████▊                         | 18/26 [00:14<00:06,  1.22it/s]"
     ]
    },
    {
     "name": "stdout",
     "output_type": "stream",
     "text": [
      "['user_type', 'weekofday']\n"
     ]
    },
    {
     "name": "stderr",
     "output_type": "stream",
     "text": [
      " 73%|███████████████████████████████████████████████████████████▉                      | 19/26 [00:15<00:05,  1.22it/s]"
     ]
    },
    {
     "name": "stdout",
     "output_type": "stream",
     "text": [
      "['param_123']\n"
     ]
    },
    {
     "name": "stderr",
     "output_type": "stream",
     "text": [
      " 77%|███████████████████████████████████████████████████████████████                   | 20/26 [00:16<00:04,  1.22it/s]"
     ]
    },
    {
     "name": "stdout",
     "output_type": "stream",
     "text": [
      "['region', 'parent_category_name']\n"
     ]
    },
    {
     "name": "stderr",
     "output_type": "stream",
     "text": [
      " 81%|██████████████████████████████████████████████████████████████████▏               | 21/26 [00:17<00:04,  1.22it/s]"
     ]
    },
    {
     "name": "stdout",
     "output_type": "stream",
     "text": [
      "['category_name', 'param_1']\n"
     ]
    },
    {
     "name": "stderr",
     "output_type": "stream",
     "text": [
      " 85%|█████████████████████████████████████████████████████████████████████▍            | 22/26 [00:17<00:03,  1.22it/s]"
     ]
    },
    {
     "name": "stdout",
     "output_type": "stream",
     "text": [
      "['param_1']\n"
     ]
    },
    {
     "name": "stderr",
     "output_type": "stream",
     "text": [
      " 88%|████████████████████████████████████████████████████████████████████████▌         | 23/26 [00:18<00:02,  1.23it/s]"
     ]
    },
    {
     "name": "stdout",
     "output_type": "stream",
     "text": [
      "['parent_category_name']\n"
     ]
    },
    {
     "name": "stderr",
     "output_type": "stream",
     "text": [
      " 92%|███████████████████████████████████████████████████████████████████████████▋      | 24/26 [00:19<00:01,  1.23it/s]"
     ]
    },
    {
     "name": "stdout",
     "output_type": "stream",
     "text": [
      "['region', 'category_name']\n"
     ]
    },
    {
     "name": "stderr",
     "output_type": "stream",
     "text": [
      " 96%|██████████████████████████████████████████████████████████████████████████████▊   | 25/26 [00:20<00:00,  1.22it/s]"
     ]
    },
    {
     "name": "stdout",
     "output_type": "stream",
     "text": [
      "['parent_category_name', 'user_type', 'param_1']\n"
     ]
    },
    {
     "name": "stderr",
     "output_type": "stream",
     "text": [
      "100%|██████████████████████████████████████████████████████████████████████████████████| 26/26 [00:21<00:00,  1.22it/s]\n"
     ]
    },
    {
     "name": "stdout",
     "output_type": "stream",
     "text": [
      "(2011862, 35)\n",
      "Memory usage of dataframe is 257.10 MB\n",
      "Memory usage after optimization is: 249.43 MB\n",
      "Decreased by 3.0%\n",
      "(1503424, 26)\n",
      "(508438, 26)\n",
      "done\n"
     ]
    },
    {
     "data": {
      "text/plain": [
       "city-parent_category_name-user_type-weekofday-image_top_1-mean    31912\n",
       "parent_category_name-user_type-image_top_1-mean                      27\n",
       "region-weekofday-image_top_1-mean                                   196\n",
       "region-user_type-weekofday-image_top_1-mean                         588\n",
       "city-user_type-weekofday-param_1-image_top_1-mean                 55552\n",
       "parent_category_name-user_type-weekofday-image_top_1-mean           189\n",
       "region-user_type-weekofday-param_123-image_top_1-mean             70172\n",
       "category_name-weekofday-image_top_1-mean                            329\n",
       "city-weekofday-image_top_1-mean                                    8202\n",
       "city-user_type-weekofday-image_top_1-mean                         12649\n",
       "city-user_type-weekofday-param_123-image_top_1-mean               65897\n",
       "parent_category_name-category_name-image_top_1-mean                  47\n",
       "user_type-param_1-image_top_1-mean                                  977\n",
       "category_name-image_top_1-mean                                       47\n",
       "city-image_top_1-mean                                              1710\n",
       "user_type-param_123-image_top_1-mean                               3866\n",
       "user_type-image_top_1-mean                                            3\n",
       "city-user_type-image_top_1-mean                                    3421\n",
       "user_type-weekofday-image_top_1-mean                                 21\n",
       "param_123-image_top_1-mean                                         1880\n",
       "region-parent_category_name-image_top_1-mean                        252\n",
       "category_name-param_1-image_top_1-mean                              443\n",
       "param_1-image_top_1-mean                                            371\n",
       "parent_category_name-image_top_1-mean                                 9\n",
       "region-category_name-image_top_1-mean                              1311\n",
       "parent_category_name-user_type-param_1-image_top_1-mean            1019\n",
       "dtype: int64"
      ]
     },
     "execution_count": 3,
     "metadata": {},
     "output_type": "execute_result"
    }
   ],
   "source": [
    "with open('./Golden_Imagetop1_mean_agg.pickle', 'rb') as f:\n",
    "    agg_list = pickle.load(f)\n",
    "    \n",
    "print(agg_list)\n",
    "target = 'image_top_1'\n",
    "\n",
    "train = pd.read_feather('../features/train/categorical_features_train.feather')\n",
    "test = pd.read_feather('../features/test/categorical_features_test.feather')\n",
    "trainp = pd.read_csv('../input/train.csv', usecols=[target])\n",
    "testp = pd.read_csv('../input/test.csv', usecols=[target])\n",
    "trainp.fillna(-999, inplace=True)\n",
    "testp.fillna(-999, inplace=True)\n",
    "train = pd.concat([train, trainp], axis=1)\n",
    "test = pd.concat([test, testp], axis=1)\n",
    "del trainp, testp; gc.collect()\n",
    "\n",
    "print(train.shape)\n",
    "print(test.shape)\n",
    "\n",
    "df = pd.concat([train, test])\n",
    "df.drop(nonaggfeats, axis=1, inplace=True)\n",
    "print(df.shape)\n",
    "\n",
    "for cols in tqdm(agg_list):\n",
    "    group_cols = cols[:-1]\n",
    "    assert target == cols[-1]\n",
    "    print(group_cols)\n",
    "    aggname = '-'.join(group_cols+[target]) + '-mean'\n",
    "    gp = df[group_cols+[target]].groupby(group_cols)[target].mean().rename(aggname).to_frame().reset_index()\n",
    "    df = df.merge(gp, on=group_cols, how='left')\n",
    "    df[aggname] = df[aggname].fillna(-999)\n",
    "    df[aggname] = df[aggname].astype('float32')\n",
    "    del gp; gc.collect()\n",
    "\n",
    "print(df.shape)\n",
    "df.head()\n",
    "\n",
    "df = reduce_mem_usage(df)\n",
    "df.drop(aggfeats+[target], axis=1, inplace=True)\n",
    "train = df[:lentrain]\n",
    "test = df[lentrain:lentrain+lentest]\n",
    "\n",
    "train.reset_index(drop=True, inplace=True)\n",
    "test.reset_index(drop=True, inplace=True)\n",
    "\n",
    "print(train.shape)\n",
    "print(test.shape)\n",
    "\n",
    "train.to_feather('../features/train/Agg_Imagetop1_mean_Golden_features_train.feather')\n",
    "test.to_feather('../features/test/Agg_Imagetop1_mean_Golden_features_test.feather')\n",
    "\n",
    "print('done')\n",
    "train.nunique()"
   ]
  },
  {
   "cell_type": "code",
   "execution_count": null,
   "metadata": {},
   "outputs": [],
   "source": []
  },
  {
   "cell_type": "code",
   "execution_count": 8,
   "metadata": {},
   "outputs": [
    {
     "name": "stdout",
     "output_type": "stream",
     "text": [
      "(1503424, 12)\n",
      "(508438, 12)\n",
      "(2011862, 9)\n"
     ]
    },
    {
     "name": "stderr",
     "output_type": "stream",
     "text": [
      "100%|████████████████████████████████████████████████████████████████████████████████████| 8/8 [00:03<00:00,  2.21it/s]\n"
     ]
    },
    {
     "name": "stdout",
     "output_type": "stream",
     "text": [
      "Memory usage of dataframe is 76.75 MB\n",
      "Memory usage after optimization is: 76.75 MB\n",
      "Decreased by 0.0%\n",
      "(1503424, 8)\n",
      "(508438, 8)\n",
      "save done  1\n",
      "(1503424, 12)\n",
      "(508438, 12)\n",
      "(2011862, 9)\n"
     ]
    },
    {
     "name": "stderr",
     "output_type": "stream",
     "text": [
      "100%|██████████████████████████████████████████████████████████████████████████████████| 28/28 [00:21<00:00,  1.28it/s]\n"
     ]
    },
    {
     "name": "stdout",
     "output_type": "stream",
     "text": [
      "Memory usage of dataframe is 230.24 MB\n",
      "Memory usage after optimization is: 230.24 MB\n",
      "Decreased by 0.0%\n",
      "(1503424, 28)\n",
      "(508438, 28)\n",
      "save done  2\n",
      "(1503424, 12)\n",
      "(508438, 12)\n",
      "(2011862, 9)\n"
     ]
    },
    {
     "name": "stderr",
     "output_type": "stream",
     "text": [
      "100%|██████████████████████████████████████████████████████████████████████████████████| 56/56 [01:04<00:00,  1.15s/it]\n"
     ]
    },
    {
     "name": "stdout",
     "output_type": "stream",
     "text": [
      "Memory usage of dataframe is 445.13 MB\n",
      "Memory usage after optimization is: 445.13 MB\n",
      "Decreased by 0.0%\n",
      "(1503424, 56)\n",
      "(508438, 56)\n",
      "save done  3\n",
      "(1503424, 12)\n",
      "(508438, 12)\n",
      "(2011862, 9)\n"
     ]
    },
    {
     "name": "stderr",
     "output_type": "stream",
     "text": [
      "100%|██████████████████████████████████████████████████████████████████████████████████| 70/70 [01:39<00:00,  1.42s/it]\n"
     ]
    },
    {
     "name": "stdout",
     "output_type": "stream",
     "text": [
      "Memory usage of dataframe is 552.57 MB\n",
      "Memory usage after optimization is: 552.57 MB\n",
      "Decreased by 0.0%\n",
      "(1503424, 70)\n",
      "(508438, 70)\n",
      "save done  4\n"
     ]
    }
   ],
   "source": [
    "target = 'image_top_1'\n",
    "for i in range(1, 5):\n",
    "    train = pd.read_feather('../features/train/categorical_features_train.feather')\n",
    "    test = pd.read_feather('../features/test/categorical_features_test.feather')\n",
    "\n",
    "    trainp = pd.read_csv('../input/train.csv', usecols=[target])\n",
    "    testp = pd.read_csv('../input/test.csv', usecols=[target])\n",
    "    trainp.fillna(-999, inplace=True)\n",
    "    testp.fillna(-999, inplace=True)\n",
    "    train = pd.concat([train, trainp], axis=1)\n",
    "    test = pd.concat([test, testp], axis=1)\n",
    "    del trainp, testp; gc.collect()\n",
    "    print(train.shape)\n",
    "    print(test.shape)\n",
    "\n",
    "    df = pd.concat([train, test])\n",
    "    df.drop(nonaggfeats, axis=1, inplace=True)\n",
    "    del train, test; gc.collect()\n",
    "    print(df.shape)\n",
    "\n",
    "    for comb in tqdm(list(itertools.combinations(aggfeats, i))):\n",
    "        group_cols = list(comb)\n",
    "        aggname = '-'.join(group_cols+[target]) + '-var'\n",
    "        gp = df[group_cols+[target]].groupby(group_cols)[target].var().rename(aggname).to_frame().reset_index()\n",
    "        df = df.merge(gp, on=group_cols, how='left')\n",
    "        df[aggname] = df[aggname].fillna(-999)\n",
    "        df[aggname] = df[aggname].astype('float32')\n",
    "        gc.collect()\n",
    "    df.drop(aggfeats+[target], axis=1, inplace=True)\n",
    "    df = reduce_mem_usage(df)\n",
    "    train = df[:lentrain]\n",
    "    test = df[lentrain:]\n",
    "    train.reset_index(drop=True, inplace=True)\n",
    "    test.reset_index(drop=True, inplace=True)\n",
    "    print(train.shape)\n",
    "    print(test.shape)\n",
    "    train.to_feather('../features/train/Agg_by_imagetop1_var_'+str(i)+'_train.feather')\n",
    "    test.to_feather('../features/test/Agg_by_imagetop1_var_'+str(i)+'_test.feather')\n",
    "    print('save done ',str(i))\n",
    "    del train, test, df; gc.collect()\n"
   ]
  },
  {
   "cell_type": "code",
   "execution_count": 4,
   "metadata": {},
   "outputs": [
    {
     "name": "stdout",
     "output_type": "stream",
     "text": [
      "[['param_123', 'image_top_1'], ['parent_category_name', 'image_top_1'], ['region', 'parent_category_name', 'image_top_1'], ['region', 'user_type', 'weekofday', 'image_top_1'], ['city', 'parent_category_name', 'user_type', 'image_top_1'], ['category_name', 'user_type', 'image_top_1'], ['parent_category_name', 'category_name', 'image_top_1'], ['region', 'user_type', 'image_top_1'], ['city', 'image_top_1'], ['user_type', 'image_top_1'], ['parent_category_name', 'param_1', 'image_top_1'], ['param_1', 'image_top_1'], ['category_name', 'weekofday', 'image_top_1'], ['user_type', 'weekofday', 'image_top_1'], ['city', 'user_type', 'image_top_1'], ['city', 'parent_category_name', 'user_type', 'weekofday', 'image_top_1'], ['category_name', 'param_1', 'image_top_1'], ['parent_category_name', 'category_name', 'user_type', 'image_top_1'], ['parent_category_name', 'param_123', 'image_top_1'], ['city', 'user_type', 'weekofday', 'image_top_1'], ['city', 'category_name', 'user_type', 'weekofday', 'image_top_1'], ['region', 'city', 'user_type', 'image_top_1'], ['category_name', 'image_top_1'], ['region', 'weekofday', 'image_top_1'], ['city', 'weekofday', 'image_top_1'], ['parent_category_name', 'user_type', 'image_top_1']]\n",
      "(1503424, 12)\n",
      "(508438, 12)\n",
      "(2011862, 9)\n"
     ]
    },
    {
     "name": "stderr",
     "output_type": "stream",
     "text": [
      "  0%|                                                                                           | 0/26 [00:00<?, ?it/s]"
     ]
    },
    {
     "name": "stdout",
     "output_type": "stream",
     "text": [
      "['param_123']\n"
     ]
    },
    {
     "name": "stderr",
     "output_type": "stream",
     "text": [
      "  4%|███▏                                                                               | 1/26 [00:00<00:10,  2.37it/s]"
     ]
    },
    {
     "name": "stdout",
     "output_type": "stream",
     "text": [
      "['parent_category_name']\n"
     ]
    },
    {
     "name": "stderr",
     "output_type": "stream",
     "text": [
      "  8%|██████▍                                                                            | 2/26 [00:00<00:09,  2.44it/s]"
     ]
    },
    {
     "name": "stdout",
     "output_type": "stream",
     "text": [
      "['region', 'parent_category_name']\n"
     ]
    },
    {
     "name": "stderr",
     "output_type": "stream",
     "text": [
      " 12%|█████████▌                                                                         | 3/26 [00:01<00:10,  2.20it/s]"
     ]
    },
    {
     "name": "stdout",
     "output_type": "stream",
     "text": [
      "['region', 'user_type', 'weekofday']\n"
     ]
    },
    {
     "name": "stderr",
     "output_type": "stream",
     "text": [
      " 15%|████████████▊                                                                      | 4/26 [00:02<00:11,  1.84it/s]"
     ]
    },
    {
     "name": "stdout",
     "output_type": "stream",
     "text": [
      "['city', 'parent_category_name', 'user_type']\n"
     ]
    },
    {
     "name": "stderr",
     "output_type": "stream",
     "text": [
      " 19%|███████████████▉                                                                   | 5/26 [00:02<00:12,  1.72it/s]"
     ]
    },
    {
     "name": "stdout",
     "output_type": "stream",
     "text": [
      "['category_name', 'user_type']\n"
     ]
    },
    {
     "name": "stderr",
     "output_type": "stream",
     "text": [
      " 23%|███████████████████▏                                                               | 6/26 [00:03<00:11,  1.71it/s]"
     ]
    },
    {
     "name": "stdout",
     "output_type": "stream",
     "text": [
      "['parent_category_name', 'category_name']\n"
     ]
    },
    {
     "name": "stderr",
     "output_type": "stream",
     "text": [
      " 27%|██████████████████████▎                                                            | 7/26 [00:04<00:11,  1.71it/s]"
     ]
    },
    {
     "name": "stdout",
     "output_type": "stream",
     "text": [
      "['region', 'user_type']\n"
     ]
    },
    {
     "name": "stderr",
     "output_type": "stream",
     "text": [
      " 31%|█████████████████████████▌                                                         | 8/26 [00:04<00:10,  1.70it/s]"
     ]
    },
    {
     "name": "stdout",
     "output_type": "stream",
     "text": [
      "['city']\n"
     ]
    },
    {
     "name": "stderr",
     "output_type": "stream",
     "text": [
      " 35%|████████████████████████████▋                                                      | 9/26 [00:05<00:09,  1.72it/s]"
     ]
    },
    {
     "name": "stdout",
     "output_type": "stream",
     "text": [
      "['user_type']\n"
     ]
    },
    {
     "name": "stderr",
     "output_type": "stream",
     "text": [
      " 38%|███████████████████████████████▌                                                  | 10/26 [00:05<00:09,  1.73it/s]"
     ]
    },
    {
     "name": "stdout",
     "output_type": "stream",
     "text": [
      "['parent_category_name', 'param_1']\n"
     ]
    },
    {
     "name": "stderr",
     "output_type": "stream",
     "text": [
      " 42%|██████████████████████████████████▋                                               | 11/26 [00:06<00:08,  1.71it/s]"
     ]
    },
    {
     "name": "stdout",
     "output_type": "stream",
     "text": [
      "['param_1']\n"
     ]
    },
    {
     "name": "stderr",
     "output_type": "stream",
     "text": [
      " 46%|█████████████████████████████████████▊                                            | 12/26 [00:07<00:08,  1.71it/s]"
     ]
    },
    {
     "name": "stdout",
     "output_type": "stream",
     "text": [
      "['category_name', 'weekofday']\n"
     ]
    },
    {
     "name": "stderr",
     "output_type": "stream",
     "text": [
      " 50%|█████████████████████████████████████████                                         | 13/26 [00:07<00:07,  1.64it/s]"
     ]
    },
    {
     "name": "stdout",
     "output_type": "stream",
     "text": [
      "['user_type', 'weekofday']\n"
     ]
    },
    {
     "name": "stderr",
     "output_type": "stream",
     "text": [
      " 54%|████████████████████████████████████████████▏                                     | 14/26 [00:08<00:07,  1.60it/s]"
     ]
    },
    {
     "name": "stdout",
     "output_type": "stream",
     "text": [
      "['city', 'user_type']\n"
     ]
    },
    {
     "name": "stderr",
     "output_type": "stream",
     "text": [
      " 58%|███████████████████████████████████████████████▎                                  | 15/26 [00:09<00:06,  1.58it/s]"
     ]
    },
    {
     "name": "stdout",
     "output_type": "stream",
     "text": [
      "['city', 'parent_category_name', 'user_type', 'weekofday']\n"
     ]
    },
    {
     "name": "stderr",
     "output_type": "stream",
     "text": [
      " 62%|██████████████████████████████████████████████████▍                               | 16/26 [00:10<00:06,  1.51it/s]"
     ]
    },
    {
     "name": "stdout",
     "output_type": "stream",
     "text": [
      "['category_name', 'param_1']\n"
     ]
    },
    {
     "name": "stderr",
     "output_type": "stream",
     "text": [
      " 65%|█████████████████████████████████████████████████████▌                            | 17/26 [00:11<00:06,  1.49it/s]"
     ]
    },
    {
     "name": "stdout",
     "output_type": "stream",
     "text": [
      "['parent_category_name', 'category_name', 'user_type']\n"
     ]
    },
    {
     "name": "stderr",
     "output_type": "stream",
     "text": [
      " 69%|████████████████████████████████████████████████████████▊                         | 18/26 [00:12<00:05,  1.47it/s]"
     ]
    },
    {
     "name": "stdout",
     "output_type": "stream",
     "text": [
      "['parent_category_name', 'param_123']\n"
     ]
    },
    {
     "name": "stderr",
     "output_type": "stream",
     "text": [
      " 73%|███████████████████████████████████████████████████████████▉                      | 19/26 [00:13<00:04,  1.46it/s]"
     ]
    },
    {
     "name": "stdout",
     "output_type": "stream",
     "text": [
      "['city', 'user_type', 'weekofday']\n"
     ]
    },
    {
     "name": "stderr",
     "output_type": "stream",
     "text": [
      " 77%|███████████████████████████████████████████████████████████████                   | 20/26 [00:14<00:04,  1.41it/s]"
     ]
    },
    {
     "name": "stdout",
     "output_type": "stream",
     "text": [
      "['city', 'category_name', 'user_type', 'weekofday']\n"
     ]
    },
    {
     "name": "stderr",
     "output_type": "stream",
     "text": [
      " 81%|██████████████████████████████████████████████████████████████████▏               | 21/26 [00:15<00:03,  1.36it/s]"
     ]
    },
    {
     "name": "stdout",
     "output_type": "stream",
     "text": [
      "['region', 'city', 'user_type']\n"
     ]
    },
    {
     "name": "stderr",
     "output_type": "stream",
     "text": [
      " 85%|█████████████████████████████████████████████████████████████████████▍            | 22/26 [00:16<00:02,  1.34it/s]"
     ]
    },
    {
     "name": "stdout",
     "output_type": "stream",
     "text": [
      "['category_name']\n"
     ]
    },
    {
     "name": "stderr",
     "output_type": "stream",
     "text": [
      " 88%|████████████████████████████████████████████████████████████████████████▌         | 23/26 [00:17<00:02,  1.34it/s]"
     ]
    },
    {
     "name": "stdout",
     "output_type": "stream",
     "text": [
      "['region', 'weekofday']\n"
     ]
    },
    {
     "name": "stderr",
     "output_type": "stream",
     "text": [
      " 92%|███████████████████████████████████████████████████████████████████████████▋      | 24/26 [00:18<00:01,  1.32it/s]"
     ]
    },
    {
     "name": "stdout",
     "output_type": "stream",
     "text": [
      "['city', 'weekofday']\n"
     ]
    },
    {
     "name": "stderr",
     "output_type": "stream",
     "text": [
      " 96%|██████████████████████████████████████████████████████████████████████████████▊   | 25/26 [00:19<00:00,  1.30it/s]"
     ]
    },
    {
     "name": "stdout",
     "output_type": "stream",
     "text": [
      "['parent_category_name', 'user_type']\n"
     ]
    },
    {
     "name": "stderr",
     "output_type": "stream",
     "text": [
      "100%|██████████████████████████████████████████████████████████████████████████████████| 26/26 [00:20<00:00,  1.29it/s]\n"
     ]
    },
    {
     "name": "stdout",
     "output_type": "stream",
     "text": [
      "(2011862, 35)\n",
      "Memory usage of dataframe is 257.10 MB\n",
      "Memory usage after optimization is: 249.43 MB\n",
      "Decreased by 3.0%\n",
      "(1503424, 26)\n",
      "(508438, 26)\n",
      "done\n"
     ]
    },
    {
     "data": {
      "text/plain": [
       "param_123-image_top_1-var                                         1860\n",
       "parent_category_name-image_top_1-var                                 9\n",
       "region-parent_category_name-image_top_1-var                        252\n",
       "region-user_type-weekofday-image_top_1-var                         588\n",
       "city-parent_category_name-user_type-image_top_1-var              13130\n",
       "category_name-user_type-image_top_1-var                            141\n",
       "parent_category_name-category_name-image_top_1-var                  47\n",
       "region-user_type-image_top_1-var                                    84\n",
       "city-image_top_1-var                                              1699\n",
       "user_type-image_top_1-var                                            3\n",
       "parent_category_name-param_1-image_top_1-var                       381\n",
       "param_1-image_top_1-var                                            367\n",
       "category_name-weekofday-image_top_1-var                            329\n",
       "user_type-weekofday-image_top_1-var                                 21\n",
       "city-user_type-image_top_1-var                                    3342\n",
       "city-parent_category_name-user_type-weekofday-image_top_1-var    37459\n",
       "category_name-param_1-image_top_1-var                              439\n",
       "parent_category_name-category_name-user_type-image_top_1-var       141\n",
       "parent_category_name-param_123-image_top_1-var                    1874\n",
       "city-user_type-weekofday-image_top_1-var                         13080\n",
       "city-category_name-user_type-weekofday-image_top_1-var           63166\n",
       "region-city-user_type-image_top_1-var                             3431\n",
       "category_name-image_top_1-var                                       47\n",
       "region-weekofday-image_top_1-var                                   196\n",
       "city-weekofday-image_top_1-var                                    8308\n",
       "parent_category_name-user_type-image_top_1-var                      27\n",
       "dtype: int64"
      ]
     },
     "execution_count": 4,
     "metadata": {},
     "output_type": "execute_result"
    }
   ],
   "source": [
    "with open('./Golden_Imagetop1_var_agg.pickle', 'rb') as f:\n",
    "    agg_list = pickle.load(f)\n",
    "    \n",
    "print(agg_list)\n",
    "target = 'image_top_1'\n",
    "\n",
    "train = pd.read_feather('../features/train/categorical_features_train.feather')\n",
    "test = pd.read_feather('../features/test/categorical_features_test.feather')\n",
    "trainp = pd.read_csv('../input/train.csv', usecols=[target])\n",
    "testp = pd.read_csv('../input/test.csv', usecols=[target])\n",
    "trainp.fillna(0, inplace=True)\n",
    "testp.fillna(0, inplace=True)\n",
    "train = pd.concat([train, trainp], axis=1)\n",
    "test = pd.concat([test, testp], axis=1)\n",
    "del trainp, testp; gc.collect()\n",
    "\n",
    "print(train.shape)\n",
    "print(test.shape)\n",
    "\n",
    "df = pd.concat([train, test])\n",
    "df.drop(nonaggfeats, axis=1, inplace=True)\n",
    "print(df.shape)\n",
    "\n",
    "for cols in tqdm(agg_list):\n",
    "    group_cols = cols[:-1]\n",
    "    assert target == cols[-1]\n",
    "    print(group_cols)\n",
    "    aggname = '-'.join(group_cols+[target]) + '-var'\n",
    "    gp = df[group_cols+[target]].groupby(group_cols)[target].var().rename(aggname).to_frame().reset_index()\n",
    "    df = df.merge(gp, on=group_cols, how='left')\n",
    "    df[aggname] = df[aggname].fillna(0)\n",
    "    df[aggname] = df[aggname].astype('float32')\n",
    "    del gp; gc.collect()\n",
    "\n",
    "print(df.shape)\n",
    "df.head()\n",
    "\n",
    "df = reduce_mem_usage(df)\n",
    "df.drop(aggfeats+[target], axis=1, inplace=True)\n",
    "train = df[:lentrain]\n",
    "test = df[lentrain:lentrain+lentest]\n",
    "\n",
    "train.reset_index(drop=True, inplace=True)\n",
    "test.reset_index(drop=True, inplace=True)\n",
    "\n",
    "print(train.shape)\n",
    "print(test.shape)\n",
    "\n",
    "train.to_feather('../features/train/Agg_Imagetop1_var_Golden_features_train.feather')\n",
    "test.to_feather('../features/test/Agg_Imagetop1_var_Golden_features_test.feather')\n",
    "\n",
    "print('done')\n",
    "train.nunique()"
   ]
  },
  {
   "cell_type": "code",
   "execution_count": 10,
   "metadata": {},
   "outputs": [
    {
     "name": "stdout",
     "output_type": "stream",
     "text": [
      "(1503424, 12)\n",
      "(508438, 12)\n",
      "(2011862, 9)\n"
     ]
    },
    {
     "name": "stderr",
     "output_type": "stream",
     "text": [
      "100%|████████████████████████████████████████████████████████████████████████████████████| 8/8 [00:03<00:00,  2.02it/s]\n"
     ]
    },
    {
     "name": "stdout",
     "output_type": "stream",
     "text": [
      "Memory usage of dataframe is 76.75 MB\n",
      "Memory usage after optimization is: 76.75 MB\n",
      "Decreased by 0.0%\n",
      "(1503424, 8)\n",
      "(508438, 8)\n",
      "save done  1\n",
      "(1503424, 12)\n",
      "(508438, 12)\n",
      "(2011862, 9)\n"
     ]
    },
    {
     "name": "stderr",
     "output_type": "stream",
     "text": [
      "100%|██████████████████████████████████████████████████████████████████████████████████| 28/28 [00:22<00:00,  1.22it/s]\n"
     ]
    },
    {
     "name": "stdout",
     "output_type": "stream",
     "text": [
      "Memory usage of dataframe is 230.24 MB\n",
      "Memory usage after optimization is: 230.24 MB\n",
      "Decreased by 0.0%\n",
      "(1503424, 28)\n",
      "(508438, 28)\n",
      "save done  2\n",
      "(1503424, 12)\n",
      "(508438, 12)\n",
      "(2011862, 9)\n"
     ]
    },
    {
     "name": "stderr",
     "output_type": "stream",
     "text": [
      "100%|██████████████████████████████████████████████████████████████████████████████████| 56/56 [01:06<00:00,  1.19s/it]\n"
     ]
    },
    {
     "name": "stdout",
     "output_type": "stream",
     "text": [
      "Memory usage of dataframe is 445.13 MB\n",
      "Memory usage after optimization is: 445.13 MB\n",
      "Decreased by 0.0%\n",
      "(1503424, 56)\n",
      "(508438, 56)\n",
      "save done  3\n",
      "(1503424, 12)\n",
      "(508438, 12)\n",
      "(2011862, 9)\n"
     ]
    },
    {
     "name": "stderr",
     "output_type": "stream",
     "text": [
      "100%|██████████████████████████████████████████████████████████████████████████████████| 70/70 [01:43<00:00,  1.48s/it]\n"
     ]
    },
    {
     "name": "stdout",
     "output_type": "stream",
     "text": [
      "Memory usage of dataframe is 552.57 MB\n",
      "Memory usage after optimization is: 552.57 MB\n",
      "Decreased by 0.0%\n",
      "(1503424, 70)\n",
      "(508438, 70)\n",
      "save done  4\n"
     ]
    }
   ],
   "source": [
    "target = 'image_top_1'\n",
    "for i in range(1, 5):\n",
    "    train = pd.read_feather('../features/train/categorical_features_train.feather')\n",
    "    test = pd.read_feather('../features/test/categorical_features_test.feather')\n",
    "\n",
    "    trainp = pd.read_csv('../input/train.csv', usecols=[target])\n",
    "    testp = pd.read_csv('../input/test.csv', usecols=[target])\n",
    "    trainp.fillna(-999, inplace=True)\n",
    "    testp.fillna(-999, inplace=True)\n",
    "    train = pd.concat([train, trainp], axis=1)\n",
    "    test = pd.concat([test, testp], axis=1)\n",
    "    del trainp, testp; gc.collect()\n",
    "    print(train.shape)\n",
    "    print(test.shape)\n",
    "\n",
    "    df = pd.concat([train, test])\n",
    "    df.drop(nonaggfeats, axis=1, inplace=True)\n",
    "    del train, test; gc.collect()\n",
    "    print(df.shape)\n",
    "\n",
    "    for comb in tqdm(list(itertools.combinations(aggfeats, i))):\n",
    "        group_cols = list(comb)\n",
    "        aggname = '-'.join(group_cols+[target]) + '-median'\n",
    "        gp = df[group_cols+[target]].groupby(group_cols)[target].median().rename(aggname).to_frame().reset_index()\n",
    "        df = df.merge(gp, on=group_cols, how='left')\n",
    "        df[aggname] = df[aggname].fillna(-999)\n",
    "        df[aggname] = df[aggname].astype('float32')\n",
    "        gc.collect()\n",
    "    df.drop(aggfeats+[target], axis=1, inplace=True)\n",
    "    df = reduce_mem_usage(df)\n",
    "    train = df[:lentrain]\n",
    "    test = df[lentrain:]\n",
    "    train.reset_index(drop=True, inplace=True)\n",
    "    test.reset_index(drop=True, inplace=True)\n",
    "    print(train.shape)\n",
    "    print(test.shape)\n",
    "    train.to_feather('../features/train/Agg_by_imagetop1_median_'+str(i)+'_train.feather')\n",
    "    test.to_feather('../features/test/Agg_by_imagetop1_median_'+str(i)+'_test.feather')\n",
    "    print('save done ',str(i))\n",
    "    del train, test, df; gc.collect()\n"
   ]
  },
  {
   "cell_type": "code",
   "execution_count": 5,
   "metadata": {},
   "outputs": [
    {
     "name": "stdout",
     "output_type": "stream",
     "text": [
      "[['region', 'category_name', 'image_top_1'], ['parent_category_name', 'category_name', 'weekofday', 'image_top_1'], ['category_name', 'weekofday', 'image_top_1'], ['user_type', 'param_1', 'image_top_1'], ['param_1', 'image_top_1'], ['city', 'parent_category_name', 'user_type', 'image_top_1'], ['city', 'user_type', 'weekofday', 'image_top_1'], ['city', 'image_top_1'], ['city', 'weekofday', 'image_top_1'], ['user_type', 'image_top_1'], ['parent_category_name', 'weekofday', 'image_top_1'], ['region', 'city', 'user_type', 'image_top_1'], ['parent_category_name', 'image_top_1'], ['param_123', 'image_top_1'], ['region', 'image_top_1'], ['city', 'user_type', 'image_top_1'], ['region', 'user_type', 'weekofday', 'image_top_1'], ['region', 'user_type', 'image_top_1'], ['city', 'user_type', 'weekofday', 'param_123', 'image_top_1'], ['region', 'city', 'weekofday', 'image_top_1'], ['region', 'parent_category_name', 'image_top_1'], ['category_name', 'image_top_1'], ['city', 'parent_category_name', 'user_type', 'weekofday', 'image_top_1'], ['region', 'city', 'user_type', 'weekofday', 'image_top_1'], ['region', 'weekofday', 'image_top_1'], ['parent_category_name', 'category_name', 'image_top_1'], ['user_type', 'weekofday', 'image_top_1'], ['parent_category_name', 'user_type', 'param_1', 'image_top_1']]\n",
      "(1503424, 12)\n",
      "(508438, 12)\n",
      "(2011862, 9)\n"
     ]
    },
    {
     "name": "stderr",
     "output_type": "stream",
     "text": [
      "  0%|                                                                                           | 0/28 [00:00<?, ?it/s]"
     ]
    },
    {
     "name": "stdout",
     "output_type": "stream",
     "text": [
      "['region', 'category_name']\n"
     ]
    },
    {
     "name": "stderr",
     "output_type": "stream",
     "text": [
      "  4%|██▉                                                                                | 1/28 [00:00<00:13,  1.96it/s]"
     ]
    },
    {
     "name": "stdout",
     "output_type": "stream",
     "text": [
      "['parent_category_name', 'category_name', 'weekofday']\n"
     ]
    },
    {
     "name": "stderr",
     "output_type": "stream",
     "text": [
      "  7%|█████▉                                                                             | 2/28 [00:01<00:16,  1.58it/s]"
     ]
    },
    {
     "name": "stdout",
     "output_type": "stream",
     "text": [
      "['category_name', 'weekofday']\n"
     ]
    },
    {
     "name": "stderr",
     "output_type": "stream",
     "text": [
      " 11%|████████▉                                                                          | 3/28 [00:01<00:16,  1.52it/s]"
     ]
    },
    {
     "name": "stdout",
     "output_type": "stream",
     "text": [
      "['user_type', 'param_1']\n"
     ]
    },
    {
     "name": "stderr",
     "output_type": "stream",
     "text": [
      " 14%|███████████▊                                                                       | 4/28 [00:02<00:15,  1.55it/s]"
     ]
    },
    {
     "name": "stdout",
     "output_type": "stream",
     "text": [
      "['param_1']\n"
     ]
    },
    {
     "name": "stderr",
     "output_type": "stream",
     "text": [
      " 18%|██████████████▊                                                                    | 5/28 [00:03<00:14,  1.63it/s]"
     ]
    },
    {
     "name": "stdout",
     "output_type": "stream",
     "text": [
      "['city', 'parent_category_name', 'user_type']\n"
     ]
    },
    {
     "name": "stderr",
     "output_type": "stream",
     "text": [
      " 21%|█████████████████▊                                                                 | 6/28 [00:03<00:14,  1.57it/s]"
     ]
    },
    {
     "name": "stdout",
     "output_type": "stream",
     "text": [
      "['city', 'user_type', 'weekofday']\n"
     ]
    },
    {
     "name": "stderr",
     "output_type": "stream",
     "text": [
      " 25%|████████████████████▊                                                              | 7/28 [00:04<00:14,  1.48it/s]"
     ]
    },
    {
     "name": "stdout",
     "output_type": "stream",
     "text": [
      "['city']\n"
     ]
    },
    {
     "name": "stderr",
     "output_type": "stream",
     "text": [
      " 29%|███████████████████████▋                                                           | 8/28 [00:05<00:13,  1.51it/s]"
     ]
    },
    {
     "name": "stdout",
     "output_type": "stream",
     "text": [
      "['city', 'weekofday']\n"
     ]
    },
    {
     "name": "stderr",
     "output_type": "stream",
     "text": [
      " 32%|██████████████████████████▋                                                        | 9/28 [00:06<00:13,  1.46it/s]"
     ]
    },
    {
     "name": "stdout",
     "output_type": "stream",
     "text": [
      "['user_type']\n"
     ]
    },
    {
     "name": "stderr",
     "output_type": "stream",
     "text": [
      " 36%|█████████████████████████████▎                                                    | 10/28 [00:06<00:12,  1.50it/s]"
     ]
    },
    {
     "name": "stdout",
     "output_type": "stream",
     "text": [
      "['parent_category_name', 'weekofday']\n"
     ]
    },
    {
     "name": "stderr",
     "output_type": "stream",
     "text": [
      " 39%|████████████████████████████████▏                                                 | 11/28 [00:07<00:11,  1.46it/s]"
     ]
    },
    {
     "name": "stdout",
     "output_type": "stream",
     "text": [
      "['region', 'city', 'user_type']\n"
     ]
    },
    {
     "name": "stderr",
     "output_type": "stream",
     "text": [
      " 43%|███████████████████████████████████▏                                              | 12/28 [00:08<00:11,  1.44it/s]"
     ]
    },
    {
     "name": "stdout",
     "output_type": "stream",
     "text": [
      "['parent_category_name']\n"
     ]
    },
    {
     "name": "stderr",
     "output_type": "stream",
     "text": [
      " 46%|██████████████████████████████████████                                            | 13/28 [00:08<00:10,  1.46it/s]"
     ]
    },
    {
     "name": "stdout",
     "output_type": "stream",
     "text": [
      "['param_123']\n"
     ]
    },
    {
     "name": "stderr",
     "output_type": "stream",
     "text": [
      " 50%|█████████████████████████████████████████                                         | 14/28 [00:09<00:09,  1.46it/s]"
     ]
    },
    {
     "name": "stdout",
     "output_type": "stream",
     "text": [
      "['region']\n"
     ]
    },
    {
     "name": "stderr",
     "output_type": "stream",
     "text": [
      " 54%|███████████████████████████████████████████▉                                      | 15/28 [00:10<00:08,  1.47it/s]"
     ]
    },
    {
     "name": "stdout",
     "output_type": "stream",
     "text": [
      "['city', 'user_type']\n"
     ]
    },
    {
     "name": "stderr",
     "output_type": "stream",
     "text": [
      " 57%|██████████████████████████████████████████████▊                                   | 16/28 [00:11<00:08,  1.45it/s]"
     ]
    },
    {
     "name": "stdout",
     "output_type": "stream",
     "text": [
      "['region', 'user_type', 'weekofday']\n"
     ]
    },
    {
     "name": "stderr",
     "output_type": "stream",
     "text": [
      " 61%|█████████████████████████████████████████████████▊                                | 17/28 [00:12<00:07,  1.41it/s]"
     ]
    },
    {
     "name": "stdout",
     "output_type": "stream",
     "text": [
      "['region', 'user_type']\n"
     ]
    },
    {
     "name": "stderr",
     "output_type": "stream",
     "text": [
      " 64%|████████████████████████████████████████████████████▋                             | 18/28 [00:12<00:07,  1.40it/s]"
     ]
    },
    {
     "name": "stdout",
     "output_type": "stream",
     "text": [
      "['city', 'user_type', 'weekofday', 'param_123']\n"
     ]
    },
    {
     "name": "stderr",
     "output_type": "stream",
     "text": [
      " 68%|███████████████████████████████████████████████████████▋                          | 19/28 [00:14<00:06,  1.30it/s]"
     ]
    },
    {
     "name": "stdout",
     "output_type": "stream",
     "text": [
      "['region', 'city', 'weekofday']\n"
     ]
    },
    {
     "name": "stderr",
     "output_type": "stream",
     "text": [
      " 71%|██████████████████████████████████████████████████████████▌                       | 20/28 [00:15<00:06,  1.27it/s]"
     ]
    },
    {
     "name": "stdout",
     "output_type": "stream",
     "text": [
      "['region', 'parent_category_name']\n"
     ]
    },
    {
     "name": "stderr",
     "output_type": "stream",
     "text": [
      " 75%|█████████████████████████████████████████████████████████████▌                    | 21/28 [00:16<00:05,  1.27it/s]"
     ]
    },
    {
     "name": "stdout",
     "output_type": "stream",
     "text": [
      "['category_name']\n"
     ]
    },
    {
     "name": "stderr",
     "output_type": "stream",
     "text": [
      " 79%|████████████████████████████████████████████████████████████████▍                 | 22/28 [00:17<00:04,  1.28it/s]"
     ]
    },
    {
     "name": "stdout",
     "output_type": "stream",
     "text": [
      "['city', 'parent_category_name', 'user_type', 'weekofday']\n"
     ]
    },
    {
     "name": "stderr",
     "output_type": "stream",
     "text": [
      " 82%|███████████████████████████████████████████████████████████████████▎              | 23/28 [00:18<00:04,  1.24it/s]"
     ]
    },
    {
     "name": "stdout",
     "output_type": "stream",
     "text": [
      "['region', 'city', 'user_type', 'weekofday']\n"
     ]
    },
    {
     "name": "stderr",
     "output_type": "stream",
     "text": [
      " 86%|██████████████████████████████████████████████████████████████████████▎           | 24/28 [00:19<00:03,  1.21it/s]"
     ]
    },
    {
     "name": "stdout",
     "output_type": "stream",
     "text": [
      "['region', 'weekofday']\n"
     ]
    },
    {
     "name": "stderr",
     "output_type": "stream",
     "text": [
      " 89%|█████████████████████████████████████████████████████████████████████████▏        | 25/28 [00:20<00:02,  1.20it/s]"
     ]
    },
    {
     "name": "stdout",
     "output_type": "stream",
     "text": [
      "['parent_category_name', 'category_name']\n"
     ]
    },
    {
     "name": "stderr",
     "output_type": "stream",
     "text": [
      " 93%|████████████████████████████████████████████████████████████████████████████▏     | 26/28 [00:21<00:01,  1.19it/s]"
     ]
    },
    {
     "name": "stdout",
     "output_type": "stream",
     "text": [
      "['user_type', 'weekofday']\n"
     ]
    },
    {
     "name": "stderr",
     "output_type": "stream",
     "text": [
      " 96%|███████████████████████████████████████████████████████████████████████████████   | 27/28 [00:22<00:00,  1.18it/s]"
     ]
    },
    {
     "name": "stdout",
     "output_type": "stream",
     "text": [
      "['parent_category_name', 'user_type', 'param_1']\n"
     ]
    },
    {
     "name": "stderr",
     "output_type": "stream",
     "text": [
      "100%|██████████████████████████████████████████████████████████████████████████████████| 28/28 [00:23<00:00,  1.17it/s]\n"
     ]
    },
    {
     "name": "stdout",
     "output_type": "stream",
     "text": [
      "(2011862, 37)\n",
      "Memory usage of dataframe is 272.45 MB\n",
      "Memory usage after optimization is: 264.78 MB\n",
      "Decreased by 2.8%\n",
      "(1503424, 28)\n",
      "(508438, 28)\n",
      "done\n"
     ]
    },
    {
     "data": {
      "text/plain": [
       "region-category_name-image_top_1-median                              422\n",
       "parent_category_name-category_name-weekofday-image_top_1-median      128\n",
       "category_name-weekofday-image_top_1-median                           128\n",
       "user_type-param_1-image_top_1-median                                 534\n",
       "param_1-image_top_1-median                                           330\n",
       "city-parent_category_name-user_type-image_top_1-median              3565\n",
       "city-user_type-weekofday-image_top_1-median                         3507\n",
       "city-image_top_1-median                                              801\n",
       "city-weekofday-image_top_1-median                                   2575\n",
       "user_type-image_top_1-median                                           3\n",
       "parent_category_name-weekofday-image_top_1-median                     36\n",
       "region-city-user_type-image_top_1-median                            1491\n",
       "parent_category_name-image_top_1-median                                9\n",
       "param_123-image_top_1-median                                         653\n",
       "region-image_top_1-median                                             28\n",
       "city-user_type-image_top_1-median                                   1461\n",
       "region-user_type-weekofday-image_top_1-median                        338\n",
       "region-user_type-image_top_1-median                                   69\n",
       "city-user_type-weekofday-param_123-image_top_1-median               6052\n",
       "region-city-weekofday-image_top_1-median                            2637\n",
       "region-parent_category_name-image_top_1-median                       123\n",
       "category_name-image_top_1-median                                      46\n",
       "city-parent_category_name-user_type-weekofday-image_top_1-median    5251\n",
       "region-city-user_type-weekofday-image_top_1-median                  3543\n",
       "region-weekofday-image_top_1-median                                  130\n",
       "parent_category_name-category_name-image_top_1-median                 46\n",
       "user_type-weekofday-image_top_1-median                                20\n",
       "parent_category_name-user_type-param_1-image_top_1-median            564\n",
       "dtype: int64"
      ]
     },
     "execution_count": 5,
     "metadata": {},
     "output_type": "execute_result"
    }
   ],
   "source": [
    "with open('./Golden_Imagetop1_median_agg.pickle', 'rb') as f:\n",
    "    agg_list = pickle.load(f)\n",
    "    \n",
    "print(agg_list)\n",
    "target = 'image_top_1'\n",
    "\n",
    "train = pd.read_feather('../features/train/categorical_features_train.feather')\n",
    "test = pd.read_feather('../features/test/categorical_features_test.feather')\n",
    "trainp = pd.read_csv('../input/train.csv', usecols=[target])\n",
    "testp = pd.read_csv('../input/test.csv', usecols=[target])\n",
    "trainp.fillna(0, inplace=True)\n",
    "testp.fillna(0, inplace=True)\n",
    "train = pd.concat([train, trainp], axis=1)\n",
    "test = pd.concat([test, testp], axis=1)\n",
    "del trainp, testp; gc.collect()\n",
    "\n",
    "print(train.shape)\n",
    "print(test.shape)\n",
    "\n",
    "df = pd.concat([train, test])\n",
    "df.drop(nonaggfeats, axis=1, inplace=True)\n",
    "print(df.shape)\n",
    "\n",
    "for cols in tqdm(agg_list):\n",
    "    group_cols = cols[:-1]\n",
    "    assert target == cols[-1]\n",
    "    print(group_cols)\n",
    "    aggname = '-'.join(group_cols+[target]) + '-median'\n",
    "    gp = df[group_cols+[target]].groupby(group_cols)[target].median().rename(aggname).to_frame().reset_index()\n",
    "    df = df.merge(gp, on=group_cols, how='left')\n",
    "    df[aggname] = df[aggname].fillna(0)\n",
    "    df[aggname] = df[aggname].astype('float32')\n",
    "    del gp; gc.collect()\n",
    "\n",
    "print(df.shape)\n",
    "df.head()\n",
    "\n",
    "df = reduce_mem_usage(df)\n",
    "df.drop(aggfeats+[target], axis=1, inplace=True)\n",
    "train = df[:lentrain]\n",
    "test = df[lentrain:lentrain+lentest]\n",
    "\n",
    "train.reset_index(drop=True, inplace=True)\n",
    "test.reset_index(drop=True, inplace=True)\n",
    "\n",
    "print(train.shape)\n",
    "print(test.shape)\n",
    "\n",
    "train.to_feather('../features/train/Agg_Imagetop1_median_Golden_features_train.feather')\n",
    "test.to_feather('../features/test/Agg_Imagetop1_median_Golden_features_test.feather')\n",
    "\n",
    "print('done')\n",
    "train.nunique()"
   ]
  },
  {
   "cell_type": "code",
   "execution_count": 12,
   "metadata": {},
   "outputs": [
    {
     "name": "stdout",
     "output_type": "stream",
     "text": [
      "(1503424, 12)\n",
      "(508438, 12)\n",
      "(2011862, 9)\n"
     ]
    },
    {
     "name": "stderr",
     "output_type": "stream",
     "text": [
      "100%|████████████████████████████████████████████████████████████████████████████████████| 8/8 [00:03<00:00,  2.01it/s]\n"
     ]
    },
    {
     "name": "stdout",
     "output_type": "stream",
     "text": [
      "Memory usage of dataframe is 76.75 MB\n",
      "Memory usage after optimization is: 76.75 MB\n",
      "Decreased by 0.0%\n",
      "(1503424, 8)\n",
      "(508438, 8)\n",
      "save done  1\n",
      "(1503424, 12)\n",
      "(508438, 12)\n",
      "(2011862, 9)\n"
     ]
    },
    {
     "name": "stderr",
     "output_type": "stream",
     "text": [
      "100%|██████████████████████████████████████████████████████████████████████████████████| 28/28 [00:22<00:00,  1.26it/s]\n"
     ]
    },
    {
     "name": "stdout",
     "output_type": "stream",
     "text": [
      "Memory usage of dataframe is 230.24 MB\n",
      "Memory usage after optimization is: 230.24 MB\n",
      "Decreased by 0.0%\n",
      "(1503424, 28)\n",
      "(508438, 28)\n",
      "save done  2\n",
      "(1503424, 12)\n",
      "(508438, 12)\n",
      "(2011862, 9)\n"
     ]
    },
    {
     "name": "stderr",
     "output_type": "stream",
     "text": [
      "100%|██████████████████████████████████████████████████████████████████████████████████| 56/56 [01:04<00:00,  1.15s/it]\n"
     ]
    },
    {
     "name": "stdout",
     "output_type": "stream",
     "text": [
      "Memory usage of dataframe is 445.13 MB\n",
      "Memory usage after optimization is: 445.13 MB\n",
      "Decreased by 0.0%\n",
      "(1503424, 56)\n",
      "(508438, 56)\n",
      "save done  3\n",
      "(1503424, 12)\n",
      "(508438, 12)\n",
      "(2011862, 9)\n"
     ]
    },
    {
     "name": "stderr",
     "output_type": "stream",
     "text": [
      "100%|██████████████████████████████████████████████████████████████████████████████████| 70/70 [01:38<00:00,  1.41s/it]\n"
     ]
    },
    {
     "name": "stdout",
     "output_type": "stream",
     "text": [
      "Memory usage of dataframe is 552.57 MB\n",
      "Memory usage after optimization is: 552.57 MB\n",
      "Decreased by 0.0%\n",
      "(1503424, 70)\n",
      "(508438, 70)\n",
      "save done  4\n"
     ]
    }
   ],
   "source": [
    "target = 'item_seq_number'\n",
    "for i in range(1, 5):\n",
    "    train = pd.read_feather('../features/train/categorical_features_train.feather')\n",
    "    test = pd.read_feather('../features/test/categorical_features_test.feather')\n",
    "\n",
    "    trainp = pd.read_csv('../input/train.csv', usecols=[target])\n",
    "    testp = pd.read_csv('../input/test.csv', usecols=[target])\n",
    "    trainp.fillna(trainp.mean(), inplace=True)\n",
    "    testp.fillna(testp.mean(), inplace=True)\n",
    "    train = pd.concat([train, trainp], axis=1)\n",
    "    test = pd.concat([test, testp], axis=1)\n",
    "    del trainp, testp; gc.collect()\n",
    "    print(train.shape)\n",
    "    print(test.shape)\n",
    "\n",
    "    df = pd.concat([train, test])\n",
    "    df.drop(nonaggfeats, axis=1, inplace=True)\n",
    "    del train, test; gc.collect()\n",
    "    print(df.shape)\n",
    "\n",
    "    for comb in tqdm(list(itertools.combinations(aggfeats, i))):\n",
    "        group_cols = list(comb)\n",
    "        aggname = '-'.join(group_cols+[target]) + '-mean'\n",
    "        gp = df[group_cols+[target]].groupby(group_cols)[target].mean().rename(aggname).to_frame().reset_index()\n",
    "        df = df.merge(gp, on=group_cols, how='left')\n",
    "        df[aggname] = df[aggname].fillna(df[aggname].mean())\n",
    "        df[aggname] = df[aggname].astype('float32')\n",
    "        gc.collect()\n",
    "    df.drop(aggfeats+[target], axis=1, inplace=True)\n",
    "    df = reduce_mem_usage(df)\n",
    "    train = df[:lentrain]\n",
    "    test = df[lentrain:]\n",
    "    train.reset_index(drop=True, inplace=True)\n",
    "    test.reset_index(drop=True, inplace=True)\n",
    "    print(train.shape)\n",
    "    print(test.shape)\n",
    "    train.to_feather('../features/train/Agg_by_Itemseq_mean_'+str(i)+'_train.feather')\n",
    "    test.to_feather('../features/test/Agg_by_Itemseq_mean_'+str(i)+'_test.feather')\n",
    "    print('save done ',str(i))\n",
    "    del train, test, df; gc.collect()\n",
    "    "
   ]
  },
  {
   "cell_type": "code",
   "execution_count": null,
   "metadata": {},
   "outputs": [],
   "source": [
    "with open('./Golden_Itemseq_mean_agg.pickle', 'rb') as f:\n",
    "    agg_list = pickle.load(f)\n",
    "    \n",
    "print(agg_list)\n",
    "target = 'item_seq_number'\n",
    "\n",
    "train = pd.read_feather('../features/train/categorical_features_train.feather')\n",
    "test = pd.read_feather('../features/test/categorical_features_test.feather')\n",
    "trainp = pd.read_csv('../input/train.csv', usecols=[target])\n",
    "testp = pd.read_csv('../input/test.csv', usecols=[target])\n",
    "trainp.fillna(trainp.mean(), inplace=True)\n",
    "testp.fillna(testp.mean(), inplace=True)\n",
    "train = pd.concat([train, trainp], axis=1)\n",
    "test = pd.concat([test, testp], axis=1)\n",
    "del trainp, testp; gc.collect()\n",
    "\n",
    "train_active = pd.read_feather('../features/train_active/categorical_features_train_active.feather')\n",
    "test_active = pd.read_feather('../features/test_active/categorical_features_test_active.feather')\n",
    "trainap = pd.read_csv('../input/train_active.csv', usecols=[target])\n",
    "testap = pd.read_csv('../input/test_active.csv', usecols=[target])\n",
    "trainap.fillna(trainap.mean(), inplace=True)\n",
    "testap.fillna(testap.mean(), inplace=True)\n",
    "train_active = pd.concat([train_active, trainap], axis=1)\n",
    "test_active = pd.concat([test_active, testap], axis=1)\n",
    "del trainap, testap; gc.collect()\n",
    "\n",
    "print(train.shape)\n",
    "print(test.shape)\n",
    "print(train_active.shape)\n",
    "print(test_active.shape)\n",
    "\n",
    "df = pd.concat([train, test, train_active, test_active])\n",
    "df.drop(nonaggfeats, axis=1, inplace=True)\n",
    "print(df.shape)\n",
    "\n",
    "for cols in tqdm(agg_list):\n",
    "    group_cols = cols[:-1]\n",
    "    assert target == cols[-1]\n",
    "    print(group_cols)\n",
    "    aggname = '-'.join(group_cols+[target]) + '-mean'\n",
    "    gp = df[group_cols+[target]].groupby(group_cols)[target].mean().rename(aggname).to_frame().reset_index()\n",
    "    df = df.merge(gp, on=group_cols, how='left')\n",
    "    df[aggname] = df[aggname].fillna(df[aggname].mean())\n",
    "    df[aggname] = df[aggname].astype('float32')\n",
    "    del gp; gc.collect()\n",
    "\n",
    "print(df.shape)\n",
    "df.head()\n",
    "\n",
    "df = reduce_mem_usage(df)\n",
    "df.drop(aggfeats+[target], axis=1, inplace=True)\n",
    "train = df[:lentrain]\n",
    "test = df[lentrain:lentrain+lentest]\n",
    "train_active = df[lentrain+lentest: lentrain+lentest+lentrainactive]\n",
    "test_active = df[lentrain+lentest+lentrainactive: lentrain+lentest+lentrainactive+lentestactive]\n",
    "\n",
    "train.reset_index(drop=True, inplace=True)\n",
    "test.reset_index(drop=True, inplace=True)\n",
    "train_active.reset_index(drop=True, inplace=True)\n",
    "test_active.reset_index(drop=True, inplace=True)\n",
    "\n",
    "print(train.shape)\n",
    "print(test.shape)\n",
    "print(train_active.shape)\n",
    "print(test_active.shape)\n",
    "\n",
    "train.to_feather('../features/train/Agg_Itemseq_mean_Golden_features_train.feather')\n",
    "test.to_feather('../features/test/Agg_Itemseq_mean_Golden_features_test.feather')\n",
    "train_active.to_feather('../features/train_active/Agg_Itemseq_mean_Golden_features_train_active.feather')\n",
    "test_active.to_feather('../features/test_active/Agg_Itemseq_mean_Golden_features_test_active.feather')\n",
    "\n",
    "print('done')\n",
    "train.nunique()"
   ]
  },
  {
   "cell_type": "code",
   "execution_count": 14,
   "metadata": {},
   "outputs": [
    {
     "name": "stdout",
     "output_type": "stream",
     "text": [
      "(1503424, 12)\n",
      "(508438, 12)\n",
      "(2011862, 9)\n"
     ]
    },
    {
     "name": "stderr",
     "output_type": "stream",
     "text": [
      "100%|████████████████████████████████████████████████████████████████████████████████████| 8/8 [00:03<00:00,  2.09it/s]\n"
     ]
    },
    {
     "name": "stdout",
     "output_type": "stream",
     "text": [
      "Memory usage of dataframe is 76.75 MB\n",
      "Memory usage after optimization is: 76.75 MB\n",
      "Decreased by 0.0%\n",
      "(1503424, 8)\n",
      "(508438, 8)\n",
      "save done  1\n",
      "(1503424, 12)\n",
      "(508438, 12)\n",
      "(2011862, 9)\n"
     ]
    },
    {
     "name": "stderr",
     "output_type": "stream",
     "text": [
      "100%|██████████████████████████████████████████████████████████████████████████████████| 28/28 [00:21<00:00,  1.29it/s]\n"
     ]
    },
    {
     "name": "stdout",
     "output_type": "stream",
     "text": [
      "Memory usage of dataframe is 230.24 MB\n",
      "Memory usage after optimization is: 230.24 MB\n",
      "Decreased by 0.0%\n",
      "(1503424, 28)\n",
      "(508438, 28)\n",
      "save done  2\n",
      "(1503424, 12)\n",
      "(508438, 12)\n",
      "(2011862, 9)\n"
     ]
    },
    {
     "name": "stderr",
     "output_type": "stream",
     "text": [
      "100%|██████████████████████████████████████████████████████████████████████████████████| 56/56 [01:04<00:00,  1.14s/it]\n"
     ]
    },
    {
     "name": "stdout",
     "output_type": "stream",
     "text": [
      "Memory usage of dataframe is 445.13 MB\n",
      "Memory usage after optimization is: 445.13 MB\n",
      "Decreased by 0.0%\n",
      "(1503424, 56)\n",
      "(508438, 56)\n",
      "save done  3\n",
      "(1503424, 12)\n",
      "(508438, 12)\n",
      "(2011862, 9)\n"
     ]
    },
    {
     "name": "stderr",
     "output_type": "stream",
     "text": [
      "100%|██████████████████████████████████████████████████████████████████████████████████| 70/70 [01:39<00:00,  1.42s/it]\n"
     ]
    },
    {
     "name": "stdout",
     "output_type": "stream",
     "text": [
      "Memory usage of dataframe is 552.57 MB\n",
      "Memory usage after optimization is: 552.57 MB\n",
      "Decreased by 0.0%\n",
      "(1503424, 70)\n",
      "(508438, 70)\n",
      "save done  4\n"
     ]
    }
   ],
   "source": [
    "target = 'item_seq_number'\n",
    "for i in range(1, 5):\n",
    "    train = pd.read_feather('../features/train/categorical_features_train.feather')\n",
    "    test = pd.read_feather('../features/test/categorical_features_test.feather')\n",
    "\n",
    "    trainp = pd.read_csv('../input/train.csv', usecols=[target])\n",
    "    testp = pd.read_csv('../input/test.csv', usecols=[target])\n",
    "    trainp.fillna(trainp.mean(), inplace=True)\n",
    "    testp.fillna(testp.mean(), inplace=True)\n",
    "    train = pd.concat([train, trainp], axis=1)\n",
    "    test = pd.concat([test, testp], axis=1)\n",
    "    del trainp, testp; gc.collect()\n",
    "    print(train.shape)\n",
    "    print(test.shape)\n",
    "\n",
    "    df = pd.concat([train, test])\n",
    "    df.drop(nonaggfeats, axis=1, inplace=True)\n",
    "    del train, test; gc.collect()\n",
    "    print(df.shape)\n",
    "\n",
    "    for comb in tqdm(list(itertools.combinations(aggfeats, i))):\n",
    "        group_cols = list(comb)\n",
    "        aggname = '-'.join(group_cols+[target]) + '-var'\n",
    "        gp = df[group_cols+[target]].groupby(group_cols)[target].var().rename(aggname).to_frame().reset_index()\n",
    "        df = df.merge(gp, on=group_cols, how='left')\n",
    "        df[aggname] = df[aggname].fillna(df[aggname].mean())\n",
    "        df[aggname] = df[aggname].astype('float32')\n",
    "        gc.collect()\n",
    "    df.drop(aggfeats+[target], axis=1, inplace=True)\n",
    "    df = reduce_mem_usage(df)\n",
    "    train = df[:lentrain]\n",
    "    test = df[lentrain:]\n",
    "    train.reset_index(drop=True, inplace=True)\n",
    "    test.reset_index(drop=True, inplace=True)\n",
    "    print(train.shape)\n",
    "    print(test.shape)\n",
    "    train.to_feather('../features/train/Agg_by_Itemseq_var_'+str(i)+'_train.feather')\n",
    "    test.to_feather('../features/test/Agg_by_Itemseq_var_'+str(i)+'_test.feather')\n",
    "    print('save done ',str(i))\n",
    "    del train, test, df; gc.collect()\n",
    "    "
   ]
  },
  {
   "cell_type": "code",
   "execution_count": null,
   "metadata": {},
   "outputs": [],
   "source": [
    "with open('./Golden_Itemseq_var_agg.pickle', 'rb') as f:\n",
    "    agg_list = pickle.load(f)\n",
    "    \n",
    "print(agg_list)\n",
    "target = 'item_seq_number'\n",
    "\n",
    "train = pd.read_feather('../features/train/categorical_features_train.feather')\n",
    "test = pd.read_feather('../features/test/categorical_features_test.feather')\n",
    "trainp = pd.read_csv('../input/train.csv', usecols=[target])\n",
    "testp = pd.read_csv('../input/test.csv', usecols=[target])\n",
    "trainp.fillna(trainp.mean(), inplace=True)\n",
    "testp.fillna(testp.mean(), inplace=True)\n",
    "train = pd.concat([train, trainp], axis=1)\n",
    "test = pd.concat([test, testp], axis=1)\n",
    "del trainp, testp; gc.collect()\n",
    "\n",
    "train_active = pd.read_feather('../features/train_active/categorical_features_train_active.feather')\n",
    "test_active = pd.read_feather('../features/test_active/categorical_features_test_active.feather')\n",
    "trainap = pd.read_csv('../input/train_active.csv', usecols=[target])\n",
    "testap = pd.read_csv('../input/test_active.csv', usecols=[target])\n",
    "trainap.fillna(trainap.mean(), inplace=True)\n",
    "testap.fillna(testap.mean(), inplace=True)\n",
    "train_active = pd.concat([train_active, trainap], axis=1)\n",
    "test_active = pd.concat([test_active, testap], axis=1)\n",
    "del trainap, testap; gc.collect()\n",
    "\n",
    "print(train.shape)\n",
    "print(test.shape)\n",
    "print(train_active.shape)\n",
    "print(test_active.shape)\n",
    "\n",
    "df = pd.concat([train, test, train_active, test_active])\n",
    "df.drop(nonaggfeats, axis=1, inplace=True)\n",
    "print(df.shape)\n",
    "\n",
    "for cols in tqdm(agg_list):\n",
    "    group_cols = cols[:-1]\n",
    "    assert target == cols[-1]\n",
    "    print(group_cols)\n",
    "    aggname = '-'.join(group_cols+[target]) + '-var'\n",
    "    gp = df[group_cols+[target]].groupby(group_cols)[target].var().rename(aggname).to_frame().reset_index()\n",
    "    df = df.merge(gp, on=group_cols, how='left')\n",
    "    df[aggname] = df[aggname].fillna(df[aggname].mean())\n",
    "    df[aggname] = df[aggname].astype('float32')\n",
    "    del gp; gc.collect()\n",
    "\n",
    "print(df.shape)\n",
    "df.head()\n",
    "\n",
    "df = reduce_mem_usage(df)\n",
    "df.drop(aggfeats+[target], axis=1, inplace=True)\n",
    "train = df[:lentrain]\n",
    "test = df[lentrain:lentrain+lentest]\n",
    "train_active = df[lentrain+lentest: lentrain+lentest+lentrainactive]\n",
    "test_active = df[lentrain+lentest+lentrainactive: lentrain+lentest+lentrainactive+lentestactive]\n",
    "\n",
    "train.reset_index(drop=True, inplace=True)\n",
    "test.reset_index(drop=True, inplace=True)\n",
    "train_active.reset_index(drop=True, inplace=True)\n",
    "test_active.reset_index(drop=True, inplace=True)\n",
    "\n",
    "print(train.shape)\n",
    "print(test.shape)\n",
    "print(train_active.shape)\n",
    "print(test_active.shape)\n",
    "\n",
    "train.to_feather('../features/train/Agg_Itemseq_var_Golden_features_train.feather')\n",
    "test.to_feather('../features/test/Agg_Itemseq_var_Golden_features_test.feather')\n",
    "train_active.to_feather('../features/train_active/Agg_Itemseq_var_Golden_features_train_active.feather')\n",
    "test_active.to_feather('../features/test_active/Agg_Itemseq_var_Golden_features_test_active.feather')\n",
    "\n",
    "print('done')\n",
    "train.nunique()"
   ]
  },
  {
   "cell_type": "code",
   "execution_count": 16,
   "metadata": {},
   "outputs": [
    {
     "name": "stdout",
     "output_type": "stream",
     "text": [
      "(1503424, 12)\n",
      "(508438, 12)\n",
      "(2011862, 9)\n"
     ]
    },
    {
     "name": "stderr",
     "output_type": "stream",
     "text": [
      "100%|████████████████████████████████████████████████████████████████████████████████████| 8/8 [00:04<00:00,  1.84it/s]\n"
     ]
    },
    {
     "name": "stdout",
     "output_type": "stream",
     "text": [
      "Memory usage of dataframe is 76.75 MB\n",
      "Memory usage after optimization is: 76.75 MB\n",
      "Decreased by 0.0%\n",
      "(1503424, 8)\n",
      "(508438, 8)\n",
      "save done  1\n",
      "(1503424, 12)\n",
      "(508438, 12)\n",
      "(2011862, 9)\n"
     ]
    },
    {
     "name": "stderr",
     "output_type": "stream",
     "text": [
      "100%|██████████████████████████████████████████████████████████████████████████████████| 28/28 [00:23<00:00,  1.17it/s]\n"
     ]
    },
    {
     "name": "stdout",
     "output_type": "stream",
     "text": [
      "Memory usage of dataframe is 230.24 MB\n",
      "Memory usage after optimization is: 230.24 MB\n",
      "Decreased by 0.0%\n",
      "(1503424, 28)\n",
      "(508438, 28)\n",
      "save done  2\n",
      "(1503424, 12)\n",
      "(508438, 12)\n",
      "(2011862, 9)\n"
     ]
    },
    {
     "name": "stderr",
     "output_type": "stream",
     "text": [
      "100%|██████████████████████████████████████████████████████████████████████████████████| 56/56 [01:05<00:00,  1.17s/it]\n"
     ]
    },
    {
     "name": "stdout",
     "output_type": "stream",
     "text": [
      "Memory usage of dataframe is 445.13 MB\n",
      "Memory usage after optimization is: 445.13 MB\n",
      "Decreased by 0.0%\n",
      "(1503424, 56)\n",
      "(508438, 56)\n",
      "save done  3\n",
      "(1503424, 12)\n",
      "(508438, 12)\n",
      "(2011862, 9)\n"
     ]
    },
    {
     "name": "stderr",
     "output_type": "stream",
     "text": [
      "100%|██████████████████████████████████████████████████████████████████████████████████| 70/70 [01:40<00:00,  1.43s/it]\n"
     ]
    },
    {
     "name": "stdout",
     "output_type": "stream",
     "text": [
      "Memory usage of dataframe is 552.57 MB\n",
      "Memory usage after optimization is: 552.57 MB\n",
      "Decreased by 0.0%\n",
      "(1503424, 70)\n",
      "(508438, 70)\n",
      "save done  4\n"
     ]
    }
   ],
   "source": [
    "target = 'item_seq_number'\n",
    "for i in range(1, 5):\n",
    "    train = pd.read_feather('../features/train/categorical_features_train.feather')\n",
    "    test = pd.read_feather('../features/test/categorical_features_test.feather')\n",
    "\n",
    "    trainp = pd.read_csv('../input/train.csv', usecols=[target])\n",
    "    testp = pd.read_csv('../input/test.csv', usecols=[target])\n",
    "    trainp.fillna(trainp.mean(), inplace=True)\n",
    "    testp.fillna(testp.mean(), inplace=True)\n",
    "    train = pd.concat([train, trainp], axis=1)\n",
    "    test = pd.concat([test, testp], axis=1)\n",
    "    del trainp, testp; gc.collect()\n",
    "    print(train.shape)\n",
    "    print(test.shape)\n",
    "\n",
    "    df = pd.concat([train, test])\n",
    "    df.drop(nonaggfeats, axis=1, inplace=True)\n",
    "    del train, test; gc.collect()\n",
    "    print(df.shape)\n",
    "\n",
    "    for comb in tqdm(list(itertools.combinations(aggfeats, i))):\n",
    "        group_cols = list(comb)\n",
    "        aggname = '-'.join(group_cols+[target]) + '-median'\n",
    "        gp = df[group_cols+[target]].groupby(group_cols)[target].median().rename(aggname).to_frame().reset_index()\n",
    "        df = df.merge(gp, on=group_cols, how='left')\n",
    "        df[aggname] = df[aggname].fillna(df[aggname].mean())\n",
    "        df[aggname] = df[aggname].astype('float32')\n",
    "        gc.collect()\n",
    "    df.drop(aggfeats+[target], axis=1, inplace=True)\n",
    "    df = reduce_mem_usage(df)\n",
    "    train = df[:lentrain]\n",
    "    test = df[lentrain:]\n",
    "    train.reset_index(drop=True, inplace=True)\n",
    "    test.reset_index(drop=True, inplace=True)\n",
    "    print(train.shape)\n",
    "    print(test.shape)\n",
    "    train.to_feather('../features/train/Agg_by_Itemseq_median_'+str(i)+'_train.feather')\n",
    "    test.to_feather('../features/test/Agg_by_Itemseq_median_'+str(i)+'_test.feather')\n",
    "    print('save done ',str(i))\n",
    "    del train, test, df; gc.collect()\n",
    "    "
   ]
  },
  {
   "cell_type": "code",
   "execution_count": null,
   "metadata": {},
   "outputs": [],
   "source": [
    "with open('./Golden_Itemseq_median_agg.pickle', 'rb') as f:\n",
    "    agg_list = pickle.load(f)\n",
    "    \n",
    "print(agg_list)\n",
    "target = 'item_seq_number'\n",
    "\n",
    "train = pd.read_feather('../features/train/categorical_features_train.feather')\n",
    "test = pd.read_feather('../features/test/categorical_features_test.feather')\n",
    "trainp = pd.read_csv('../input/train.csv', usecols=[target])\n",
    "testp = pd.read_csv('../input/test.csv', usecols=[target])\n",
    "trainp.fillna(trainp.mean(), inplace=True)\n",
    "testp.fillna(testp.mean(), inplace=True)\n",
    "train = pd.concat([train, trainp], axis=1)\n",
    "test = pd.concat([test, testp], axis=1)\n",
    "del trainp, testp; gc.collect()\n",
    "\n",
    "train_active = pd.read_feather('../features/train_active/categorical_features_train_active.feather')\n",
    "test_active = pd.read_feather('../features/test_active/categorical_features_test_active.feather')\n",
    "trainap = pd.read_csv('../input/train_active.csv', usecols=[target])\n",
    "testap = pd.read_csv('../input/test_active.csv', usecols=[target])\n",
    "trainap.fillna(trainap.mean(), inplace=True)\n",
    "testap.fillna(testap.mean(), inplace=True)\n",
    "train_active = pd.concat([train_active, trainap], axis=1)\n",
    "test_active = pd.concat([test_active, testap], axis=1)\n",
    "del trainap, testap; gc.collect()\n",
    "\n",
    "print(train.shape)\n",
    "print(test.shape)\n",
    "print(train_active.shape)\n",
    "print(test_active.shape)\n",
    "\n",
    "df = pd.concat([train, test, train_active, test_active])\n",
    "df.drop(nonaggfeats, axis=1, inplace=True)\n",
    "print(df.shape)\n",
    "\n",
    "for cols in tqdm(agg_list):\n",
    "    group_cols = cols[:-1]\n",
    "    assert target == cols[-1]\n",
    "    print(group_cols)\n",
    "    aggname = '-'.join(group_cols+[target]) + '-median'\n",
    "    gp = df[group_cols+[target]].groupby(group_cols)[target].median().rename(aggname).to_frame().reset_index()\n",
    "    df = df.merge(gp, on=group_cols, how='left')\n",
    "    df[aggname] = df[aggname].fillna(df[aggname].mean())\n",
    "    df[aggname] = df[aggname].astype('float32')\n",
    "    del gp; gc.collect()\n",
    "\n",
    "print(df.shape)\n",
    "df.head()\n",
    "\n",
    "df = reduce_mem_usage(df)\n",
    "df.drop(aggfeats+[target], axis=1, inplace=True)\n",
    "train = df[:lentrain]\n",
    "test = df[lentrain:lentrain+lentest]\n",
    "train_active = df[lentrain+lentest: lentrain+lentest+lentrainactive]\n",
    "test_active = df[lentrain+lentest+lentrainactive: lentrain+lentest+lentrainactive+lentestactive]\n",
    "\n",
    "train.reset_index(drop=True, inplace=True)\n",
    "test.reset_index(drop=True, inplace=True)\n",
    "train_active.reset_index(drop=True, inplace=True)\n",
    "test_active.reset_index(drop=True, inplace=True)\n",
    "\n",
    "print(train.shape)\n",
    "print(test.shape)\n",
    "print(train_active.shape)\n",
    "print(test_active.shape)\n",
    "\n",
    "train.to_feather('../features/train/Agg_Itemseq_median_Golden_features_train.feather')\n",
    "test.to_feather('../features/test/Agg_Itemseq_median_Golden_features_test.feather')\n",
    "train_active.to_feather('../features/train_active/Agg_Itemseq_median_Golden_features_train_active.feather')\n",
    "test_active.to_feather('../features/test_active/Agg_Itemseq_median_Golden_features_test_active.feather')\n",
    "\n",
    "print('done')\n",
    "train.nunique()"
   ]
  },
  {
   "cell_type": "code",
   "execution_count": null,
   "metadata": {},
   "outputs": [],
   "source": []
  },
  {
   "cell_type": "code",
   "execution_count": 11,
   "metadata": {},
   "outputs": [
    {
     "name": "stdout",
     "output_type": "stream",
     "text": [
      "(1503424, 8)\n",
      "(508438, 8)\n",
      "(14129821, 8)\n",
      "(12824068, 8)\n",
      "(16687412, 4)\n",
      "(13724922, 4)\n"
     ]
    },
    {
     "data": {
      "text/html": [
       "<div>\n",
       "<style scoped>\n",
       "    .dataframe tbody tr th:only-of-type {\n",
       "        vertical-align: middle;\n",
       "    }\n",
       "\n",
       "    .dataframe tbody tr th {\n",
       "        vertical-align: top;\n",
       "    }\n",
       "\n",
       "    .dataframe thead th {\n",
       "        text-align: right;\n",
       "    }\n",
       "</style>\n",
       "<table border=\"1\" class=\"dataframe\">\n",
       "  <thead>\n",
       "    <tr style=\"text-align: right;\">\n",
       "      <th></th>\n",
       "      <th>item_id</th>\n",
       "      <th>user_id</th>\n",
       "      <th>region</th>\n",
       "      <th>city</th>\n",
       "      <th>parent_category_name</th>\n",
       "      <th>category_name</th>\n",
       "      <th>param_1</th>\n",
       "      <th>price</th>\n",
       "    </tr>\n",
       "  </thead>\n",
       "  <tbody>\n",
       "    <tr>\n",
       "      <th>0</th>\n",
       "      <td>b912c3c6a6ad</td>\n",
       "      <td>e00f8ff2eaf9</td>\n",
       "      <td>Свердловская область</td>\n",
       "      <td>Екатеринбург</td>\n",
       "      <td>Личные вещи</td>\n",
       "      <td>Товары для детей и игрушки</td>\n",
       "      <td>Постельные принадлежности</td>\n",
       "      <td>400.0</td>\n",
       "    </tr>\n",
       "    <tr>\n",
       "      <th>1</th>\n",
       "      <td>2dac0150717d</td>\n",
       "      <td>39aeb48f0017</td>\n",
       "      <td>Самарская область</td>\n",
       "      <td>Самара</td>\n",
       "      <td>Для дома и дачи</td>\n",
       "      <td>Мебель и интерьер</td>\n",
       "      <td>Другое</td>\n",
       "      <td>3000.0</td>\n",
       "    </tr>\n",
       "    <tr>\n",
       "      <th>2</th>\n",
       "      <td>ba83aefab5dc</td>\n",
       "      <td>91e2f88dd6e3</td>\n",
       "      <td>Ростовская область</td>\n",
       "      <td>Ростов-на-Дону</td>\n",
       "      <td>Бытовая электроника</td>\n",
       "      <td>Аудио и видео</td>\n",
       "      <td>Видео, DVD и Blu-ray плееры</td>\n",
       "      <td>4000.0</td>\n",
       "    </tr>\n",
       "    <tr>\n",
       "      <th>3</th>\n",
       "      <td>02996f1dd2ea</td>\n",
       "      <td>bf5cccea572d</td>\n",
       "      <td>Татарстан</td>\n",
       "      <td>Набережные Челны</td>\n",
       "      <td>Личные вещи</td>\n",
       "      <td>Товары для детей и игрушки</td>\n",
       "      <td>Автомобильные кресла</td>\n",
       "      <td>2200.0</td>\n",
       "    </tr>\n",
       "    <tr>\n",
       "      <th>4</th>\n",
       "      <td>7c90be56d2ab</td>\n",
       "      <td>ef50846afc0b</td>\n",
       "      <td>Волгоградская область</td>\n",
       "      <td>Волгоград</td>\n",
       "      <td>Транспорт</td>\n",
       "      <td>Автомобили</td>\n",
       "      <td>С пробегом</td>\n",
       "      <td>40000.0</td>\n",
       "    </tr>\n",
       "  </tbody>\n",
       "</table>\n",
       "</div>"
      ],
      "text/plain": [
       "        item_id       user_id                 region              city  \\\n",
       "0  b912c3c6a6ad  e00f8ff2eaf9   Свердловская область      Екатеринбург   \n",
       "1  2dac0150717d  39aeb48f0017      Самарская область            Самара   \n",
       "2  ba83aefab5dc  91e2f88dd6e3     Ростовская область    Ростов-на-Дону   \n",
       "3  02996f1dd2ea  bf5cccea572d              Татарстан  Набережные Челны   \n",
       "4  7c90be56d2ab  ef50846afc0b  Волгоградская область         Волгоград   \n",
       "\n",
       "  parent_category_name               category_name  \\\n",
       "0          Личные вещи  Товары для детей и игрушки   \n",
       "1      Для дома и дачи           Мебель и интерьер   \n",
       "2  Бытовая электроника               Аудио и видео   \n",
       "3          Личные вещи  Товары для детей и игрушки   \n",
       "4            Транспорт                  Автомобили   \n",
       "\n",
       "                       param_1    price  \n",
       "0    Постельные принадлежности    400.0  \n",
       "1                       Другое   3000.0  \n",
       "2  Видео, DVD и Blu-ray плееры   4000.0  \n",
       "3         Автомобильные кресла   2200.0  \n",
       "4                   С пробегом  40000.0  "
      ]
     },
     "execution_count": 11,
     "metadata": {},
     "output_type": "execute_result"
    }
   ],
   "source": [
    "# User ID \n",
    "used_cols = ['item_id', 'user_id', 'parent_category_name', 'category_name', 'region', 'city', 'param_1', 'price']\n",
    "\n",
    "train = pd.read_csv('../input/train.csv', usecols=used_cols)\n",
    "train_active = pd.read_csv('../input/train_active.csv', usecols=used_cols)\n",
    "test = pd.read_csv('../input/test.csv', usecols=used_cols)\n",
    "test_active = pd.read_csv('../input/test_active.csv', usecols=used_cols)\n",
    "\n",
    "train_periods = pd.read_csv('../input/periods_train.csv', parse_dates=['activation_date', 'date_from', 'date_to'])\n",
    "test_periods = pd.read_csv('../input/periods_test.csv', parse_dates=['activation_date', 'date_from', 'date_to'])\n",
    "\n",
    "print(train.shape)\n",
    "print(test.shape)\n",
    "print(train_active.shape)\n",
    "print(test_active.shape)\n",
    "print(train_periods.shape)\n",
    "print(test_periods.shape)\n",
    "\n",
    "train.head()"
   ]
  },
  {
   "cell_type": "code",
   "execution_count": 12,
   "metadata": {},
   "outputs": [
    {
     "name": "stdout",
     "output_type": "stream",
     "text": [
      "(19465016, 8)\n",
      "(30412334, 4)\n"
     ]
    }
   ],
   "source": [
    "all_samples = pd.concat([\n",
    "    train,\n",
    "    train_active,\n",
    "    test,\n",
    "    test_active\n",
    "]).reset_index(drop=True)\n",
    "all_samples.drop_duplicates(['item_id'], inplace=True)\n",
    "\n",
    "del train_active, test_active; gc.collect()\n",
    "print(all_samples.shape)\n",
    "\n",
    "all_periods = pd.concat([\n",
    "    train_periods,\n",
    "    test_periods\n",
    "])\n",
    "\n",
    "del train_periods, test_periods; gc.collect()\n",
    "\n",
    "print(all_periods.shape)"
   ]
  },
  {
   "cell_type": "code",
   "execution_count": 17,
   "metadata": {},
   "outputs": [
    {
     "name": "stdout",
     "output_type": "stream",
     "text": [
      "(17453073, 3)\n"
     ]
    },
    {
     "data": {
      "text/html": [
       "<div>\n",
       "<style scoped>\n",
       "    .dataframe tbody tr th:only-of-type {\n",
       "        vertical-align: middle;\n",
       "    }\n",
       "\n",
       "    .dataframe tbody tr th {\n",
       "        vertical-align: top;\n",
       "    }\n",
       "\n",
       "    .dataframe thead th {\n",
       "        text-align: right;\n",
       "    }\n",
       "</style>\n",
       "<table border=\"1\" class=\"dataframe\">\n",
       "  <thead>\n",
       "    <tr style=\"text-align: right;\">\n",
       "      <th></th>\n",
       "      <th>item_id</th>\n",
       "      <th>days_up_sum</th>\n",
       "      <th>times_put_up</th>\n",
       "    </tr>\n",
       "  </thead>\n",
       "  <tbody>\n",
       "    <tr>\n",
       "      <th>0</th>\n",
       "      <td>00000077ff21</td>\n",
       "      <td>13</td>\n",
       "      <td>1</td>\n",
       "    </tr>\n",
       "    <tr>\n",
       "      <th>1</th>\n",
       "      <td>000002c54018</td>\n",
       "      <td>6</td>\n",
       "      <td>1</td>\n",
       "    </tr>\n",
       "    <tr>\n",
       "      <th>2</th>\n",
       "      <td>000005570503</td>\n",
       "      <td>1</td>\n",
       "      <td>1</td>\n",
       "    </tr>\n",
       "    <tr>\n",
       "      <th>3</th>\n",
       "      <td>0000060018e6</td>\n",
       "      <td>6</td>\n",
       "      <td>1</td>\n",
       "    </tr>\n",
       "    <tr>\n",
       "      <th>4</th>\n",
       "      <td>000006497719</td>\n",
       "      <td>19</td>\n",
       "      <td>2</td>\n",
       "    </tr>\n",
       "  </tbody>\n",
       "</table>\n",
       "</div>"
      ],
      "text/plain": [
       "        item_id  days_up_sum  times_put_up\n",
       "0  00000077ff21           13             1\n",
       "1  000002c54018            6             1\n",
       "2  000005570503            1             1\n",
       "3  0000060018e6            6             1\n",
       "4  000006497719           19             2"
      ]
     },
     "execution_count": 17,
     "metadata": {},
     "output_type": "execute_result"
    }
   ],
   "source": [
    "all_periods['days_up'] = all_periods['date_to'].dt.dayofyear - all_periods['date_from'].dt.dayofyear\n",
    "all_periods['days_headdiff'] = all_periods['date_from'].dt.dayofyear - all_periods['activation_date'].dt.dayofyear\n",
    "#all_periods['days_taildiff'] = all_periods['date_to'].dt.dayofyear - all_periods['activation_date'].dt.dayofyear\n",
    "\n",
    "gp = all_periods.groupby(['item_id'])[['days_up']]\n",
    "\n",
    "gp_df = pd.DataFrame()\n",
    "gp_df['days_up_sum'] = gp.sum()['days_up']\n",
    "gp_df['times_put_up'] = gp.count()['days_up']\n",
    "gp_df.reset_index(inplace=True)\n",
    "gp_df.rename(index=str, columns={'index': 'item_id'})\n",
    "\n",
    "print(gp_df.shape)\n",
    "gp_df.head()"
   ]
  },
  {
   "cell_type": "code",
   "execution_count": 18,
   "metadata": {},
   "outputs": [
    {
     "name": "stdout",
     "output_type": "stream",
     "text": [
      "(17453073, 2)\n"
     ]
    },
    {
     "data": {
      "text/html": [
       "<div>\n",
       "<style scoped>\n",
       "    .dataframe tbody tr th:only-of-type {\n",
       "        vertical-align: middle;\n",
       "    }\n",
       "\n",
       "    .dataframe tbody tr th {\n",
       "        vertical-align: top;\n",
       "    }\n",
       "\n",
       "    .dataframe thead th {\n",
       "        text-align: right;\n",
       "    }\n",
       "</style>\n",
       "<table border=\"1\" class=\"dataframe\">\n",
       "  <thead>\n",
       "    <tr style=\"text-align: right;\">\n",
       "      <th></th>\n",
       "      <th>item_id</th>\n",
       "      <th>days_headdiff_sum</th>\n",
       "    </tr>\n",
       "  </thead>\n",
       "  <tbody>\n",
       "    <tr>\n",
       "      <th>0</th>\n",
       "      <td>00000077ff21</td>\n",
       "      <td>9.0</td>\n",
       "    </tr>\n",
       "    <tr>\n",
       "      <th>1</th>\n",
       "      <td>000002c54018</td>\n",
       "      <td>12.0</td>\n",
       "    </tr>\n",
       "    <tr>\n",
       "      <th>2</th>\n",
       "      <td>000005570503</td>\n",
       "      <td>0.0</td>\n",
       "    </tr>\n",
       "    <tr>\n",
       "      <th>3</th>\n",
       "      <td>0000060018e6</td>\n",
       "      <td>6.0</td>\n",
       "    </tr>\n",
       "    <tr>\n",
       "      <th>4</th>\n",
       "      <td>000006497719</td>\n",
       "      <td>18.0</td>\n",
       "    </tr>\n",
       "  </tbody>\n",
       "</table>\n",
       "</div>"
      ],
      "text/plain": [
       "        item_id  days_headdiff_sum\n",
       "0  00000077ff21                9.0\n",
       "1  000002c54018               12.0\n",
       "2  000005570503                0.0\n",
       "3  0000060018e6                6.0\n",
       "4  000006497719               18.0"
      ]
     },
     "execution_count": 18,
     "metadata": {},
     "output_type": "execute_result"
    }
   ],
   "source": [
    "gp_1 = all_periods.groupby(['item_id'])[['days_headdiff']]\n",
    "\n",
    "gp_df_1 = pd.DataFrame()\n",
    "gp_df_1['days_headdiff_sum'] = gp_1.sum()['days_headdiff']\n",
    "gp_df_1.reset_index(inplace=True)\n",
    "gp_df_1.rename(index=str, columns={'index': 'item_id'})\n",
    "\n",
    "print(gp_df_1.shape)\n",
    "gp_df_1.head()"
   ]
  },
  {
   "cell_type": "code",
   "execution_count": null,
   "metadata": {},
   "outputs": [],
   "source": []
  },
  {
   "cell_type": "code",
   "execution_count": 19,
   "metadata": {},
   "outputs": [
    {
     "name": "stdout",
     "output_type": "stream",
     "text": [
      "(17453073, 10)\n"
     ]
    },
    {
     "data": {
      "text/html": [
       "<div>\n",
       "<style scoped>\n",
       "    .dataframe tbody tr th:only-of-type {\n",
       "        vertical-align: middle;\n",
       "    }\n",
       "\n",
       "    .dataframe tbody tr th {\n",
       "        vertical-align: top;\n",
       "    }\n",
       "\n",
       "    .dataframe thead th {\n",
       "        text-align: right;\n",
       "    }\n",
       "</style>\n",
       "<table border=\"1\" class=\"dataframe\">\n",
       "  <thead>\n",
       "    <tr style=\"text-align: right;\">\n",
       "      <th></th>\n",
       "      <th>item_id</th>\n",
       "      <th>activation_date</th>\n",
       "      <th>date_from</th>\n",
       "      <th>date_to</th>\n",
       "      <th>days_up</th>\n",
       "      <th>days_headdiff</th>\n",
       "      <th>days_taildiff</th>\n",
       "      <th>days_up_sum</th>\n",
       "      <th>times_put_up</th>\n",
       "      <th>days_headdiff_sum</th>\n",
       "    </tr>\n",
       "  </thead>\n",
       "  <tbody>\n",
       "    <tr>\n",
       "      <th>0</th>\n",
       "      <td>8f5caef7afb0</td>\n",
       "      <td>2017-02-14</td>\n",
       "      <td>2017-03-15</td>\n",
       "      <td>2017-03-16</td>\n",
       "      <td>1</td>\n",
       "      <td>29.0</td>\n",
       "      <td>30.0</td>\n",
       "      <td>17</td>\n",
       "      <td>4</td>\n",
       "      <td>55.0</td>\n",
       "    </tr>\n",
       "    <tr>\n",
       "      <th>1</th>\n",
       "      <td>66218ff526d1</td>\n",
       "      <td>2017-02-16</td>\n",
       "      <td>2017-03-15</td>\n",
       "      <td>2017-03-18</td>\n",
       "      <td>3</td>\n",
       "      <td>27.0</td>\n",
       "      <td>30.0</td>\n",
       "      <td>18</td>\n",
       "      <td>3</td>\n",
       "      <td>51.0</td>\n",
       "    </tr>\n",
       "    <tr>\n",
       "      <th>2</th>\n",
       "      <td>b237d9539b21</td>\n",
       "      <td>2017-03-01</td>\n",
       "      <td>2017-03-15</td>\n",
       "      <td>2017-03-28</td>\n",
       "      <td>13</td>\n",
       "      <td>14.0</td>\n",
       "      <td>27.0</td>\n",
       "      <td>19</td>\n",
       "      <td>2</td>\n",
       "      <td>26.0</td>\n",
       "    </tr>\n",
       "    <tr>\n",
       "      <th>3</th>\n",
       "      <td>80bf58082ad3</td>\n",
       "      <td>2017-03-19</td>\n",
       "      <td>2017-03-19</td>\n",
       "      <td>2017-03-28</td>\n",
       "      <td>9</td>\n",
       "      <td>0.0</td>\n",
       "      <td>9.0</td>\n",
       "      <td>17</td>\n",
       "      <td>4</td>\n",
       "      <td>51.0</td>\n",
       "    </tr>\n",
       "    <tr>\n",
       "      <th>4</th>\n",
       "      <td>67a9944a7373</td>\n",
       "      <td>2017-03-14</td>\n",
       "      <td>2017-03-15</td>\n",
       "      <td>2017-03-28</td>\n",
       "      <td>13</td>\n",
       "      <td>1.0</td>\n",
       "      <td>14.0</td>\n",
       "      <td>18</td>\n",
       "      <td>3</td>\n",
       "      <td>30.0</td>\n",
       "    </tr>\n",
       "  </tbody>\n",
       "</table>\n",
       "</div>"
      ],
      "text/plain": [
       "        item_id activation_date  date_from    date_to  days_up  days_headdiff  \\\n",
       "0  8f5caef7afb0      2017-02-14 2017-03-15 2017-03-16        1           29.0   \n",
       "1  66218ff526d1      2017-02-16 2017-03-15 2017-03-18        3           27.0   \n",
       "2  b237d9539b21      2017-03-01 2017-03-15 2017-03-28       13           14.0   \n",
       "3  80bf58082ad3      2017-03-19 2017-03-19 2017-03-28        9            0.0   \n",
       "4  67a9944a7373      2017-03-14 2017-03-15 2017-03-28       13            1.0   \n",
       "\n",
       "   days_taildiff  days_up_sum  times_put_up  days_headdiff_sum  \n",
       "0           30.0           17             4               55.0  \n",
       "1           30.0           18             3               51.0  \n",
       "2           27.0           19             2               26.0  \n",
       "3            9.0           17             4               51.0  \n",
       "4           14.0           18             3               30.0  "
      ]
     },
     "execution_count": 19,
     "metadata": {},
     "output_type": "execute_result"
    }
   ],
   "source": [
    "del gp, gp_1; gc.collect()\n",
    "\n",
    "all_periods.drop_duplicates(['item_id'], inplace=True)\n",
    "all_periods = all_periods.merge(gp_df, on='item_id', how='left')\n",
    "del gp_df; gc.collect()\n",
    "all_periods = all_periods.merge(gp_df_1, on='item_id', how='left')\n",
    "del gp_df_1; gc.collect()\n",
    "#all_periods = all_periods.merge(gp_df_2, on='item_id', how='left')\n",
    "#del gp_df_2; gc.collect()\n",
    "\n",
    "print(all_periods.shape)\n",
    "all_periods.head()"
   ]
  },
  {
   "cell_type": "code",
   "execution_count": null,
   "metadata": {},
   "outputs": [],
   "source": []
  },
  {
   "cell_type": "code",
   "execution_count": null,
   "metadata": {},
   "outputs": [],
   "source": []
  },
  {
   "cell_type": "code",
   "execution_count": 22,
   "metadata": {},
   "outputs": [
    {
     "name": "stdout",
     "output_type": "stream",
     "text": [
      "(17453073, 16)\n"
     ]
    },
    {
     "data": {
      "text/html": [
       "<div>\n",
       "<style scoped>\n",
       "    .dataframe tbody tr th:only-of-type {\n",
       "        vertical-align: middle;\n",
       "    }\n",
       "\n",
       "    .dataframe tbody tr th {\n",
       "        vertical-align: top;\n",
       "    }\n",
       "\n",
       "    .dataframe thead th {\n",
       "        text-align: right;\n",
       "    }\n",
       "</style>\n",
       "<table border=\"1\" class=\"dataframe\">\n",
       "  <thead>\n",
       "    <tr style=\"text-align: right;\">\n",
       "      <th></th>\n",
       "      <th>item_id</th>\n",
       "      <th>activation_date</th>\n",
       "      <th>date_from</th>\n",
       "      <th>date_to</th>\n",
       "      <th>days_up</th>\n",
       "      <th>days_headdiff</th>\n",
       "      <th>days_up_sum</th>\n",
       "      <th>times_put_up</th>\n",
       "      <th>days_headdiff_sum</th>\n",
       "      <th>user_id</th>\n",
       "      <th>region</th>\n",
       "      <th>city</th>\n",
       "      <th>parent_category_name</th>\n",
       "      <th>category_name</th>\n",
       "      <th>param_1</th>\n",
       "      <th>price</th>\n",
       "    </tr>\n",
       "  </thead>\n",
       "  <tbody>\n",
       "    <tr>\n",
       "      <th>0</th>\n",
       "      <td>8f5caef7afb0</td>\n",
       "      <td>2017-02-14</td>\n",
       "      <td>2017-03-15</td>\n",
       "      <td>2017-03-16</td>\n",
       "      <td>1</td>\n",
       "      <td>29.0</td>\n",
       "      <td>17</td>\n",
       "      <td>4</td>\n",
       "      <td>55.0</td>\n",
       "      <td>e292cce69842</td>\n",
       "      <td>Нижегородская область</td>\n",
       "      <td>Нижний Новгород</td>\n",
       "      <td>Услуги</td>\n",
       "      <td>Предложение услуг</td>\n",
       "      <td>Транспорт, перевозки</td>\n",
       "      <td>0.0</td>\n",
       "    </tr>\n",
       "    <tr>\n",
       "      <th>1</th>\n",
       "      <td>66218ff526d1</td>\n",
       "      <td>2017-02-16</td>\n",
       "      <td>2017-03-15</td>\n",
       "      <td>2017-03-18</td>\n",
       "      <td>3</td>\n",
       "      <td>27.0</td>\n",
       "      <td>18</td>\n",
       "      <td>3</td>\n",
       "      <td>51.0</td>\n",
       "      <td>a326c04a24ec</td>\n",
       "      <td>Новосибирская область</td>\n",
       "      <td>Новосибирск</td>\n",
       "      <td>Личные вещи</td>\n",
       "      <td>Детская одежда и обувь</td>\n",
       "      <td>Для мальчиков</td>\n",
       "      <td>200.0</td>\n",
       "    </tr>\n",
       "    <tr>\n",
       "      <th>2</th>\n",
       "      <td>b237d9539b21</td>\n",
       "      <td>2017-03-01</td>\n",
       "      <td>2017-03-15</td>\n",
       "      <td>2017-03-28</td>\n",
       "      <td>13</td>\n",
       "      <td>14.0</td>\n",
       "      <td>19</td>\n",
       "      <td>2</td>\n",
       "      <td>26.0</td>\n",
       "      <td>06d275498a56</td>\n",
       "      <td>Свердловская область</td>\n",
       "      <td>Екатеринбург</td>\n",
       "      <td>Личные вещи</td>\n",
       "      <td>Одежда, обувь, аксессуары</td>\n",
       "      <td>Женская одежда</td>\n",
       "      <td>4000.0</td>\n",
       "    </tr>\n",
       "    <tr>\n",
       "      <th>3</th>\n",
       "      <td>80bf58082ad3</td>\n",
       "      <td>2017-03-19</td>\n",
       "      <td>2017-03-19</td>\n",
       "      <td>2017-03-28</td>\n",
       "      <td>9</td>\n",
       "      <td>0.0</td>\n",
       "      <td>17</td>\n",
       "      <td>4</td>\n",
       "      <td>51.0</td>\n",
       "      <td>831c8c4a622c</td>\n",
       "      <td>Краснодарский край</td>\n",
       "      <td>Краснодар</td>\n",
       "      <td>Для дома и дачи</td>\n",
       "      <td>Бытовая техника</td>\n",
       "      <td>Для кухни</td>\n",
       "      <td>0.0</td>\n",
       "    </tr>\n",
       "    <tr>\n",
       "      <th>4</th>\n",
       "      <td>67a9944a7373</td>\n",
       "      <td>2017-03-14</td>\n",
       "      <td>2017-03-15</td>\n",
       "      <td>2017-03-28</td>\n",
       "      <td>13</td>\n",
       "      <td>1.0</td>\n",
       "      <td>18</td>\n",
       "      <td>3</td>\n",
       "      <td>30.0</td>\n",
       "      <td>248102e50d79</td>\n",
       "      <td>Пермский край</td>\n",
       "      <td>Пермь</td>\n",
       "      <td>Личные вещи</td>\n",
       "      <td>Товары для детей и игрушки</td>\n",
       "      <td>Игрушки</td>\n",
       "      <td>5489.0</td>\n",
       "    </tr>\n",
       "  </tbody>\n",
       "</table>\n",
       "</div>"
      ],
      "text/plain": [
       "        item_id activation_date  date_from    date_to  days_up  days_headdiff  \\\n",
       "0  8f5caef7afb0      2017-02-14 2017-03-15 2017-03-16        1           29.0   \n",
       "1  66218ff526d1      2017-02-16 2017-03-15 2017-03-18        3           27.0   \n",
       "2  b237d9539b21      2017-03-01 2017-03-15 2017-03-28       13           14.0   \n",
       "3  80bf58082ad3      2017-03-19 2017-03-19 2017-03-28        9            0.0   \n",
       "4  67a9944a7373      2017-03-14 2017-03-15 2017-03-28       13            1.0   \n",
       "\n",
       "   days_up_sum  times_put_up  days_headdiff_sum       user_id  \\\n",
       "0           17             4               55.0  e292cce69842   \n",
       "1           18             3               51.0  a326c04a24ec   \n",
       "2           19             2               26.0  06d275498a56   \n",
       "3           17             4               51.0  831c8c4a622c   \n",
       "4           18             3               30.0  248102e50d79   \n",
       "\n",
       "                  region             city parent_category_name  \\\n",
       "0  Нижегородская область  Нижний Новгород               Услуги   \n",
       "1  Новосибирская область      Новосибирск          Личные вещи   \n",
       "2   Свердловская область     Екатеринбург          Личные вещи   \n",
       "3     Краснодарский край        Краснодар      Для дома и дачи   \n",
       "4          Пермский край            Пермь          Личные вещи   \n",
       "\n",
       "                category_name               param_1   price  \n",
       "0           Предложение услуг  Транспорт, перевозки     0.0  \n",
       "1      Детская одежда и обувь         Для мальчиков   200.0  \n",
       "2   Одежда, обувь, аксессуары        Женская одежда  4000.0  \n",
       "3             Бытовая техника             Для кухни     0.0  \n",
       "4  Товары для детей и игрушки               Игрушки  5489.0  "
      ]
     },
     "execution_count": 22,
     "metadata": {},
     "output_type": "execute_result"
    }
   ],
   "source": [
    "all_periods = all_periods.merge(all_samples, on='item_id', how='left')\n",
    "print(all_periods.shape)\n",
    "all_periods.head()"
   ]
  },
  {
   "cell_type": "code",
   "execution_count": 24,
   "metadata": {},
   "outputs": [
    {
     "data": {
      "text/plain": [
       "282"
      ]
     },
     "execution_count": 24,
     "metadata": {},
     "output_type": "execute_result"
    }
   ],
   "source": [
    "all_periods.drop(['activation_date', 'date_from', 'date_to'], axis=1, inplace=True)\n",
    "gc.collect()"
   ]
  },
  {
   "cell_type": "code",
   "execution_count": 25,
   "metadata": {},
   "outputs": [
    {
     "data": {
      "text/html": [
       "<div>\n",
       "<style scoped>\n",
       "    .dataframe tbody tr th:only-of-type {\n",
       "        vertical-align: middle;\n",
       "    }\n",
       "\n",
       "    .dataframe tbody tr th {\n",
       "        vertical-align: top;\n",
       "    }\n",
       "\n",
       "    .dataframe thead th {\n",
       "        text-align: right;\n",
       "    }\n",
       "</style>\n",
       "<table border=\"1\" class=\"dataframe\">\n",
       "  <thead>\n",
       "    <tr style=\"text-align: right;\">\n",
       "      <th></th>\n",
       "      <th>user_id</th>\n",
       "      <th>avg_days_up_user</th>\n",
       "      <th>avg_times_up_user</th>\n",
       "      <th>avg_headdays_up_user</th>\n",
       "    </tr>\n",
       "  </thead>\n",
       "  <tbody>\n",
       "    <tr>\n",
       "      <th>0</th>\n",
       "      <td>00000077ff21</td>\n",
       "      <td>12.5</td>\n",
       "      <td>2.00</td>\n",
       "      <td>23.500</td>\n",
       "    </tr>\n",
       "    <tr>\n",
       "      <th>1</th>\n",
       "      <td>000006497719</td>\n",
       "      <td>19.0</td>\n",
       "      <td>2.00</td>\n",
       "      <td>13.000</td>\n",
       "    </tr>\n",
       "    <tr>\n",
       "      <th>2</th>\n",
       "      <td>00000b4d72f6</td>\n",
       "      <td>3.0</td>\n",
       "      <td>1.00</td>\n",
       "      <td>0.000</td>\n",
       "    </tr>\n",
       "    <tr>\n",
       "      <th>3</th>\n",
       "      <td>00000d642d7e</td>\n",
       "      <td>13.0</td>\n",
       "      <td>1.00</td>\n",
       "      <td>14.000</td>\n",
       "    </tr>\n",
       "    <tr>\n",
       "      <th>4</th>\n",
       "      <td>0000126b80a4</td>\n",
       "      <td>12.0</td>\n",
       "      <td>1.75</td>\n",
       "      <td>11.625</td>\n",
       "    </tr>\n",
       "  </tbody>\n",
       "</table>\n",
       "</div>"
      ],
      "text/plain": [
       "        user_id  avg_days_up_user  avg_times_up_user  avg_headdays_up_user\n",
       "0  00000077ff21              12.5               2.00                23.500\n",
       "1  000006497719              19.0               2.00                13.000\n",
       "2  00000b4d72f6               3.0               1.00                 0.000\n",
       "3  00000d642d7e              13.0               1.00                14.000\n",
       "4  0000126b80a4              12.0               1.75                11.625"
      ]
     },
     "execution_count": 25,
     "metadata": {},
     "output_type": "execute_result"
    }
   ],
   "source": [
    "gp = all_periods.groupby(['user_id'])[['days_up_sum', 'times_put_up', 'days_headdiff_sum']].mean().reset_index() \\\n",
    "    .rename(index=str, columns={\n",
    "        'days_up_sum': 'avg_days_up_user',\n",
    "        'times_put_up': 'avg_times_up_user',\n",
    "        'days_headdiff_sum': 'avg_headdays_up_user'\n",
    "    })\n",
    "gp.head()"
   ]
  },
  {
   "cell_type": "code",
   "execution_count": 26,
   "metadata": {},
   "outputs": [
    {
     "data": {
      "text/html": [
       "<div>\n",
       "<style scoped>\n",
       "    .dataframe tbody tr th:only-of-type {\n",
       "        vertical-align: middle;\n",
       "    }\n",
       "\n",
       "    .dataframe tbody tr th {\n",
       "        vertical-align: top;\n",
       "    }\n",
       "\n",
       "    .dataframe thead th {\n",
       "        text-align: right;\n",
       "    }\n",
       "</style>\n",
       "<table border=\"1\" class=\"dataframe\">\n",
       "  <thead>\n",
       "    <tr style=\"text-align: right;\">\n",
       "      <th></th>\n",
       "      <th>user_id</th>\n",
       "      <th>avg_days_up_user</th>\n",
       "      <th>avg_times_up_user</th>\n",
       "      <th>avg_headdays_up_user</th>\n",
       "      <th>n_user_items</th>\n",
       "    </tr>\n",
       "  </thead>\n",
       "  <tbody>\n",
       "    <tr>\n",
       "      <th>0</th>\n",
       "      <td>00000077ff21</td>\n",
       "      <td>12.5</td>\n",
       "      <td>2.00</td>\n",
       "      <td>23.500</td>\n",
       "      <td>2</td>\n",
       "    </tr>\n",
       "    <tr>\n",
       "      <th>1</th>\n",
       "      <td>000006497719</td>\n",
       "      <td>19.0</td>\n",
       "      <td>2.00</td>\n",
       "      <td>13.000</td>\n",
       "      <td>1</td>\n",
       "    </tr>\n",
       "    <tr>\n",
       "      <th>2</th>\n",
       "      <td>00000b4d72f6</td>\n",
       "      <td>3.0</td>\n",
       "      <td>1.00</td>\n",
       "      <td>0.000</td>\n",
       "      <td>1</td>\n",
       "    </tr>\n",
       "    <tr>\n",
       "      <th>3</th>\n",
       "      <td>00000d642d7e</td>\n",
       "      <td>13.0</td>\n",
       "      <td>1.00</td>\n",
       "      <td>14.000</td>\n",
       "      <td>2</td>\n",
       "    </tr>\n",
       "    <tr>\n",
       "      <th>4</th>\n",
       "      <td>0000126b80a4</td>\n",
       "      <td>12.0</td>\n",
       "      <td>1.75</td>\n",
       "      <td>11.625</td>\n",
       "      <td>8</td>\n",
       "    </tr>\n",
       "  </tbody>\n",
       "</table>\n",
       "</div>"
      ],
      "text/plain": [
       "        user_id  avg_days_up_user  avg_times_up_user  avg_headdays_up_user  \\\n",
       "0  00000077ff21              12.5               2.00                23.500   \n",
       "1  000006497719              19.0               2.00                13.000   \n",
       "2  00000b4d72f6               3.0               1.00                 0.000   \n",
       "3  00000d642d7e              13.0               1.00                14.000   \n",
       "4  0000126b80a4              12.0               1.75                11.625   \n",
       "\n",
       "   n_user_items  \n",
       "0             2  \n",
       "1             1  \n",
       "2             1  \n",
       "3             2  \n",
       "4             8  "
      ]
     },
     "execution_count": 26,
     "metadata": {},
     "output_type": "execute_result"
    }
   ],
   "source": [
    "n_user_items = all_periods.groupby(['user_id'])[['item_id']].count().reset_index() \\\n",
    "    .rename(index=str, columns={\n",
    "        'item_id': 'n_user_items'\n",
    "    })\n",
    "gp = gp.merge(n_user_items, on='user_id', how='outer')\n",
    "\n",
    "gp.head()"
   ]
  },
  {
   "cell_type": "code",
   "execution_count": 29,
   "metadata": {},
   "outputs": [
    {
     "data": {
      "text/html": [
       "<div>\n",
       "<style scoped>\n",
       "    .dataframe tbody tr th:only-of-type {\n",
       "        vertical-align: middle;\n",
       "    }\n",
       "\n",
       "    .dataframe tbody tr th {\n",
       "        vertical-align: top;\n",
       "    }\n",
       "\n",
       "    .dataframe thead th {\n",
       "        text-align: right;\n",
       "    }\n",
       "</style>\n",
       "<table border=\"1\" class=\"dataframe\">\n",
       "  <thead>\n",
       "    <tr style=\"text-align: right;\">\n",
       "      <th></th>\n",
       "      <th>item_id</th>\n",
       "      <th>days_up</th>\n",
       "      <th>days_headdiff</th>\n",
       "      <th>days_up_sum</th>\n",
       "      <th>times_put_up</th>\n",
       "      <th>days_headdiff_sum</th>\n",
       "      <th>user_id</th>\n",
       "      <th>region</th>\n",
       "      <th>city</th>\n",
       "      <th>parent_category_name</th>\n",
       "      <th>category_name</th>\n",
       "      <th>param_1</th>\n",
       "      <th>price</th>\n",
       "    </tr>\n",
       "  </thead>\n",
       "  <tbody>\n",
       "    <tr>\n",
       "      <th>0</th>\n",
       "      <td>8f5caef7afb0</td>\n",
       "      <td>1</td>\n",
       "      <td>29.0</td>\n",
       "      <td>17</td>\n",
       "      <td>4</td>\n",
       "      <td>55.0</td>\n",
       "      <td>e292cce69842</td>\n",
       "      <td>Нижегородская область</td>\n",
       "      <td>Нижний Новгород</td>\n",
       "      <td>Услуги</td>\n",
       "      <td>Предложение услуг</td>\n",
       "      <td>Транспорт, перевозки</td>\n",
       "      <td>0.0</td>\n",
       "    </tr>\n",
       "    <tr>\n",
       "      <th>1</th>\n",
       "      <td>66218ff526d1</td>\n",
       "      <td>3</td>\n",
       "      <td>27.0</td>\n",
       "      <td>18</td>\n",
       "      <td>3</td>\n",
       "      <td>51.0</td>\n",
       "      <td>a326c04a24ec</td>\n",
       "      <td>Новосибирская область</td>\n",
       "      <td>Новосибирск</td>\n",
       "      <td>Личные вещи</td>\n",
       "      <td>Детская одежда и обувь</td>\n",
       "      <td>Для мальчиков</td>\n",
       "      <td>200.0</td>\n",
       "    </tr>\n",
       "    <tr>\n",
       "      <th>2</th>\n",
       "      <td>b237d9539b21</td>\n",
       "      <td>13</td>\n",
       "      <td>14.0</td>\n",
       "      <td>19</td>\n",
       "      <td>2</td>\n",
       "      <td>26.0</td>\n",
       "      <td>06d275498a56</td>\n",
       "      <td>Свердловская область</td>\n",
       "      <td>Екатеринбург</td>\n",
       "      <td>Личные вещи</td>\n",
       "      <td>Одежда, обувь, аксессуары</td>\n",
       "      <td>Женская одежда</td>\n",
       "      <td>4000.0</td>\n",
       "    </tr>\n",
       "    <tr>\n",
       "      <th>3</th>\n",
       "      <td>80bf58082ad3</td>\n",
       "      <td>9</td>\n",
       "      <td>0.0</td>\n",
       "      <td>17</td>\n",
       "      <td>4</td>\n",
       "      <td>51.0</td>\n",
       "      <td>831c8c4a622c</td>\n",
       "      <td>Краснодарский край</td>\n",
       "      <td>Краснодар</td>\n",
       "      <td>Для дома и дачи</td>\n",
       "      <td>Бытовая техника</td>\n",
       "      <td>Для кухни</td>\n",
       "      <td>0.0</td>\n",
       "    </tr>\n",
       "    <tr>\n",
       "      <th>4</th>\n",
       "      <td>67a9944a7373</td>\n",
       "      <td>13</td>\n",
       "      <td>1.0</td>\n",
       "      <td>18</td>\n",
       "      <td>3</td>\n",
       "      <td>30.0</td>\n",
       "      <td>248102e50d79</td>\n",
       "      <td>Пермский край</td>\n",
       "      <td>Пермь</td>\n",
       "      <td>Личные вещи</td>\n",
       "      <td>Товары для детей и игрушки</td>\n",
       "      <td>Игрушки</td>\n",
       "      <td>5489.0</td>\n",
       "    </tr>\n",
       "  </tbody>\n",
       "</table>\n",
       "</div>"
      ],
      "text/plain": [
       "        item_id  days_up  days_headdiff  days_up_sum  times_put_up  \\\n",
       "0  8f5caef7afb0        1           29.0           17             4   \n",
       "1  66218ff526d1        3           27.0           18             3   \n",
       "2  b237d9539b21       13           14.0           19             2   \n",
       "3  80bf58082ad3        9            0.0           17             4   \n",
       "4  67a9944a7373       13            1.0           18             3   \n",
       "\n",
       "   days_headdiff_sum       user_id                 region             city  \\\n",
       "0               55.0  e292cce69842  Нижегородская область  Нижний Новгород   \n",
       "1               51.0  a326c04a24ec  Новосибирская область      Новосибирск   \n",
       "2               26.0  06d275498a56   Свердловская область     Екатеринбург   \n",
       "3               51.0  831c8c4a622c     Краснодарский край        Краснодар   \n",
       "4               30.0  248102e50d79          Пермский край            Пермь   \n",
       "\n",
       "  parent_category_name               category_name               param_1  \\\n",
       "0               Услуги           Предложение услуг  Транспорт, перевозки   \n",
       "1          Личные вещи      Детская одежда и обувь         Для мальчиков   \n",
       "2          Личные вещи   Одежда, обувь, аксессуары        Женская одежда   \n",
       "3      Для дома и дачи             Бытовая техника             Для кухни   \n",
       "4          Личные вещи  Товары для детей и игрушки               Игрушки   \n",
       "\n",
       "    price  \n",
       "0     0.0  \n",
       "1   200.0  \n",
       "2  4000.0  \n",
       "3     0.0  \n",
       "4  5489.0  "
      ]
     },
     "execution_count": 29,
     "metadata": {},
     "output_type": "execute_result"
    }
   ],
   "source": [
    "all_periods.head()"
   ]
  },
  {
   "cell_type": "code",
   "execution_count": 30,
   "metadata": {},
   "outputs": [
    {
     "data": {
      "text/html": [
       "<div>\n",
       "<style scoped>\n",
       "    .dataframe tbody tr th:only-of-type {\n",
       "        vertical-align: middle;\n",
       "    }\n",
       "\n",
       "    .dataframe tbody tr th {\n",
       "        vertical-align: top;\n",
       "    }\n",
       "\n",
       "    .dataframe thead th {\n",
       "        text-align: right;\n",
       "    }\n",
       "</style>\n",
       "<table border=\"1\" class=\"dataframe\">\n",
       "  <thead>\n",
       "    <tr style=\"text-align: right;\">\n",
       "      <th></th>\n",
       "      <th>user_id</th>\n",
       "      <th>avg_days_up_user</th>\n",
       "      <th>avg_times_up_user</th>\n",
       "      <th>avg_headdays_up_user</th>\n",
       "      <th>n_user_items</th>\n",
       "      <th>avg_price_up_user</th>\n",
       "    </tr>\n",
       "  </thead>\n",
       "  <tbody>\n",
       "    <tr>\n",
       "      <th>0</th>\n",
       "      <td>00000077ff21</td>\n",
       "      <td>12.5</td>\n",
       "      <td>2.00</td>\n",
       "      <td>23.500</td>\n",
       "      <td>2</td>\n",
       "      <td>2750.00</td>\n",
       "    </tr>\n",
       "    <tr>\n",
       "      <th>1</th>\n",
       "      <td>000006497719</td>\n",
       "      <td>19.0</td>\n",
       "      <td>2.00</td>\n",
       "      <td>13.000</td>\n",
       "      <td>1</td>\n",
       "      <td>2950000.00</td>\n",
       "    </tr>\n",
       "    <tr>\n",
       "      <th>2</th>\n",
       "      <td>00000b4d72f6</td>\n",
       "      <td>3.0</td>\n",
       "      <td>1.00</td>\n",
       "      <td>0.000</td>\n",
       "      <td>1</td>\n",
       "      <td>100000.00</td>\n",
       "    </tr>\n",
       "    <tr>\n",
       "      <th>3</th>\n",
       "      <td>00000d642d7e</td>\n",
       "      <td>13.0</td>\n",
       "      <td>1.00</td>\n",
       "      <td>14.000</td>\n",
       "      <td>2</td>\n",
       "      <td>25500.00</td>\n",
       "    </tr>\n",
       "    <tr>\n",
       "      <th>4</th>\n",
       "      <td>0000126b80a4</td>\n",
       "      <td>12.0</td>\n",
       "      <td>1.75</td>\n",
       "      <td>11.625</td>\n",
       "      <td>8</td>\n",
       "      <td>2043.75</td>\n",
       "    </tr>\n",
       "  </tbody>\n",
       "</table>\n",
       "</div>"
      ],
      "text/plain": [
       "        user_id  avg_days_up_user  avg_times_up_user  avg_headdays_up_user  \\\n",
       "0  00000077ff21              12.5               2.00                23.500   \n",
       "1  000006497719              19.0               2.00                13.000   \n",
       "2  00000b4d72f6               3.0               1.00                 0.000   \n",
       "3  00000d642d7e              13.0               1.00                14.000   \n",
       "4  0000126b80a4              12.0               1.75                11.625   \n",
       "\n",
       "   n_user_items  avg_price_up_user  \n",
       "0             2            2750.00  \n",
       "1             1         2950000.00  \n",
       "2             1          100000.00  \n",
       "3             2           25500.00  \n",
       "4             8            2043.75  "
      ]
     },
     "execution_count": 30,
     "metadata": {},
     "output_type": "execute_result"
    }
   ],
   "source": [
    "n_user_items = all_periods.groupby(['user_id'])[['price']].mean().reset_index() \\\n",
    "    .rename(index=str, columns={\n",
    "        'price': 'avg_price_up_user'\n",
    "    })\n",
    "gp = gp.merge(n_user_items, on='user_id', how='outer')\n",
    "\n",
    "gp.head()"
   ]
  },
  {
   "cell_type": "code",
   "execution_count": 31,
   "metadata": {},
   "outputs": [
    {
     "data": {
      "text/html": [
       "<div>\n",
       "<style scoped>\n",
       "    .dataframe tbody tr th:only-of-type {\n",
       "        vertical-align: middle;\n",
       "    }\n",
       "\n",
       "    .dataframe tbody tr th {\n",
       "        vertical-align: top;\n",
       "    }\n",
       "\n",
       "    .dataframe thead th {\n",
       "        text-align: right;\n",
       "    }\n",
       "</style>\n",
       "<table border=\"1\" class=\"dataframe\">\n",
       "  <thead>\n",
       "    <tr style=\"text-align: right;\">\n",
       "      <th></th>\n",
       "      <th>user_id</th>\n",
       "      <th>avg_days_up_user</th>\n",
       "      <th>avg_times_up_user</th>\n",
       "      <th>avg_headdays_up_user</th>\n",
       "      <th>n_user_items</th>\n",
       "      <th>avg_price_up_user</th>\n",
       "      <th>var_price_up_user</th>\n",
       "    </tr>\n",
       "  </thead>\n",
       "  <tbody>\n",
       "    <tr>\n",
       "      <th>0</th>\n",
       "      <td>00000077ff21</td>\n",
       "      <td>12.5</td>\n",
       "      <td>2.00</td>\n",
       "      <td>23.500</td>\n",
       "      <td>2</td>\n",
       "      <td>2750.00</td>\n",
       "      <td>1.512500e+07</td>\n",
       "    </tr>\n",
       "    <tr>\n",
       "      <th>1</th>\n",
       "      <td>000006497719</td>\n",
       "      <td>19.0</td>\n",
       "      <td>2.00</td>\n",
       "      <td>13.000</td>\n",
       "      <td>1</td>\n",
       "      <td>2950000.00</td>\n",
       "      <td>NaN</td>\n",
       "    </tr>\n",
       "    <tr>\n",
       "      <th>2</th>\n",
       "      <td>00000b4d72f6</td>\n",
       "      <td>3.0</td>\n",
       "      <td>1.00</td>\n",
       "      <td>0.000</td>\n",
       "      <td>1</td>\n",
       "      <td>100000.00</td>\n",
       "      <td>NaN</td>\n",
       "    </tr>\n",
       "    <tr>\n",
       "      <th>3</th>\n",
       "      <td>00000d642d7e</td>\n",
       "      <td>13.0</td>\n",
       "      <td>1.00</td>\n",
       "      <td>14.000</td>\n",
       "      <td>2</td>\n",
       "      <td>25500.00</td>\n",
       "      <td>1.200500e+09</td>\n",
       "    </tr>\n",
       "    <tr>\n",
       "      <th>4</th>\n",
       "      <td>0000126b80a4</td>\n",
       "      <td>12.0</td>\n",
       "      <td>1.75</td>\n",
       "      <td>11.625</td>\n",
       "      <td>8</td>\n",
       "      <td>2043.75</td>\n",
       "      <td>1.194743e+07</td>\n",
       "    </tr>\n",
       "  </tbody>\n",
       "</table>\n",
       "</div>"
      ],
      "text/plain": [
       "        user_id  avg_days_up_user  avg_times_up_user  avg_headdays_up_user  \\\n",
       "0  00000077ff21              12.5               2.00                23.500   \n",
       "1  000006497719              19.0               2.00                13.000   \n",
       "2  00000b4d72f6               3.0               1.00                 0.000   \n",
       "3  00000d642d7e              13.0               1.00                14.000   \n",
       "4  0000126b80a4              12.0               1.75                11.625   \n",
       "\n",
       "   n_user_items  avg_price_up_user  var_price_up_user  \n",
       "0             2            2750.00       1.512500e+07  \n",
       "1             1         2950000.00                NaN  \n",
       "2             1          100000.00                NaN  \n",
       "3             2           25500.00       1.200500e+09  \n",
       "4             8            2043.75       1.194743e+07  "
      ]
     },
     "execution_count": 31,
     "metadata": {},
     "output_type": "execute_result"
    }
   ],
   "source": [
    "n_user_items = all_periods.groupby(['user_id'])[['price']].var().reset_index() \\\n",
    "    .rename(index=str, columns={\n",
    "        'price': 'var_price_up_user'\n",
    "    })\n",
    "gp = gp.merge(n_user_items, on='user_id', how='outer')\n",
    "\n",
    "gp.head()"
   ]
  },
  {
   "cell_type": "code",
   "execution_count": 32,
   "metadata": {},
   "outputs": [
    {
     "data": {
      "text/plain": [
       "user_id                       0\n",
       "avg_days_up_user              0\n",
       "avg_times_up_user             0\n",
       "avg_headdays_up_user          0\n",
       "n_user_items                  0\n",
       "avg_price_up_user        119115\n",
       "var_price_up_user       1933071\n",
       "dtype: int64"
      ]
     },
     "execution_count": 32,
     "metadata": {},
     "output_type": "execute_result"
    }
   ],
   "source": [
    "gp.isnull().sum()"
   ]
  },
  {
   "cell_type": "code",
   "execution_count": 33,
   "metadata": {},
   "outputs": [
    {
     "data": {
      "text/html": [
       "<div>\n",
       "<style scoped>\n",
       "    .dataframe tbody tr th:only-of-type {\n",
       "        vertical-align: middle;\n",
       "    }\n",
       "\n",
       "    .dataframe tbody tr th {\n",
       "        vertical-align: top;\n",
       "    }\n",
       "\n",
       "    .dataframe thead th {\n",
       "        text-align: right;\n",
       "    }\n",
       "</style>\n",
       "<table border=\"1\" class=\"dataframe\">\n",
       "  <thead>\n",
       "    <tr style=\"text-align: right;\">\n",
       "      <th></th>\n",
       "      <th>user_id</th>\n",
       "      <th>avg_days_up_user</th>\n",
       "      <th>avg_times_up_user</th>\n",
       "      <th>avg_headdays_up_user</th>\n",
       "      <th>n_user_items</th>\n",
       "      <th>avg_price_up_user</th>\n",
       "      <th>var_price_up_user</th>\n",
       "    </tr>\n",
       "  </thead>\n",
       "  <tbody>\n",
       "    <tr>\n",
       "      <th>0</th>\n",
       "      <td>00000077ff21</td>\n",
       "      <td>12.5</td>\n",
       "      <td>2.00</td>\n",
       "      <td>23.500</td>\n",
       "      <td>2</td>\n",
       "      <td>2750.00</td>\n",
       "      <td>1.512500e+07</td>\n",
       "    </tr>\n",
       "    <tr>\n",
       "      <th>1</th>\n",
       "      <td>000006497719</td>\n",
       "      <td>19.0</td>\n",
       "      <td>2.00</td>\n",
       "      <td>13.000</td>\n",
       "      <td>1</td>\n",
       "      <td>2950000.00</td>\n",
       "      <td>0.000000e+00</td>\n",
       "    </tr>\n",
       "    <tr>\n",
       "      <th>2</th>\n",
       "      <td>00000b4d72f6</td>\n",
       "      <td>3.0</td>\n",
       "      <td>1.00</td>\n",
       "      <td>0.000</td>\n",
       "      <td>1</td>\n",
       "      <td>100000.00</td>\n",
       "      <td>0.000000e+00</td>\n",
       "    </tr>\n",
       "    <tr>\n",
       "      <th>3</th>\n",
       "      <td>00000d642d7e</td>\n",
       "      <td>13.0</td>\n",
       "      <td>1.00</td>\n",
       "      <td>14.000</td>\n",
       "      <td>2</td>\n",
       "      <td>25500.00</td>\n",
       "      <td>1.200500e+09</td>\n",
       "    </tr>\n",
       "    <tr>\n",
       "      <th>4</th>\n",
       "      <td>0000126b80a4</td>\n",
       "      <td>12.0</td>\n",
       "      <td>1.75</td>\n",
       "      <td>11.625</td>\n",
       "      <td>8</td>\n",
       "      <td>2043.75</td>\n",
       "      <td>1.194743e+07</td>\n",
       "    </tr>\n",
       "  </tbody>\n",
       "</table>\n",
       "</div>"
      ],
      "text/plain": [
       "        user_id  avg_days_up_user  avg_times_up_user  avg_headdays_up_user  \\\n",
       "0  00000077ff21              12.5               2.00                23.500   \n",
       "1  000006497719              19.0               2.00                13.000   \n",
       "2  00000b4d72f6               3.0               1.00                 0.000   \n",
       "3  00000d642d7e              13.0               1.00                14.000   \n",
       "4  0000126b80a4              12.0               1.75                11.625   \n",
       "\n",
       "   n_user_items  avg_price_up_user  var_price_up_user  \n",
       "0             2            2750.00       1.512500e+07  \n",
       "1             1         2950000.00       0.000000e+00  \n",
       "2             1          100000.00       0.000000e+00  \n",
       "3             2           25500.00       1.200500e+09  \n",
       "4             8            2043.75       1.194743e+07  "
      ]
     },
     "execution_count": 33,
     "metadata": {},
     "output_type": "execute_result"
    }
   ],
   "source": [
    "gp['avg_price_up_user'] = gp['avg_price_up_user'].fillna(gp['avg_price_up_user'].mean())\n",
    "gp['var_price_up_user'] = gp['var_price_up_user'].fillna(0)\n",
    "\n",
    "gp.head()"
   ]
  },
  {
   "cell_type": "code",
   "execution_count": 35,
   "metadata": {},
   "outputs": [],
   "source": [
    "gp.to_csv('../input/agg_user.csv', index=False)"
   ]
  },
  {
   "cell_type": "code",
   "execution_count": null,
   "metadata": {},
   "outputs": [],
   "source": []
  },
  {
   "cell_type": "code",
   "execution_count": 12,
   "metadata": {},
   "outputs": [
    {
     "data": {
      "text/plain": [
       "(28965751, 1)"
      ]
     },
     "execution_count": 12,
     "metadata": {},
     "output_type": "execute_result"
    }
   ],
   "source": [
    "# To feather user info\n",
    "used_cols = ['user_id']\n",
    "\n",
    "train = pd.read_csv('../input/train.csv', usecols=used_cols)\n",
    "train_active = pd.read_csv('../input/train_active.csv', usecols=used_cols)\n",
    "test = pd.read_csv('../input/test.csv', usecols=used_cols)\n",
    "test_active = pd.read_csv('../input/test_active.csv', usecols=used_cols)\n",
    "\n",
    "agguser = pd.read_csv('../input/agg_user.csv')\n",
    "\n",
    "df = pd.concat([train, test , train_active, test_active])\n",
    "df.shape\n"
   ]
  },
  {
   "cell_type": "code",
   "execution_count": 13,
   "metadata": {},
   "outputs": [
    {
     "name": "stdout",
     "output_type": "stream",
     "text": [
      "(28965751, 7)\n"
     ]
    },
    {
     "data": {
      "text/html": [
       "<div>\n",
       "<style scoped>\n",
       "    .dataframe tbody tr th:only-of-type {\n",
       "        vertical-align: middle;\n",
       "    }\n",
       "\n",
       "    .dataframe tbody tr th {\n",
       "        vertical-align: top;\n",
       "    }\n",
       "\n",
       "    .dataframe thead th {\n",
       "        text-align: right;\n",
       "    }\n",
       "</style>\n",
       "<table border=\"1\" class=\"dataframe\">\n",
       "  <thead>\n",
       "    <tr style=\"text-align: right;\">\n",
       "      <th></th>\n",
       "      <th>user_id</th>\n",
       "      <th>avg_days_up_user</th>\n",
       "      <th>avg_times_up_user</th>\n",
       "      <th>avg_headdays_up_user</th>\n",
       "      <th>n_user_items</th>\n",
       "      <th>avg_price_up_user</th>\n",
       "      <th>var_price_up_user</th>\n",
       "    </tr>\n",
       "  </thead>\n",
       "  <tbody>\n",
       "    <tr>\n",
       "      <th>0</th>\n",
       "      <td>e00f8ff2eaf9</td>\n",
       "      <td>8.000000</td>\n",
       "      <td>2.000000</td>\n",
       "      <td>17.000000</td>\n",
       "      <td>1.0</td>\n",
       "      <td>4000.000000</td>\n",
       "      <td>0.000000e+00</td>\n",
       "    </tr>\n",
       "    <tr>\n",
       "      <th>1</th>\n",
       "      <td>39aeb48f0017</td>\n",
       "      <td>NaN</td>\n",
       "      <td>NaN</td>\n",
       "      <td>NaN</td>\n",
       "      <td>NaN</td>\n",
       "      <td>NaN</td>\n",
       "      <td>NaN</td>\n",
       "    </tr>\n",
       "    <tr>\n",
       "      <th>2</th>\n",
       "      <td>91e2f88dd6e3</td>\n",
       "      <td>4.428571</td>\n",
       "      <td>1.142857</td>\n",
       "      <td>6.714286</td>\n",
       "      <td>7.0</td>\n",
       "      <td>1035.714286</td>\n",
       "      <td>3.839286e+05</td>\n",
       "    </tr>\n",
       "    <tr>\n",
       "      <th>3</th>\n",
       "      <td>bf5cccea572d</td>\n",
       "      <td>16.714286</td>\n",
       "      <td>2.642857</td>\n",
       "      <td>30.392857</td>\n",
       "      <td>28.0</td>\n",
       "      <td>829.642857</td>\n",
       "      <td>1.923263e+06</td>\n",
       "    </tr>\n",
       "    <tr>\n",
       "      <th>4</th>\n",
       "      <td>ef50846afc0b</td>\n",
       "      <td>NaN</td>\n",
       "      <td>NaN</td>\n",
       "      <td>NaN</td>\n",
       "      <td>NaN</td>\n",
       "      <td>NaN</td>\n",
       "      <td>NaN</td>\n",
       "    </tr>\n",
       "  </tbody>\n",
       "</table>\n",
       "</div>"
      ],
      "text/plain": [
       "        user_id  avg_days_up_user  avg_times_up_user  avg_headdays_up_user  \\\n",
       "0  e00f8ff2eaf9          8.000000           2.000000             17.000000   \n",
       "1  39aeb48f0017               NaN                NaN                   NaN   \n",
       "2  91e2f88dd6e3          4.428571           1.142857              6.714286   \n",
       "3  bf5cccea572d         16.714286           2.642857             30.392857   \n",
       "4  ef50846afc0b               NaN                NaN                   NaN   \n",
       "\n",
       "   n_user_items  avg_price_up_user  var_price_up_user  \n",
       "0           1.0        4000.000000       0.000000e+00  \n",
       "1           NaN                NaN                NaN  \n",
       "2           7.0        1035.714286       3.839286e+05  \n",
       "3          28.0         829.642857       1.923263e+06  \n",
       "4           NaN                NaN                NaN  "
      ]
     },
     "execution_count": 13,
     "metadata": {},
     "output_type": "execute_result"
    }
   ],
   "source": [
    "df = df.merge(agguser, on='user_id', how='left')\n",
    "print(df.shape)\n",
    "df.head()"
   ]
  },
  {
   "cell_type": "code",
   "execution_count": 14,
   "metadata": {},
   "outputs": [
    {
     "name": "stdout",
     "output_type": "stream",
     "text": [
      "(28965751, 6)\n"
     ]
    },
    {
     "data": {
      "text/html": [
       "<div>\n",
       "<style scoped>\n",
       "    .dataframe tbody tr th:only-of-type {\n",
       "        vertical-align: middle;\n",
       "    }\n",
       "\n",
       "    .dataframe tbody tr th {\n",
       "        vertical-align: top;\n",
       "    }\n",
       "\n",
       "    .dataframe thead th {\n",
       "        text-align: right;\n",
       "    }\n",
       "</style>\n",
       "<table border=\"1\" class=\"dataframe\">\n",
       "  <thead>\n",
       "    <tr style=\"text-align: right;\">\n",
       "      <th></th>\n",
       "      <th>avg_days_up_user</th>\n",
       "      <th>avg_times_up_user</th>\n",
       "      <th>avg_headdays_up_user</th>\n",
       "      <th>n_user_items</th>\n",
       "      <th>avg_price_up_user</th>\n",
       "      <th>var_price_up_user</th>\n",
       "    </tr>\n",
       "  </thead>\n",
       "  <tbody>\n",
       "    <tr>\n",
       "      <th>0</th>\n",
       "      <td>8.000000</td>\n",
       "      <td>2.000000</td>\n",
       "      <td>17.000000</td>\n",
       "      <td>1.0</td>\n",
       "      <td>4000.000000</td>\n",
       "      <td>0.000000e+00</td>\n",
       "    </tr>\n",
       "    <tr>\n",
       "      <th>1</th>\n",
       "      <td>NaN</td>\n",
       "      <td>NaN</td>\n",
       "      <td>NaN</td>\n",
       "      <td>NaN</td>\n",
       "      <td>NaN</td>\n",
       "      <td>NaN</td>\n",
       "    </tr>\n",
       "    <tr>\n",
       "      <th>2</th>\n",
       "      <td>4.428571</td>\n",
       "      <td>1.142857</td>\n",
       "      <td>6.714286</td>\n",
       "      <td>7.0</td>\n",
       "      <td>1035.714286</td>\n",
       "      <td>3.839286e+05</td>\n",
       "    </tr>\n",
       "    <tr>\n",
       "      <th>3</th>\n",
       "      <td>16.714286</td>\n",
       "      <td>2.642857</td>\n",
       "      <td>30.392857</td>\n",
       "      <td>28.0</td>\n",
       "      <td>829.642857</td>\n",
       "      <td>1.923263e+06</td>\n",
       "    </tr>\n",
       "    <tr>\n",
       "      <th>4</th>\n",
       "      <td>NaN</td>\n",
       "      <td>NaN</td>\n",
       "      <td>NaN</td>\n",
       "      <td>NaN</td>\n",
       "      <td>NaN</td>\n",
       "      <td>NaN</td>\n",
       "    </tr>\n",
       "  </tbody>\n",
       "</table>\n",
       "</div>"
      ],
      "text/plain": [
       "   avg_days_up_user  avg_times_up_user  avg_headdays_up_user  n_user_items  \\\n",
       "0          8.000000           2.000000             17.000000           1.0   \n",
       "1               NaN                NaN                   NaN           NaN   \n",
       "2          4.428571           1.142857              6.714286           7.0   \n",
       "3         16.714286           2.642857             30.392857          28.0   \n",
       "4               NaN                NaN                   NaN           NaN   \n",
       "\n",
       "   avg_price_up_user  var_price_up_user  \n",
       "0        4000.000000       0.000000e+00  \n",
       "1                NaN                NaN  \n",
       "2        1035.714286       3.839286e+05  \n",
       "3         829.642857       1.923263e+06  \n",
       "4                NaN                NaN  "
      ]
     },
     "execution_count": 14,
     "metadata": {},
     "output_type": "execute_result"
    }
   ],
   "source": [
    "df.drop('user_id', axis=1, inplace=True)\n",
    "print(df.shape)\n",
    "df.head()"
   ]
  },
  {
   "cell_type": "code",
   "execution_count": 15,
   "metadata": {},
   "outputs": [
    {
     "data": {
      "text/plain": [
       "(6,)"
      ]
     },
     "execution_count": 15,
     "metadata": {},
     "output_type": "execute_result"
    }
   ],
   "source": [
    "df.mean().shape"
   ]
  },
  {
   "cell_type": "code",
   "execution_count": 16,
   "metadata": {},
   "outputs": [
    {
     "data": {
      "text/plain": [
       "avg_days_up_user        0\n",
       "avg_times_up_user       0\n",
       "avg_headdays_up_user    0\n",
       "n_user_items            0\n",
       "avg_price_up_user       0\n",
       "var_price_up_user       0\n",
       "dtype: int64"
      ]
     },
     "execution_count": 16,
     "metadata": {},
     "output_type": "execute_result"
    }
   ],
   "source": [
    "df = df.fillna(df.mean())\n",
    "df.isnull().sum()"
   ]
  },
  {
   "cell_type": "code",
   "execution_count": 19,
   "metadata": {},
   "outputs": [
    {
     "name": "stdout",
     "output_type": "stream",
     "text": [
      "Memory usage of dataframe is 1546.94 MB\n",
      "Memory usage after optimization is: 883.96 MB\n",
      "Decreased by 42.9%\n",
      "(1503424, 6)\n",
      "(508438, 6)\n",
      "(14129821, 6)\n",
      "(12824068, 6)\n"
     ]
    }
   ],
   "source": [
    "df = reduce_mem_usage(df)\n",
    "df.reset_index(drop=True, inplace=True)\n",
    "\n",
    "train = df[:lentrain]\n",
    "test = df[lentrain:lentrain+lentest]\n",
    "train_active = df[lentrain+lentest: lentrain+lentest+lentrainactive]\n",
    "test_active = df[lentrain+lentest+lentrainactive: lentrain+lentest+lentrainactive+lentestactive]\n",
    "\n",
    "\n",
    "print(train.shape)\n",
    "print(test.shape)\n",
    "print(train_active.shape)\n",
    "print(test_active.shape)\n"
   ]
  },
  {
   "cell_type": "code",
   "execution_count": 21,
   "metadata": {},
   "outputs": [],
   "source": [
    "train.reset_index(drop=True, inplace=True)\n",
    "test.reset_index(drop=True, inplace=True)\n",
    "train_active.reset_index(drop=True, inplace=True)\n",
    "test_active.reset_index(drop=True, inplace=True)\n",
    "\n",
    "train.to_feather('../features/train/Agg_User_train.feather')\n",
    "test.to_feather('../features/test/Agg_User_test.feather')\n",
    "train_active.to_feather('../features/train_active/Agg_User_train_active.feather')\n",
    "test_active.to_feather('../features/test_active/Agg_User_test_active.feather')\n"
   ]
  },
  {
   "cell_type": "code",
   "execution_count": null,
   "metadata": {},
   "outputs": [],
   "source": []
  }
 ],
 "metadata": {
  "kernelspec": {
   "display_name": "Python 3",
   "language": "python",
   "name": "python3"
  },
  "language_info": {
   "codemirror_mode": {
    "name": "ipython",
    "version": 3
   },
   "file_extension": ".py",
   "mimetype": "text/x-python",
   "name": "python",
   "nbconvert_exporter": "python",
   "pygments_lexer": "ipython3",
   "version": "3.6.5"
  }
 },
 "nbformat": 4,
 "nbformat_minor": 2
}
